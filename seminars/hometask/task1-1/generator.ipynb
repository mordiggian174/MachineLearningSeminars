{
  "nbformat": 4,
  "nbformat_minor": 0,
  "metadata": {
    "kernelspec": {
      "display_name": "Python 3",
      "language": "python",
      "name": "python3"
    },
    "language_info": {
      "codemirror_mode": {
        "name": "ipython",
        "version": 3
      },
      "file_extension": ".py",
      "mimetype": "text/x-python",
      "name": "python",
      "nbconvert_exporter": "python",
      "pygments_lexer": "ipython3",
      "version": "3.6.2"
    },
    "colab": {
      "name": "generator.ipynb",
      "provenance": []
    }
  },
  "cells": [
    {
      "cell_type": "code",
      "metadata": {
        "id": "9CSy43_9KwdH",
        "outputId": "bce3be87-10e7-4cda-8b19-217e0b3c988a",
        "colab": {
          "base_uri": "https://localhost:8080/"
        }
      },
      "source": [
        "from zlib import crc32\n",
        "import numpy as np\n",
        "\n",
        "types = ['regression', 'classification']\n",
        "datasets = {'regression': [{'name': 'Servo Data Set',\n",
        "                            'url': 'https://archive.ics.uci.edu/ml/datasets/Servo'}, \n",
        "                           {'name': 'Forest Fires Data Set',\n",
        "                            'url': 'https://archive.ics.uci.edu/ml/datasets/Forest+Fires'},\n",
        "                           {'name': 'Boston Housing Data Set',\n",
        "                            'url': 'https://scikit-learn.org/stable/modules/generated/sklearn.datasets.load_boston.html#sklearn.datasets.load_boston'}, \n",
        "                           {'name': 'Diabetes Data Set',\n",
        "                            'url': 'https://scikit-learn.org/stable/modules/generated/sklearn.datasets.load_diabetes.html#sklearn.datasets.load_diabetes'}],\n",
        "            'classification': [{'name': 'Spambase Data Set',\n",
        "                                'url': 'https://archive.ics.uci.edu/ml/datasets/Spambase'}, \n",
        "                               {'name': 'Wine Data Set',\n",
        "                                'url': 'https://scikit-learn.org/stable/modules/generated/sklearn.datasets.load_wine.html#sklearn.datasets.load_wine'}, \n",
        "                               {'name': 'Breast Cancer Data Set',\n",
        "                                'url': 'https://scikit-learn.org/stable/modules/generated/sklearn.datasets.load_breast_cancer.html#sklearn.datasets.load_breast_cancer'}, \n",
        "                               {'name': 'MNIST',\n",
        "                                'url': 'http://yann.lecun.com/exdb/mnist/'}]}\n",
        "methods = {'regression': ['Линейная регрессия', \n",
        "                          'Перцептрон', \n",
        "                          'Надарая-Ватсона',\n",
        "                          'SVR'],\n",
        "           'classification': ['Логистическая регрессия', \n",
        "                              'Перцептрон', \n",
        "                              'k-ближайших соседей',\n",
        "                              'Метод потенциальных функций',\n",
        "                              'Метод Парзеновского окна', \n",
        "                              'SVM']}\n",
        "task = dict()\n",
        "task['mail'] = input(prompt='Enter your mail: ')\n",
        "task['id'] = crc32(task['mail'].encode('utf-8'))\n",
        "np.random.seed(task['id'])\n",
        "task['type'] = np.random.choice(types)\n",
        "task['dataset'] = np.random.choice(datasets[task['type']])\n",
        "task['method'] = np.random.choice(\n",
        "    methods[task['type']], size=3, replace=False).tolist()\n",
        "\n",
        "\n",
        "task"
      ],
      "execution_count": 1,
      "outputs": [
        {
          "name": "stdout",
          "output_type": "stream",
          "text": [
            "Enter your mail: grabovoy.av@phystech.edu\n"
          ]
        },
        {
          "output_type": "execute_result",
          "data": {
            "text/plain": [
              "{'dataset': {'name': 'Diabetes Data Set',\n",
              "  'url': 'https://scikit-learn.org/stable/modules/generated/sklearn.datasets.load_diabetes.html#sklearn.datasets.load_diabetes'},\n",
              " 'id': 1191023426,\n",
              " 'mail': 'grabovoy.av@phystech.edu',\n",
              " 'method': ['Линейная регрессия', 'SVR', 'Перцептрон'],\n",
              " 'type': 'regression'}"
            ]
          },
          "metadata": {},
          "execution_count": 1
        }
      ]
    }
  ]
}