{
 "cells": [
  {
   "cell_type": "markdown",
   "metadata": {
    "slideshow": {
     "slide_type": "slide"
    }
   },
   "source": [
    "## Обучение Ранжирования"
   ]
  },
  {
   "cell_type": "code",
   "execution_count": null,
   "metadata": {
    "id": "NMFsxsYz4u_c",
    "slideshow": {
     "slide_type": "subslide"
    }
   },
   "outputs": [],
   "source": [
    "!pip install --quiet -U  pyserini jsonlines scikit-surprise fastrank"
   ]
  },
  {
   "cell_type": "code",
   "execution_count": null,
   "metadata": {
    "id": "G6RYE_Fa4kwT",
    "slideshow": {
     "slide_type": "subslide"
    }
   },
   "outputs": [],
   "source": [
    "from google.colab import drive\n",
    "drive.mount('/content/drive')"
   ]
  },
  {
   "cell_type": "code",
   "execution_count": null,
   "metadata": {
    "id": "AF5GnzlS4-Ju",
    "slideshow": {
     "slide_type": "subslide"
    }
   },
   "outputs": [],
   "source": [
    "DATA_PATH = './data'\n",
    "!mkdir data\n",
    "!cp /content/drive/MyDrive/DATASETS/MachineLearning/topicmodeling/lenta-ru-filtered.csv data\n",
    "!cp /content/drive/MyDrive/DATASETS/MachineLearning/learningrank/MSLR-WEB10K.zip data/\n",
    "!unzip data/MSLR-WEB10K.zip -d data/mslr"
   ]
  },
  {
   "cell_type": "markdown",
   "metadata": {
    "id": "CHfqawvx4MI5",
    "slideshow": {
     "slide_type": "slide"
    }
   },
   "source": [
    "## Библиотеки"
   ]
  },
  {
   "cell_type": "code",
   "execution_count": 4,
   "metadata": {
    "id": "XRnKz3m03_8P"
   },
   "outputs": [],
   "source": [
    "import matplotlib.pyplot as plt\n",
    "from mpl_toolkits import mplot3d\n",
    "from matplotlib import gridspec\n",
    "\n",
    "from tqdm.notebook import tqdm\n",
    "import numpy as np\n",
    "import  pandas as pd\n",
    "import seaborn as sns\n",
    "import torch\n",
    "import scipy\n",
    "import json\n",
    "import re\n",
    "import os\n",
    "import jsonlines\n",
    "import lightgbm as lgb\n",
    "\n",
    "from surprise import Dataset, Reader, SVD\n",
    "from fastrank import CDataset, TrainRequest\n",
    "from sklearn.datasets import load_svmlight_file\n",
    "\n",
    "from pyserini.search import SimpleSearcher"
   ]
  },
  {
   "cell_type": "markdown",
   "metadata": {
    "id": "QWaJsKEuhN59"
   },
   "source": [
    "## Learninng to Rank"
   ]
  },
  {
   "cell_type": "markdown",
   "metadata": {
    "id": "HRnunY9k6MaE"
   },
   "source": [
    "### Загружаем датасет"
   ]
  },
  {
   "cell_type": "code",
   "execution_count": 5,
   "metadata": {
    "id": "O6I2UW-eslyE"
   },
   "outputs": [],
   "source": [
    "DATA_PATH = 'data/mslr/Fold1'\n",
    "(X_train, y_train, qid_train) = load_svmlight_file(\n",
    "    os.path.join(DATA_PATH, 'train.txt'), \n",
    "    dtype=np.float32, \n",
    "    zero_based=False,\n",
    "    query_id=True)\n",
    "(X_val, y_val, qid_val) = load_svmlight_file(\n",
    "    os.path.join(DATA_PATH, 'vali.txt'), \n",
    "    dtype=np.float32, \n",
    "    zero_based=False,\n",
    "    query_id=True)\n",
    "(X_test, y_test, qid_test) = load_svmlight_file(\n",
    "    os.path.join(DATA_PATH, 'test.txt'), \n",
    "    dtype=np.float32, \n",
    "    zero_based=False,\n",
    "    query_id=True)\n",
    "\n",
    "train_size = 50000 # set -1 to all data\n",
    "X_train = X_train.toarray()[:train_size]\n",
    "y_train = y_train[:train_size]\n",
    "qid_train = qid_train[:train_size]\n",
    "\n",
    "val_size = 10000 # set -1 to all data\n",
    "X_val = X_val.toarray()[:val_size]\n",
    "y_val = y_val[:val_size]\n",
    "qid_val = qid_val[:val_size]\n",
    "\n",
    "test_size = 1000 # set -1 to all data\n",
    "X_test = X_test.toarray()[:test_size]\n",
    "y_test = y_test[:test_size]\n",
    "qid_test = qid_test[:test_size]\n"
   ]
  },
  {
   "cell_type": "code",
   "execution_count": 22,
   "metadata": {
    "colab": {
     "base_uri": "https://localhost:8080/"
    },
    "id": "yaaXdP5BE-oe",
    "outputId": "43d937fd-9ad2-45f8-ff4b-eae7e58ac51d"
   },
   "outputs": [
    {
     "data": {
      "text/plain": [
       "(array([[2.      , 0.      , 1.      , 1.      , 2.      , 1.      ],\n",
       "        [3.      , 0.      , 3.      , 2.      , 3.      , 1.      ],\n",
       "        [2.      , 1.      , 2.      , 0.      , 2.      , 1.      ],\n",
       "        [2.      , 0.      , 1.      , 0.      , 2.      , 1.      ],\n",
       "        [6.      , 2.      , 1.      , 1.      , 6.      , 0.857143]],\n",
       "       dtype=float32),\n",
       " array([0., 0., 2., 0., 1.]),\n",
       " array([2071,  151, 4966, 5971, 1486]))"
      ]
     },
     "execution_count": 22,
     "metadata": {
      "tags": []
     },
     "output_type": "execute_result"
    }
   ],
   "source": [
    "ids = np.random.RandomState(42).randint(0, len(X_train), size=5)\n",
    "(X_train[ids][:, :6], y_train[ids], qid_train[ids])"
   ]
  },
  {
   "cell_type": "markdown",
   "metadata": {
    "id": "E3eKOKDGGi17"
   },
   "source": [
    " ### Описание модели"
   ]
  },
  {
   "cell_type": "markdown",
   "metadata": {},
   "source": [
    "<img src=\"images/learningrank.png\" alt=\"drawing\" width=\"300\"/>"
   ]
  },
  {
   "cell_type": "markdown",
   "metadata": {
    "id": "OVLd2kW76QdJ"
   },
   "source": [
    "### Определяем модель"
   ]
  },
  {
   "cell_type": "code",
   "execution_count": 6,
   "metadata": {
    "id": "BYQzr1GB6Pc_"
   },
   "outputs": [],
   "source": [
    "train_request = TrainRequest.random_forest()\n",
    "params = train_request.params\n",
    "params.num_trees = 100\n",
    "params.feature_sampling_rate = 0.5\n",
    "params.instance_sampling_rate = 0.5\n",
    "\n",
    "params.quiet = True\n",
    "params.seed = 42"
   ]
  },
  {
   "cell_type": "markdown",
   "metadata": {
    "id": "4y_JD3V66SuR"
   },
   "source": [
    "### Специальный формат данных"
   ]
  },
  {
   "cell_type": "code",
   "execution_count": 7,
   "metadata": {
    "id": "RvCitpKR1lrh"
   },
   "outputs": [],
   "source": [
    "dataset_train = CDataset.from_numpy(X_train, y_train, qid_train)\n",
    "dataset_test = CDataset.from_numpy(X_test, y_test, qid_test)\n",
    "\n",
    "features = dataset_train.feature_names()\n",
    "train_queries = sorted(dataset_train.queries())\n",
    "test_queries = sorted(dataset_test.queries())\n",
    "\n",
    "train = dataset_train.subsample_queries(train_queries)\n",
    "test = dataset_test.subsample_queries(test_queries)"
   ]
  },
  {
   "cell_type": "code",
   "execution_count": 8,
   "metadata": {
    "id": "MNolNybgvddA"
   },
   "outputs": [],
   "source": [
    "model = train.train_model(train_request)"
   ]
  },
  {
   "cell_type": "markdown",
   "metadata": {
    "id": "9T6gwSonBo53"
   },
   "source": [
    "$$DCG@K = \\sum_{k=1}^{K}\\frac{r_{true}\\bigr(\\pi^{-1}\\bigr(k\\bigr)\\bigr)}{\\log_2\\bigr(k+1\\bigr)}, \\quad IDCG@K=\\sum_{k=1}^{K}\\frac{1}{\\log_2\\bigr(k+1\\bigr)}$$\n",
    "\n",
    "$$nDCG@K = \\frac{DCG@K}{IDCG@K}$$"
   ]
  },
  {
   "cell_type": "code",
   "execution_count": 9,
   "metadata": {
    "colab": {
     "base_uri": "https://localhost:8080/"
    },
    "id": "mNX9wWi43E6K",
    "outputId": "08b9c624-e578-4ea4-f10d-cce46a296b88"
   },
   "outputs": [
    {
     "data": {
      "text/plain": [
       "{'103': 0.38701867902589504,\n",
       " '118': 0.6537915313679492,\n",
       " '13': 0.19727843198297884,\n",
       " '28': 0.6333513308383866,\n",
       " '43': 0.6354626356138486,\n",
       " '58': 0.2178022835137004,\n",
       " '73': 0.1391168867210682,\n",
       " '88': 0.4411217097171026}"
      ]
     },
     "execution_count": 9,
     "metadata": {
      "tags": []
     },
     "output_type": "execute_result"
    }
   ],
   "source": [
    " test.evaluate(model, \"NDCG@5\")"
   ]
  },
  {
   "cell_type": "markdown",
   "metadata": {
    "id": "ODLbetmhX5Ld"
   },
   "source": [
    "## Рекомендательная система"
   ]
  },
  {
   "cell_type": "code",
   "execution_count": 10,
   "metadata": {
    "colab": {
     "base_uri": "https://localhost:8080/",
     "height": 255
    },
    "id": "l6J65eQvY7_V",
    "outputId": "48d97d15-42e2-4421-e093-893ebd8b7822"
   },
   "outputs": [
    {
     "name": "stdout",
     "output_type": "stream",
     "text": [
      "Dataset ml-100k could not be found. Do you want to download it? [Y/n] y\n",
      "Trying to download dataset from http://files.grouplens.org/datasets/movielens/ml-100k.zip...\n",
      "Done! Dataset ml-100k has been saved to /root/.surprise_data/ml-100k\n"
     ]
    },
    {
     "data": {
      "text/html": [
       "<div>\n",
       "<style scoped>\n",
       "    .dataframe tbody tr th:only-of-type {\n",
       "        vertical-align: middle;\n",
       "    }\n",
       "\n",
       "    .dataframe tbody tr th {\n",
       "        vertical-align: top;\n",
       "    }\n",
       "\n",
       "    .dataframe thead th {\n",
       "        text-align: right;\n",
       "    }\n",
       "</style>\n",
       "<table border=\"1\" class=\"dataframe\">\n",
       "  <thead>\n",
       "    <tr style=\"text-align: right;\">\n",
       "      <th></th>\n",
       "      <th>uid</th>\n",
       "      <th>iid</th>\n",
       "      <th>rating</th>\n",
       "    </tr>\n",
       "  </thead>\n",
       "  <tbody>\n",
       "    <tr>\n",
       "      <th>75721</th>\n",
       "      <td>688</td>\n",
       "      <td>145</td>\n",
       "      <td>1.0</td>\n",
       "    </tr>\n",
       "    <tr>\n",
       "      <th>80184</th>\n",
       "      <td>742</td>\n",
       "      <td>446</td>\n",
       "      <td>3.0</td>\n",
       "    </tr>\n",
       "    <tr>\n",
       "      <th>19864</th>\n",
       "      <td>116</td>\n",
       "      <td>113</td>\n",
       "      <td>5.0</td>\n",
       "    </tr>\n",
       "    <tr>\n",
       "      <th>76699</th>\n",
       "      <td>696</td>\n",
       "      <td>587</td>\n",
       "      <td>3.0</td>\n",
       "    </tr>\n",
       "    <tr>\n",
       "      <th>92991</th>\n",
       "      <td>877</td>\n",
       "      <td>325</td>\n",
       "      <td>3.0</td>\n",
       "    </tr>\n",
       "  </tbody>\n",
       "</table>\n",
       "</div>"
      ],
      "text/plain": [
       "       uid  iid  rating\n",
       "75721  688  145     1.0\n",
       "80184  742  446     3.0\n",
       "19864  116  113     5.0\n",
       "76699  696  587     3.0\n",
       "92991  877  325     3.0"
      ]
     },
     "execution_count": 10,
     "metadata": {
      "tags": []
     },
     "output_type": "execute_result"
    }
   ],
   "source": [
    "data = Dataset.load_builtin('ml-100k')\n",
    "trainset = data.build_full_trainset()\n",
    "dataframe = pd.DataFrame(\n",
    "    trainset.all_ratings(),\n",
    "    columns=['uid', 'iid', 'rating'])\n",
    "dataframe.sample(5, random_state=42)"
   ]
  },
  {
   "cell_type": "code",
   "execution_count": 11,
   "metadata": {
    "id": "D7KJggDIZd4v"
   },
   "outputs": [],
   "source": [
    "algo = SVD()\n",
    "algo = algo.fit(trainset)"
   ]
  },
  {
   "cell_type": "code",
   "execution_count": 12,
   "metadata": {
    "colab": {
     "base_uri": "https://localhost:8080/"
    },
    "id": "UtHOV2RBac0O",
    "outputId": "39430388-f115-4d29-88f7-0db594991b27"
   },
   "outputs": [
    {
     "data": {
      "text/plain": [
       "(3.8507038796655597, 3.844281437272545, 4.177095033021916)"
      ]
     },
     "execution_count": 12,
     "metadata": {
      "tags": []
     },
     "output_type": "execute_result"
    }
   ],
   "source": [
    "(algo.predict('10', '4').est, \n",
    " algo.predict('10', '5').est, \n",
    " algo.predict('10', '6').est)"
   ]
  },
  {
   "cell_type": "markdown",
   "metadata": {
    "id": "qaxan7CvX8ba"
   },
   "source": [
    "## Поисковая система"
   ]
  },
  {
   "cell_type": "markdown",
   "metadata": {
    "id": "0HWdFvQx5Z8l"
   },
   "source": [
    "### Загружаем данные"
   ]
  },
  {
   "cell_type": "code",
   "execution_count": 13,
   "metadata": {
    "id": "TiznCaCf5bWv"
   },
   "outputs": [],
   "source": [
    "data = pd.read_csv('data/lenta-ru-filtered.csv')"
   ]
  },
  {
   "cell_type": "code",
   "execution_count": 23,
   "metadata": {
    "colab": {
     "base_uri": "https://localhost:8080/",
     "height": 419
    },
    "id": "lh92wdwk5eIL",
    "outputId": "1809b8b8-0b99-4b81-e97e-f13378f23ec6"
   },
   "outputs": [
    {
     "data": {
      "text/html": [
       "<div>\n",
       "<style scoped>\n",
       "    .dataframe tbody tr th:only-of-type {\n",
       "        vertical-align: middle;\n",
       "    }\n",
       "\n",
       "    .dataframe tbody tr th {\n",
       "        vertical-align: top;\n",
       "    }\n",
       "\n",
       "    .dataframe thead th {\n",
       "        text-align: right;\n",
       "    }\n",
       "</style>\n",
       "<table border=\"1\" class=\"dataframe\">\n",
       "  <thead>\n",
       "    <tr style=\"text-align: right;\">\n",
       "      <th></th>\n",
       "      <th>text</th>\n",
       "      <th>tags</th>\n",
       "      <th>len</th>\n",
       "      <th>date</th>\n",
       "    </tr>\n",
       "  </thead>\n",
       "  <tbody>\n",
       "    <tr>\n",
       "      <th>0</th>\n",
       "      <td>С 1 сентября на всей территории России вводитс...</td>\n",
       "      <td>Все</td>\n",
       "      <td>1654</td>\n",
       "      <td>31-08-1999</td>\n",
       "    </tr>\n",
       "    <tr>\n",
       "      <th>1</th>\n",
       "      <td>По сведениям миссии ООН, передаваемым РИА \"Нов...</td>\n",
       "      <td>Все</td>\n",
       "      <td>1086</td>\n",
       "      <td>31-08-1999</td>\n",
       "    </tr>\n",
       "    <tr>\n",
       "      <th>2</th>\n",
       "      <td>15 представителей национал-большевистской парт...</td>\n",
       "      <td>Все</td>\n",
       "      <td>1219</td>\n",
       "      <td>31-08-1999</td>\n",
       "    </tr>\n",
       "    <tr>\n",
       "      <th>3</th>\n",
       "      <td>Намеченная на сегодняшний день церемония вступ...</td>\n",
       "      <td>Все</td>\n",
       "      <td>3094</td>\n",
       "      <td>31-08-1999</td>\n",
       "    </tr>\n",
       "    <tr>\n",
       "      <th>4</th>\n",
       "      <td>На юге Киргизии, а именно в Баткенском и Чон-А...</td>\n",
       "      <td>Все</td>\n",
       "      <td>1354</td>\n",
       "      <td>31-08-1999</td>\n",
       "    </tr>\n",
       "    <tr>\n",
       "      <th>...</th>\n",
       "      <td>...</td>\n",
       "      <td>...</td>\n",
       "      <td>...</td>\n",
       "      <td>...</td>\n",
       "    </tr>\n",
       "    <tr>\n",
       "      <th>863280</th>\n",
       "      <td>Популярное место среди туристов в Мурманской о...</td>\n",
       "      <td>Россия</td>\n",
       "      <td>1231</td>\n",
       "      <td>11-09-2020</td>\n",
       "    </tr>\n",
       "    <tr>\n",
       "      <th>863281</th>\n",
       "      <td>Рейтинги от международного рейтингового агентс...</td>\n",
       "      <td>NaN</td>\n",
       "      <td>1425</td>\n",
       "      <td>11-09-2020</td>\n",
       "    </tr>\n",
       "    <tr>\n",
       "      <th>863282</th>\n",
       "      <td>Российские ученые нашли в Якутии новый подвид ...</td>\n",
       "      <td>События</td>\n",
       "      <td>1299</td>\n",
       "      <td>11-09-2020</td>\n",
       "    </tr>\n",
       "    <tr>\n",
       "      <th>863283</th>\n",
       "      <td>Для указания коронавируса как причины смерти ч...</td>\n",
       "      <td>Общество</td>\n",
       "      <td>2061</td>\n",
       "      <td>11-09-2020</td>\n",
       "    </tr>\n",
       "    <tr>\n",
       "      <th>863284</th>\n",
       "      <td>Президент США Дональд Трамп стал посредником в...</td>\n",
       "      <td>Политика</td>\n",
       "      <td>1020</td>\n",
       "      <td>11-09-2020</td>\n",
       "    </tr>\n",
       "  </tbody>\n",
       "</table>\n",
       "<p>863285 rows × 4 columns</p>\n",
       "</div>"
      ],
      "text/plain": [
       "                                                     text  ...        date\n",
       "0       С 1 сентября на всей территории России вводитс...  ...  31-08-1999\n",
       "1       По сведениям миссии ООН, передаваемым РИА \"Нов...  ...  31-08-1999\n",
       "2       15 представителей национал-большевистской парт...  ...  31-08-1999\n",
       "3       Намеченная на сегодняшний день церемония вступ...  ...  31-08-1999\n",
       "4       На юге Киргизии, а именно в Баткенском и Чон-А...  ...  31-08-1999\n",
       "...                                                   ...  ...         ...\n",
       "863280  Популярное место среди туристов в Мурманской о...  ...  11-09-2020\n",
       "863281  Рейтинги от международного рейтингового агентс...  ...  11-09-2020\n",
       "863282  Российские ученые нашли в Якутии новый подвид ...  ...  11-09-2020\n",
       "863283  Для указания коронавируса как причины смерти ч...  ...  11-09-2020\n",
       "863284  Президент США Дональд Трамп стал посредником в...  ...  11-09-2020\n",
       "\n",
       "[863285 rows x 4 columns]"
      ]
     },
     "execution_count": 23,
     "metadata": {
      "tags": []
     },
     "output_type": "execute_result"
    }
   ],
   "source": [
    "data"
   ]
  },
  {
   "cell_type": "markdown",
   "metadata": {
    "id": "FZhcUKifDMl2"
   },
   "source": [
    "### Описания поисковика"
   ]
  },
  {
   "cell_type": "markdown",
   "metadata": {},
   "source": [
    "![image](images/search.png)"
   ]
  },
  {
   "cell_type": "markdown",
   "metadata": {
    "id": "Bb5_EauB9xbW"
   },
   "source": [
    "### Генерация документов"
   ]
  },
  {
   "cell_type": "code",
   "execution_count": null,
   "metadata": {
    "id": "0C-Y_8Od5kC1"
   },
   "outputs": [],
   "source": [
    "COLLECTION_DIR = 'data/collection/lenta'\n",
    "if not os.path.exists(COLLECTION_DIR):\n",
    "    os.makedirs(COLLECTION_DIR)\n",
    "\n",
    "collection = data.values\n",
    "\n",
    "bath_size = 32768\n",
    "for ind in tqdm(range(0, len(collection), bath_size)):\n",
    "    files = [{'id': ind+i, \n",
    "              'contents': doc[0],\n",
    "              'tag': doc[1],\n",
    "              'date': doc[-1]}\n",
    "             for i, doc in enumerate(collection[ind:ind+bath_size])]\n",
    "    with jsonlines.open(os.path.join(COLLECTION_DIR, \n",
    "                                     '{}.jsonl'.format(ind)), \n",
    "                        mode='w') as writer:\n",
    "        writer.write_all(files)"
   ]
  },
  {
   "cell_type": "code",
   "execution_count": 25,
   "metadata": {
    "colab": {
     "base_uri": "https://localhost:8080/"
    },
    "id": "mS-40L1vC1xW",
    "outputId": "d5e0b177-f6c3-40bd-be89-870371866165"
   },
   "outputs": [
    {
     "name": "stdout",
     "output_type": "stream",
     "text": [
      "{\"id\": 863280, \"contents\": \"Популярное место среди туристов в Мурманской области завалили мусором и навозом. Об этом сообщает местное издание «Мурманский вестник». По данным портала, речь идет о Лавнинских водопадах в Кольском районе региона, ставших одним из излюбленных мест отдыха северян, где можно «искупаться и сделать красивые фотографии». Местные жители жалуются, что туристы не убирают за собой мусор и пластиковые бутылки, а недавно там появились огромные лужи навоза. «На всем пути к Лавне \\\"аромат\\\" такой, аж оторопь берет... Особое негодование вызывают болотного вида лужи навоза, смердящего и отравляющего воду. А ведь лет пять назад мы набирали чайник прямо из водопада, не боялись отравиться нечистотами», — рассказала жительница района Лиза Титова. Откуда взялся навоз возле водопадов, неизвестно, но люди предполагают, что во всем могут быть виноваты фермеры, сливающие отходы на территорию курорта. В июне сообщалось, что жители английского города Бакстон подговорили фермеров забросать навозом знаменитую голубую лагуну, чтобы отпугнуть от нее толпы приезжих. Местный репортер, побывавший возле лагуны, отметил, что место действительно потеряло былую привлекательность, поскольку уже на подъезде к нему «в нос ударяет отвратительный запах».\", \"tag\": \"Россия\", \"date\": \"11-09-2020\"}\n",
      "{\"id\": 863281, \"contents\": \"Рейтинги от международного рейтингового агентства S&P крупнейших банков Белоруссии — Беларусбанка, Белагропромбанка и Банка БелВЭБ — помещены в список на пересмотр с негативными ожиданиями из-за ряда проблем. Об этом говорится в сообщении организации, которое есть в распоряжении «Ленты.ру». Главной причиной стали ускорившийся отток вкладов и повышенный спрос на валюту, которые, в свою очередь, связаны с ситуацией после президентских выборов. Негативный эффект могут оказать государственные ограничения на хождение иностранной валюты или движение капитала, если их введут, а также отсутствие адекватной поддержки от Нацбанка. Эксперты не исключают быстрого сокращения запасов ликвидности банков. В конце текущего и начале следующего года слабые экономические показатели белорусской экономики могут снизить и прибыльность, и капитализацию указанных банков. Если это произойдет, то все три банка в течение трех месяцев лишатся рейтинга «В». В S&P отмечают, что ситуация в экономике и политическая неопределенность уже привели к обесцениванию курса национальной валюты на 20 процентов по отношению к доллару. В дальнейшем банки могут столкнуться с массовыми неплатежами по кредитам. Запасы капитала белорусских банков оцениваются как низкие по международным стандартам. Ранее о возможности снижения собственных рейтингов Беларусбанка, Белинвестбанка, Белгазпромбанка и БПС-Сбербанка заявили в аналитическом агентстве Moody's,\", \"tag\": NaN, \"date\": \"11-09-2020\"}\n",
      "{\"id\": 863282, \"contents\": \"Российские ученые нашли в Якутии новый подвид арктических бабочек. Об этом ТАСС сообщил профессор кафедры экологии, биохимии и биотехнологии АлтГУ Роман Яковлев. Находка была обнаружена во время экспедиции сотрудников Алтайского государственного университета (АлтГУ) и Зоологического института РАН (Санкт-Петербург). Новую бабочку поймали за полярным кругом, высоко в горах на высоте 1,4 тысячи метров над уровнем моря. «Это огромная высота для тех широт — там фактически нет растительности, одни камни», — уточнил Яковлев. По его словам, обнаружение бабочки можно считать сенсацией, поскольку эта группа насекомых считается хорошо изученной. Он отметил, что открытие стало возможным из-за того, что до сих пор в России есть малоизученные участки, в первую очередь на севере. Новые бабочки внешне похожи на представителей самого редкого вида заполярных бабочек из семейства парусников, но они крупнее, с более продолговатыми крыльями без рисунка и с красными штрихами. В ходе морфологических и генетических анализов были выявлены отличия нового подвида от известных видов Parnassius tenedius и Parnassius arcticus. Новому насекомому дали название Parnassius arcticus arbugaevi в честь директора эколого-этнографического комплекса «Чочур Муран» Германа Арбугаева, который помогал биологам в изучении.\", \"tag\": \"События\", \"date\": \"11-09-2020\"}\n",
      "{\"id\": 863283, \"contents\": \"Для указания коронавируса как причины смерти человека необходимо патологоанатомическое заключение, оно обязательно в случае летального исхода при инфекционном заболевании. Это и другие правила учета смертей от COVID-19 в России перечислены на сайте «Стопкоронавирус.рф». В России в списки умерших попадают только те, у кого главной причиной смерти стал коронавирус, а не уже имеющиеся хронические заболевания, обострившиеся из-за инфекции. Речь идет о разнице формулировок — «смерть от COVID-19», когда коронавирус стал прямой причиной смерти, и «смерть с COVID-19», когда есть подтверждение заражения, но к летальному исходу привели другие причины. В публикации так же сказано, что по итогам вскрытия диагноз «коронавирусная инфекция» может быть поставлен и в том случае, если тест был отрицательным. Как объяснил главный внештатный патологоанатом Минздрава, профессор и академик РАН Георгий Франк, если у человека есть, например, рак желудка с метастазами, и легкая форма коронавируса, то на первое место выходит рак — он приводит к гибели пациента. Может быть и наоборот, когда онкологическое заболевание слабее инфекции, и уходит на второй план. В публикации сказано, что «число умерших — это всегда отсроченное число», потому что коронавирус длится долго и пациент может провести в больнице несколько недель, а исход болезни непредсказуем наверняка. В связи с этим нет смысла считать смертность в момент пика и сравнивать со странами, которые уже прошли пик. На «Стопкоронавирус.рф» уточнили, что ежедневно публикуют только те случаи смерти, в которых коронавирус стал основной причиной. 7 сентября глава Росздравнадзора Алла Самойлова заявила, что в России обнаружили больницы, скрывавшие смертность пациентов от коронавируса. Она объяснила, что в некоторых больницах «практически ноль» летальных случаев преподносились как смертность от COVID-19 — ее переносили на другие заболевания. Глава Минздрава Михаил Мурашко на это ответил, что выводы ведомства не учитывают данные по всей России, так как они были сделаны на основе проверок отдельных учреждений.\", \"tag\": \"Общество\", \"date\": \"11-09-2020\"}\n",
      "{\"id\": 863284, \"contents\": \"Президент США Дональд Трамп стал посредником в новом примирении на Ближнем Востоке: Бахрейн установил дипломатические отношения с Израилем. Об этом американский лидер объявил у себя в Twitter. «Сегодня —  еще один исторический прорыв! Двое наших замечательных друзей, Израиль и Королевство Бахрейн, договорились заключить мир — вторая арабская страна, заключившая мир с Израилем за 30 дней», — написал Трамп. В совместном заявлении страны объявили, что этот шаг позволит дальше двигаться к миру во всем регионе. Как отмечают эксперты Reuters, этот процесс связан с усилением Ирана, которое видится угрозой большинству его соседей по Ближнему Востоку. Ранее 11 сентября стало известно, что Трампа во второй раз за последнее время выдвинули на Нобелевскую премию мира. Один из авторов этой инициативы считает, что американский президент заслуживает ее за примирение Израиля и Объединенных Арабских Эмиратов, другой — что его стоит наградить за нормализацию отношений между Сербией и частично признанной республикой Косово.\", \"tag\": \"Политика\", \"date\": \"11-09-2020\"}\n"
     ]
    }
   ],
   "source": [
    "with open(os.path.join(COLLECTION_DIR, \n",
    "                       '{}.jsonl'.format(ind))) as f:\n",
    "  print('\\n'.join(f.read().splitlines()[-5:]))"
   ]
  },
  {
   "cell_type": "markdown",
   "metadata": {
    "id": "uMJGkfMFFD_u"
   },
   "source": [
    "### Построение индекса"
   ]
  },
  {
   "cell_type": "code",
   "execution_count": 26,
   "metadata": {
    "id": "qmz3rPxHFwmG"
   },
   "outputs": [],
   "source": [
    "INDEX_DIR = 'data/index/lenta'\n",
    "if not os.path.exists(INDEX_DIR):\n",
    "    os.makedirs(INDEX_DIR)"
   ]
  },
  {
   "cell_type": "code",
   "execution_count": null,
   "metadata": {
    "id": "pn854_EHEsAk"
   },
   "outputs": [],
   "source": [
    "!python -m pyserini.index -collection JsonCollection -generator DefaultLuceneDocumentGenerator \\\n",
    " -threads 16 -input {COLLECTION_DIR} \\\n",
    " -index {INDEX_DIR} -storePositions -storeDocvectors -storeRaw"
   ]
  },
  {
   "cell_type": "markdown",
   "metadata": {
    "id": "wcG1skadLa7n"
   },
   "source": [
    "### Используем поисковый индекс"
   ]
  },
  {
   "cell_type": "markdown",
   "metadata": {
    "id": "Kkv6vU1XOZWb"
   },
   "source": [
    "#### BM-25"
   ]
  },
  {
   "cell_type": "markdown",
   "metadata": {
    "id": "54hGgTGBNdoi"
   },
   "source": [
    "Пусть дан запрос $Q$, содержащий слова $q_1, ..., q_n$, тогда функция BM25 даёт следующую оценку релевантности документа $D$ запросу $Q$:\n",
    "$$\\text{score}(D,Q) = \\sum_{i=1}^{n} \\text{IDF}(q_i) \\cdot \\frac{tf(q_i, D) \\cdot (k_1 + 1)}{tf(q_i, D) + k_1 \\cdot (1 - b + b \\cdot \\frac{|D|}{\\text{avgdl}})},$$\n",
    "где $tf(q_i, D)$ есть частота слова $q_i$ в документе $D$, $|D|$ есть длина документа (количество слов в нём), а $vgdl$ — средняя длина документа в коллекции. $k_1$ и $b$ — свободные коэффициенты."
   ]
  },
  {
   "cell_type": "code",
   "execution_count": 28,
   "metadata": {
    "colab": {
     "base_uri": "https://localhost:8080/"
    },
    "id": "EVpK0wrxKiEZ",
    "outputId": "13855bc2-72ca-460f-a681-421c04633b41"
   },
   "outputs": [
    {
     "name": "stdout",
     "output_type": "stream",
     "text": [
      "{\n",
      "  \"id\" : 331463,\n",
      "  \"contents\" : \"Группа хакеров пообещала возродить Usenet-поисковик Newzbin. Соответствующее письмо было разослано зарегистрированным пользователям сервиса, пишет TorrentFreak. В письме группа хакеров, называющая себя \\\"Team R Dogs\\\", сообщила, что ей удалось получить большую часть исходного кода и баз данных ресурса. Ранее бывший редактор поисковика под ником DeepSharer сообщил в своем блоге, что, по слухам, исходный код действительно был выкраден. С помощью украденных файлов \\\"Team R Dogs\\\" надеется запустить новый поисковик под именем Newzbin 2. При этом хакер под псевдонимом Mr. White заявил: \\\"Мы слишком сильно любили [этот ресурс], чтобы позволить ему умереть\\\". Он также сообщил, что поисковик заработает в ближайшее время. В марте 2010 года британский суд постановил, что поисковик Newzbin нарушает авторские права. Основанием для принятия такого решения стала жалоба, поданная Ассоциацией кинопроизводителей (MPA). Эта организация защищает права крупнейших киностудий, в числе которых 20th Century Fox, Universal Studios, Warner Bros., Paramount, Disney и Columbia Pictures. Суд приказал Newzbin прекратить индексировать фильмы и телепрограммы, права на которые принадлежат членам MPA. Также поисковик обязали оплатить судебные издержки ассоциации, что привело к закрытию ресурса. Как пишет DeepSharer, предварительная сумма штрафа без постановления о нанесенном ущербе составляет 230 тысяч фунтов.\",\n",
      "  \"tag\" : \"Все\",\n",
      "  \"date\" : \"24-05-2010\"\n",
      "}\n"
     ]
    }
   ],
   "source": [
    "searcher = SimpleSearcher(INDEX_DIR)\n",
    "searcher.set_bm25()\n",
    "hits = searcher.search('Поисковик', k=1)\n",
    "\n",
    "for i in range(len(hits)):\n",
    "    doc = searcher.doc(hits[i].docid)\n",
    "    print(doc.raw())"
   ]
  },
  {
   "cell_type": "markdown",
   "metadata": {
    "id": "xhcL0CgyOt0M"
   },
   "source": [
    "#### QLD\n",
    "\n",
    "Идея: латентное размещение Дирихле (отсылка к тематическим моделям)"
   ]
  },
  {
   "cell_type": "code",
   "execution_count": 29,
   "metadata": {
    "colab": {
     "base_uri": "https://localhost:8080/"
    },
    "id": "KizfqcYML5Zl",
    "outputId": "0efc3df1-8048-4a20-ab03-c3188b1f46d3"
   },
   "outputs": [
    {
     "name": "stdout",
     "output_type": "stream",
     "text": [
      "{\n",
      "  \"id\" : 331463,\n",
      "  \"contents\" : \"Группа хакеров пообещала возродить Usenet-поисковик Newzbin. Соответствующее письмо было разослано зарегистрированным пользователям сервиса, пишет TorrentFreak. В письме группа хакеров, называющая себя \\\"Team R Dogs\\\", сообщила, что ей удалось получить большую часть исходного кода и баз данных ресурса. Ранее бывший редактор поисковика под ником DeepSharer сообщил в своем блоге, что, по слухам, исходный код действительно был выкраден. С помощью украденных файлов \\\"Team R Dogs\\\" надеется запустить новый поисковик под именем Newzbin 2. При этом хакер под псевдонимом Mr. White заявил: \\\"Мы слишком сильно любили [этот ресурс], чтобы позволить ему умереть\\\". Он также сообщил, что поисковик заработает в ближайшее время. В марте 2010 года британский суд постановил, что поисковик Newzbin нарушает авторские права. Основанием для принятия такого решения стала жалоба, поданная Ассоциацией кинопроизводителей (MPA). Эта организация защищает права крупнейших киностудий, в числе которых 20th Century Fox, Universal Studios, Warner Bros., Paramount, Disney и Columbia Pictures. Суд приказал Newzbin прекратить индексировать фильмы и телепрограммы, права на которые принадлежат членам MPA. Также поисковик обязали оплатить судебные издержки ассоциации, что привело к закрытию ресурса. Как пишет DeepSharer, предварительная сумма штрафа без постановления о нанесенном ущербе составляет 230 тысяч фунтов.\",\n",
      "  \"tag\" : \"Все\",\n",
      "  \"date\" : \"24-05-2010\"\n",
      "}\n"
     ]
    }
   ],
   "source": [
    "searcher = SimpleSearcher(INDEX_DIR)\n",
    "searcher.set_qld()\n",
    "hits = searcher.search('Поисковик', k=1)\n",
    "\n",
    "for i in range(len(hits)):\n",
    "    doc = searcher.doc(hits[i].docid)\n",
    "    print(doc.raw())"
   ]
  },
  {
   "cell_type": "markdown",
   "metadata": {
    "id": "rCZXCP5SPgT9"
   },
   "source": [
    "#### RM3"
   ]
  },
  {
   "cell_type": "markdown",
   "metadata": {
    "id": "kg1yKfAwVGb2"
   },
   "source": [
    "Пусть дан запрос $Q$, содержащий слова $q_1, ..., q_n$, тогда функция BM25 даёт следующую оценку релевантности токена $t$ запросу $Q$\n",
    "$$score\\bigr(t, Q\\bigr) = \\alpha \\cdot \\text{softmax}\\left(\\sum_{d\\in PRD}\\left[\\frac{tf\\bigr(t, d\\bigr)}{|d|}\\cdot\\prod_{i=1}^{k}\\frac{tf\\bigr(q_i, d\\bigr)+\\mu p\\bigr(q_i\\bigr)}{|d|+\\mu}\\right]\\right) + \\left(1-\\alpha\\right)\\cdot\\left(\\frac{tf\\bigr(t, Q\\bigr)}{|Q|}\\right),$$\n",
    "где $tf(t, d)$ есть частота слова $t$ в документе $d$, $|d|$ есть длина документа (количество слов в нём), а $\\alpha$ и $\\mu$ — свободные коэффициенты."
   ]
  },
  {
   "cell_type": "code",
   "execution_count": 30,
   "metadata": {
    "colab": {
     "base_uri": "https://localhost:8080/"
    },
    "id": "2Y80Rw8uNNrr",
    "outputId": "5cfc0d1b-683b-4853-ccd8-5dbd03a496d2"
   },
   "outputs": [
    {
     "name": "stdout",
     "output_type": "stream",
     "text": [
      "{\n",
      "  \"id\" : 338651,\n",
      "  \"contents\" : \"Китайский поисковик Baidu разрабатывает собственную мобильную ОС с открытым исходным кодом. Об этом пишет InformationWeek со ссылкой на публикации в китайских газетах. C помощью новинки Baidu рассчитывает укрепить свои позиции на рынке мобильного поиска в стране. Также она сможет составить конкуренцию мобильной ОС Google Android, которая является одной из самых популярных мобильных платформ в мире. Сообщается, что разработкой ОС занимаются бывшие сотрудники Google, которые покинули китайское представительство американской компании после того, как та прекратила осуществлять цензуру поисковых запросов в Китае. Baidu является самой популярной поисковой системой в Китае. Сообщается, что ей принадлежит более 70 процентов рынка поисковых запросов в стране. При этом по количеству мобильных поисковых запросов Baidu находится приблизительно на одном уровне с Google - на эти поисковики приходится примерно по четверти от общего числа мобильного поиска. В собственной ОС Baidu сможет использовать свой поисковый механизм \\\"по умолчанию\\\", а также встроить возможности поиска непосредственно в ОС. В случае, если решение Baidu будет востребовано у производителей устройств, доля поисковика Baidu на рынке мобильного поиска может вырасти. Отметим, что в ходе последнего конференц-звонка, посвященного финансовым показателям Google, представители компании сообщили, что каждый день по всему миру активируется более 160 тысяч смартфонов с Android. Ранее представители Google заявляли, что поисковик продвигает мобильную платформу прежде всего как канал для большего распространения устройств с возможностью работы в Сети.\",\n",
      "  \"tag\" : \"Все\",\n",
      "  \"date\" : \"20-07-2010\"\n",
      "}\n"
     ]
    }
   ],
   "source": [
    "searcher = SimpleSearcher(INDEX_DIR)\n",
    "searcher.set_rm3()\n",
    "hits = searcher.search('Поисковик', k=1)\n",
    "\n",
    "for i in range(len(hits)):\n",
    "    doc = searcher.doc(hits[i].docid)\n",
    "    print(doc.raw())"
   ]
  }
 ],
 "metadata": {
  "celltoolbar": "Slideshow",
  "colab": {
   "name": "main.ipynb",
   "provenance": []
  },
  "kernelspec": {
   "display_name": "Python 3",
   "language": "python",
   "name": "python3"
  },
  "language_info": {
   "codemirror_mode": {
    "name": "ipython",
    "version": 3
   },
   "file_extension": ".py",
   "mimetype": "text/x-python",
   "name": "python",
   "nbconvert_exporter": "python",
   "pygments_lexer": "ipython3",
   "version": "3.7.3"
  }
 },
 "nbformat": 4,
 "nbformat_minor": 1
}
