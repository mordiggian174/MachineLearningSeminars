{
  "nbformat": 4,
  "nbformat_minor": 0,
  "metadata": {
    "kernelspec": {
      "display_name": "Python 3",
      "language": "python",
      "name": "python3"
    },
    "language_info": {
      "codemirror_mode": {
        "name": "ipython",
        "version": 3
      },
      "file_extension": ".py",
      "mimetype": "text/x-python",
      "name": "python",
      "nbconvert_exporter": "python",
      "pygments_lexer": "ipython3",
      "version": "3.7.3"
    },
    "colab": {
      "name": "main.ipynb",
      "provenance": []
    }
  },
  "cells": [
    {
      "cell_type": "markdown",
      "metadata": {
        "id": "dgFNZGbprC7Y"
      },
      "source": [
        "# Рекомендательные системы"
      ]
    },
    {
      "cell_type": "code",
      "metadata": {
        "id": "o7EB2LAELXjW"
      },
      "source": [
        "!pip install --quiet -U jsonlines pyserini jsonlines scikit-surprise fastrank"
      ],
      "execution_count": null,
      "outputs": []
    },
    {
      "cell_type": "markdown",
      "metadata": {
        "id": "75CyfArkrF61"
      },
      "source": [
        "# Библиотеки"
      ]
    },
    {
      "cell_type": "code",
      "metadata": {
        "id": "WIijCu1mrHZB"
      },
      "source": [
        "import matplotlib.pyplot as plt\n",
        "from mpl_toolkits import mplot3d\n",
        "from matplotlib import gridspec\n",
        "\n",
        "from tqdm.notebook import tqdm\n",
        "import numpy as np\n",
        "import  pandas as pd\n",
        "import seaborn as sns\n",
        "import torch\n",
        "import scipy\n",
        "import json\n",
        "import sys\n",
        "import re\n",
        "import os\n",
        "\n",
        "from functools import partial\n",
        "from multiprocess import Pool\n",
        "\n",
        "from surprise import Dataset, Reader, SVD, KNNBasic"
      ],
      "execution_count": null,
      "outputs": []
    },
    {
      "cell_type": "markdown",
      "metadata": {
        "id": "fk0bRu8RKtkW"
      },
      "source": [
        "## Данные"
      ]
    },
    {
      "cell_type": "code",
      "metadata": {
        "id": "f8Ew7yixrM5D"
      },
      "source": [
        "data = Dataset.load_builtin('ml-100k')\n",
        "trainset = data.build_full_trainset()\n",
        "dataframe = pd.DataFrame(\n",
        "    trainset.all_ratings(),\n",
        "    columns=['uid', 'iid', 'rating'])\n",
        "dataframe.sample(5, random_state=42)"
      ],
      "execution_count": null,
      "outputs": []
    },
    {
      "cell_type": "code",
      "metadata": {
        "id": "pHalEh5B4Vil"
      },
      "source": [
        "uids = np.unique(dataframe['uid'].values)[:300]\n",
        "means = {uid: dataframe.loc[dataframe['uid'] == uid]['rating'].values.mean() for uid in uids}"
      ],
      "execution_count": null,
      "outputs": []
    },
    {
      "cell_type": "code",
      "metadata": {
        "id": "zudVqCLX6YpS"
      },
      "source": [
        "mapping = dict()\n",
        "for index in tqdm(dataframe.index):\n",
        "    item = dataframe.loc[index]\n",
        "    if item['uid'] in means:\n",
        "        if item['uid'] not in mapping:\n",
        "            mapping[item['uid']] = dict()\n",
        "        mapping[item['uid']][item['iid']] = item['rating']"
      ],
      "execution_count": null,
      "outputs": []
    },
    {
      "cell_type": "code",
      "metadata": {
        "id": "Ekw-G6oZG5ep"
      },
      "source": [
        "mapping_delta = dict()\n",
        "for index in tqdm(dataframe.index):\n",
        "    item = dataframe.loc[index]\n",
        "    if item['uid'] in means:\n",
        "        if item['uid'] not in mapping_delta:\n",
        "            mapping_delta[item['uid']] = dict()\n",
        "        mapping_delta[item['uid']][item['iid']] = item['rating'] - means[item['uid']]"
      ],
      "execution_count": null,
      "outputs": []
    },
    {
      "cell_type": "code",
      "metadata": {
        "id": "tI1y4Ws_5PYI"
      },
      "source": [
        "def r(uid, iid=None, delta=False):\n",
        "    if uid not in mapping:\n",
        "        return None\n",
        "    \n",
        "    mean = means[uid]\n",
        "    if iid is None:\n",
        "        if delta:\n",
        "            all_iid = mapping_delta.get(uid, None)\n",
        "            return [(key, all_iid[key]) for key in all_iid]\n",
        "        else:\n",
        "            all_iid = mapping.get(uid, None)\n",
        "            return [(key, all_iid[key]) for key in all_iid]\n",
        "    else:\n",
        "        if delta:\n",
        "            return mapping_delta.get(uid, None).get(iid, None)\n",
        "        else:\n",
        "            return mapping.get(uid, None).get(iid, None)"
      ],
      "execution_count": null,
      "outputs": []
    },
    {
      "cell_type": "markdown",
      "metadata": {
        "id": "-EXBfF0JAC5g"
      },
      "source": [
        "## Константная модель"
      ]
    },
    {
      "cell_type": "code",
      "metadata": {
        "id": "exyEfin4AGE6"
      },
      "source": [
        "def predict_user_constant(uid, iid):\n",
        "    return means[uid]"
      ],
      "execution_count": null,
      "outputs": []
    },
    {
      "cell_type": "code",
      "metadata": {
        "id": "h_bn0ZEVAPuc"
      },
      "source": [
        "%%time\n",
        "predict_user_constant(1, 43)"
      ],
      "execution_count": null,
      "outputs": []
    },
    {
      "cell_type": "code",
      "metadata": {
        "id": "jGS_RtBIKD5q"
      },
      "source": [
        "r(1, 43)"
      ],
      "execution_count": null,
      "outputs": []
    },
    {
      "cell_type": "markdown",
      "metadata": {
        "id": "mevjAIsgtecU"
      },
      "source": [
        "## Корреляционная система"
      ]
    },
    {
      "cell_type": "markdown",
      "metadata": {
        "id": "yaCuhreU7M70"
      },
      "source": [
        "$$\n",
        "  \\hat{r}_{ui} = \\bar{r}_{u} + \\frac{\\sum S(u, u')\\cdot \\left(r_{u'i} - \\bar{r}_{u'}\\right)}{\\sum S(u, u')} \n",
        "$$"
      ]
    },
    {
      "cell_type": "code",
      "metadata": {
        "id": "XXZaVq4Jz_NG"
      },
      "source": [
        "def predict_user_score(uid, iid, scores):\n",
        "    weighted_score = 0\n",
        "    list_of_ids = []\n",
        "\n",
        "    pair_list = [(id, iid) for id in uids]\n",
        "    f = lambda x: (x[0], x[1], r(*x, delta=True))\n",
        "    \n",
        "    for id, iid, r_id_iid_delta in Pool(processes=2).imap_unordered(f, \n",
        "                                                                    pair_list):\n",
        "        if id != uid:\n",
        "            if r_id_iid_delta is not None:\n",
        "                list_of_ids.append(id)\n",
        "                weighted_score += scores[uid, id]*(r_id_iid_delta)\n",
        "\n",
        "    if len(list_of_ids):\n",
        "        return means[uid] + weighted_score/scores[uid, list_of_ids].sum()\n",
        "    else:\n",
        "        return None"
      ],
      "execution_count": null,
      "outputs": []
    },
    {
      "cell_type": "markdown",
      "metadata": {
        "id": "UcS018_lubAT"
      },
      "source": [
        "### Мера сходства пользователей\n",
        "$$\n",
        "  S_{u}\\bigr(u_1, u_2\\bigr) = ?\n",
        "$$"
      ]
    },
    {
      "cell_type": "markdown",
      "metadata": {
        "id": "yGm7wF-9uxy3"
      },
      "source": [
        "#### Определим как ср. кв. отклоение средних оценок\n",
        "$$\n",
        "  S_{u}\\bigr(u_1, u_2\\bigr) = \\exp\\bigr(-\\left(\\bar{r}_{u_1} - \\bar{r}_{u_2}\\right)^2\\bigr)\n",
        "$$"
      ]
    },
    {
      "cell_type": "code",
      "metadata": {
        "id": "YXgdf2yrvN3C"
      },
      "source": [
        "def user_metric_one(u1, u2):\n",
        "    r'''\n",
        "    Оценка схожести объектов на основе квадрата разности средних оценок.\n",
        "\n",
        "    :param u1: идентификатор первого пользователя\n",
        "    :type u1: int\n",
        "    :param u2: иденттификатор второго пользователя\n",
        "    :type u2: int\n",
        "\n",
        "    :return: оценку схожести объектов\n",
        "    :rtype: float\n",
        "    '''\n",
        "    ru1 = means[u1]\n",
        "    ru2 = means[u2]\n",
        "    return np.exp(-1*(ru1 - ru2)**2)"
      ],
      "execution_count": null,
      "outputs": []
    },
    {
      "cell_type": "markdown",
      "metadata": {
        "id": "plNQuTh1wK8K"
      },
      "source": [
        "##### Проанализируем расстояния"
      ]
    },
    {
      "cell_type": "code",
      "metadata": {
        "id": "rr1dR277siTt"
      },
      "source": [
        "scores = np.zeros(shape=[len(uids), len(uids)])\n",
        "\n",
        "def f(pair):\n",
        "    i, j = pair\n",
        "    return i, j, user_metric_one(uids[i], uids[j])\n",
        "\n",
        "pair_list = [(i, j) \\\n",
        "             for i in range(len(uids)) \\\n",
        "             for j in range(len(uids)) if i < j]\n",
        "\n",
        "for i, j, score in tqdm(Pool(processes=2).imap_unordered(f, pair_list), total=len(pair_list)):\n",
        "    scores[i, j] = score\n",
        "    scores[j, i] = score"
      ],
      "execution_count": null,
      "outputs": []
    },
    {
      "cell_type": "code",
      "metadata": {
        "id": "_stSFl36zPZ0"
      },
      "source": [
        "sns.heatmap(data=scores)\n",
        "plt.show()"
      ],
      "execution_count": null,
      "outputs": []
    },
    {
      "cell_type": "code",
      "metadata": {
        "id": "LIlzqdcD2gcP"
      },
      "source": [
        "%%time\n",
        "predict_user_score(1, 43, scores)"
      ],
      "execution_count": null,
      "outputs": []
    },
    {
      "cell_type": "code",
      "metadata": {
        "id": "uzKsepLpKh6a"
      },
      "source": [
        "%%time\n",
        "predict_user_constant(1, 43)"
      ],
      "execution_count": null,
      "outputs": []
    },
    {
      "cell_type": "code",
      "metadata": {
        "id": "Dbb3YKjvKGav"
      },
      "source": [
        "r(1, 43)"
      ],
      "execution_count": null,
      "outputs": []
    },
    {
      "cell_type": "markdown",
      "metadata": {
        "id": "5WSd4s1_PpZT"
      },
      "source": [
        "## SVD"
      ]
    },
    {
      "cell_type": "code",
      "metadata": {
        "id": "vylxRpdQPYUe"
      },
      "source": [
        "algo = SVD()\n",
        "algo = algo.fit(trainset)"
      ],
      "execution_count": null,
      "outputs": []
    },
    {
      "cell_type": "code",
      "metadata": {
        "id": "HMsiHhOQSR8w"
      },
      "source": [
        "algo.predict('1', '43').est"
      ],
      "execution_count": null,
      "outputs": []
    },
    {
      "cell_type": "markdown",
      "metadata": {
        "id": "TNtdCeZtRZrg"
      },
      "source": [
        "### Матричное представление пользователей"
      ]
    },
    {
      "cell_type": "code",
      "metadata": {
        "id": "LUXyrj6DRMee"
      },
      "source": [
        "algo.pu.shape"
      ],
      "execution_count": null,
      "outputs": []
    },
    {
      "cell_type": "markdown",
      "metadata": {
        "id": "tdGpdyZLRc7-"
      },
      "source": [
        "### Матричное представление товаров"
      ]
    },
    {
      "cell_type": "code",
      "metadata": {
        "id": "4S1PatuzRSZP"
      },
      "source": [
        "algo.qi.shape"
      ],
      "execution_count": null,
      "outputs": []
    },
    {
      "cell_type": "markdown",
      "metadata": {
        "id": "bATSyvAeUZ9G"
      },
      "source": [
        "### Пример как предсказывается при помощи матричного разложения"
      ]
    },
    {
      "cell_type": "code",
      "metadata": {
        "id": "3-cUCjbsSgR3"
      },
      "source": [
        "algo.trainset.to_inner_iid('43'), algo.trainset.to_inner_uid('1')"
      ],
      "execution_count": null,
      "outputs": []
    },
    {
      "cell_type": "code",
      "metadata": {
        "id": "Zgh8TEYJRp8V"
      },
      "source": [
        "(algo.pu[118]*algo.qi[615]).sum() + algo.bu[118] + algo.bi[615] + algo.trainset.global_mean"
      ],
      "execution_count": null,
      "outputs": []
    }
  ]
}