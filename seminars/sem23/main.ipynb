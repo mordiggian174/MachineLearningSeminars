{
  "nbformat": 4,
  "nbformat_minor": 0,
  "metadata": {
    "kernelspec": {
      "display_name": "Python 3",
      "language": "python",
      "name": "python3"
    },
    "language_info": {
      "codemirror_mode": {
        "name": "ipython",
        "version": 3
      },
      "file_extension": ".py",
      "mimetype": "text/x-python",
      "name": "python",
      "nbconvert_exporter": "python",
      "pygments_lexer": "ipython3",
      "version": "3.7.3"
    },
    "colab": {
      "name": "main.ipynb",
      "provenance": []
    }
  },
  "cells": [
    {
      "cell_type": "markdown",
      "metadata": {
        "id": "tGz4E4nwf-nK"
      },
      "source": [
        "# Предсказание временных рядов"
      ]
    },
    {
      "cell_type": "markdown",
      "metadata": {
        "id": "eFsW3PZ8f-nR"
      },
      "source": [
        "## Библиотеки"
      ]
    },
    {
      "cell_type": "code",
      "metadata": {
        "id": "K5YtV-I6f-nS"
      },
      "source": [
        "import matplotlib.pyplot as plt\n",
        "from mpl_toolkits import mplot3d\n",
        "from matplotlib import gridspec\n",
        "\n",
        "from tqdm.notebook import tqdm\n",
        "import numpy as np\n",
        "import  pandas as pd\n",
        "import seaborn as sns\n",
        "import torch\n",
        "import scipy\n",
        "import json\n",
        "import sys\n",
        "import re\n",
        "import os\n",
        "\n",
        "import numpy as np\n",
        "import matplotlib.pyplot as plt\n",
        "\n",
        "import pandas as pd\n",
        "\n",
        "from sklearn.cluster import AgglomerativeClustering\n",
        "\n",
        "from sklearn.manifold import MDS\n",
        "\n",
        "from sklearn.decomposition import PCA\n",
        "\n",
        "from mpl_toolkits.mplot3d import Axes3D\n",
        "\n",
        "import scipy as sp\n",
        "\n",
        "import numpy as np\n",
        "from scipy import optimize\n",
        "import matplotlib.pyplot as plt\n",
        "from tqdm import tqdm_notebook as tqdm\n",
        "from scipy.special import softmax\n",
        "\n",
        "import pandas as pd\n",
        "\n",
        "from sklearn.preprocessing import scale\n",
        "\n",
        "import torch\n",
        "import torch.nn as nn\n",
        "import torch.nn.functional as F\n",
        "import torch.optim as optim\n",
        "\n",
        "from sklearn.decomposition import PCA\n",
        "\n",
        "from scipy.interpolate import interp1d\n",
        "\n",
        "import math\n"
      ],
      "execution_count": null,
      "outputs": []
    },
    {
      "cell_type": "markdown",
      "metadata": {
        "id": "XU1jK2Ch5VcD"
      },
      "source": [
        "### Вспомагательные функции"
      ]
    },
    {
      "cell_type": "code",
      "metadata": {
        "id": "pyY1dxG83Mj7"
      },
      "source": [
        "def RandomFunction(x, n=2):\n",
        "    N = np.arange(1, n + 1, 1)\n",
        "    A = np.random.randn(n)\n",
        "    B = np.random.randn(n)\n",
        "    A0 = np.random.randn(1)\n",
        "    \n",
        "    y = 0.5*np.ones_like(x)*A0\n",
        "    \n",
        "    for n, a, b in zip(N, A, B):\n",
        "        y += a*np.sin(n*x) + b*np.cos(n*x)\n",
        "    \n",
        "    return y\n",
        "\n",
        "def GenerateImpulses(n = 20, T = 2, k = 2, function = np.sin):\n",
        "    \n",
        "    t = int(T)//2\n",
        "    \n",
        "    x = np.linspace(start = 0, stop = T*np.pi, num = n)\n",
        "    \n",
        "    List_y = []\n",
        "    \n",
        "    for i in range(k):\n",
        "        y_temp = 5*np.random.randn()*function(x + np.random.rand()*2*np.pi)\n",
        "        List_y.append(y_temp)\n",
        "    \n",
        "    y = np.array(List_y[0])\n",
        "    \n",
        "    y2 = List_y[np.random.randint(0, k)]\n",
        "    \n",
        "    for i in range(0, t):\n",
        "        if np.random.rand() < 0.1:\n",
        "            y2 = List_y[np.random.randint(0, k)]\n",
        "        \n",
        "        ind = np.where(x <= 2*(i + 1)*np.pi)\n",
        "        ind = np.where(x[ind] > 2*i*np.pi)\n",
        "        y[ind] = y2[ind]\n",
        "        \n",
        "    return y\n",
        "    \n",
        "\n",
        "def GeneratorOfTimeSeries(n = 100, m = 16384, k = 20):\n",
        "    T1 = []\n",
        "    T2 = []\n",
        "    T3 = []\n",
        "    for _ in range(m):\n",
        "        numPi = 80 + np.random.randint(0, 20)\n",
        "        numPi = n//k\n",
        "        function = np.sin\n",
        "        if np.random.rand() < -4*0.5:\n",
        "            function = RandomFunction\n",
        "            \n",
        "        series = GenerateImpulses(n = n, T = numPi, k = np.random.randint(K, K+1), function=function)\n",
        "        T1.append(series + 0.5*np.random.randn(n))\n",
        "    T1 = np.asarray(T1)\n",
        "    \n",
        "    return np.reshape(T1, [T1.shape[0], T1.shape[1], 1])\n",
        "\n",
        "  \n",
        "\n",
        "def return_h(input, i, l = 10):\n",
        "    return np.sum(input[:, i:i+l, :], axis = -1)\n",
        "\n",
        "def return_phase_track(input, l = 10):\n",
        "    \"\"\"\n",
        "    input has a shape [batch_size, time_len, 1]\n",
        "    \"\"\"\n",
        "\n",
        "    phase_track = np.zeros([input.shape[0], input.shape[1] - l, l])\n",
        "    \n",
        "    for i in range(0, input.shape[1] - l):\n",
        "        phase_track[:, i, :] = return_h(input, i, l)\n",
        "    \n",
        "    return phase_track[0]\n",
        "    \n",
        "\n",
        "def local_basis(phase_track, m = 2, T = 20):\n",
        "\n",
        "    result_pca_1 = phase_track\n",
        "\n",
        "    List_of_basis_vector = []\n",
        "    List_of_basis_vector_s = []\n",
        "    List_of_basis_vector_c = []\n",
        "\n",
        "    model_pca = PCA(n_components=2)\n",
        "\n",
        "    for n in range(T, result_pca_1.shape[0] - T, 1):\n",
        "        if n-T >- 0:\n",
        "            arr = result_pca_1[n-T:n+T]\n",
        "        else:\n",
        "            arr = result_pca_1[:n]\n",
        "        \n",
        "        model_pca_answ = model_pca.fit_transform(arr)\n",
        "        \n",
        "        List_of_basis_vector_s.append(model_pca.singular_values_)\n",
        "        \n",
        "        List_of_basis_vector_c.append(model_pca_answ[-1])\n",
        "        List_of_basis_vector.append(model_pca.components_)\n",
        "\n",
        "    List_of_basis_vector = np.array(List_of_basis_vector)\n",
        "    List_of_basis_vector_s = np.array(List_of_basis_vector_s)\n",
        "    List_of_basis_vector_c = np.array(List_of_basis_vector_c)\n",
        "\n",
        "    return List_of_basis_vector, List_of_basis_vector_s, List_of_basis_vector_c\n",
        " \n",
        "\n",
        "def get_pairwise_matrix(List_of_basis_vector, List_of_basis_vector_s, List_of_basis_vector_c):\n",
        "\n",
        "    Volum = np.zeros([2, List_of_basis_vector.shape[0], List_of_basis_vector.shape[0]])\n",
        "\n",
        "    cos_beta = np.abs(List_of_basis_vector[:, 0, :]@List_of_basis_vector[:, 1, :].T)\n",
        "    cos_alpha = np.array(np.diagonal(cos_beta))\n",
        "    cos_gamma = np.abs(List_of_basis_vector[:, 1, :]@List_of_basis_vector[:, 1, :].T)\n",
        "\n",
        "    cos_beta[np.where(cos_beta > 1-10**(-10))] = 1-10**(-10)\n",
        "    cos_alpha[np.where(cos_alpha > 1-10**(-10))] = 1-10**(-10)\n",
        "    cos_gamma[np.where(cos_gamma > 1-10**(-10))] = 1-10**(-10)\n",
        "\n",
        "    cos_beta[np.where(cos_beta < 10**(-10))] = 0\n",
        "    cos_alpha[np.where(cos_alpha < 10**(-10))] = 0\n",
        "    cos_gamma[np.where(cos_gamma < 10**(-10))] = 0\n",
        "\n",
        "\n",
        "    temp_a = np.sqrt(1-cos_beta**2)\n",
        "    cos_A = np.abs((cos_alpha.reshape([-1,1]) - cos_gamma*cos_beta)/(np.sqrt(1-cos_gamma**2)*np.sqrt(1-cos_beta**2)))\n",
        "    h = temp_a*np.sqrt(1-cos_A**2)\n",
        "\n",
        "    Volum[0] = h* np.sqrt(1-cos_gamma**2)\n",
        "        \n",
        "    cos_beta = np.abs(List_of_basis_vector[:, 0, :]@List_of_basis_vector[:, 0, :].T)\n",
        "    cos_gamma = np.abs(List_of_basis_vector[:, 1, :]@List_of_basis_vector[:, 0, :].T)\n",
        "\n",
        "    cos_alpha = np.array(np.diagonal(cos_gamma))\n",
        "\n",
        "    cos_beta[np.where(cos_beta > 1-10**(-10))] = 1-10**(-10)\n",
        "    cos_alpha[np.where(cos_alpha > 1-10**(-10))] = 1-10**(-10)\n",
        "    cos_gamma[np.where(cos_gamma > 1-10**(-10))] = 1-10**(-10)\n",
        "\n",
        "\n",
        "    cos_beta[np.where(cos_beta < 10**(-10))] = 0\n",
        "    cos_alpha[np.where(cos_alpha < 10**(-10))] = 0\n",
        "    cos_gamma[np.where(cos_gamma < 10**(-10))] = 0\n",
        "\n",
        "\n",
        "    temp_a = np.sqrt(1-cos_beta**2)\n",
        "    cos_A = (cos_alpha.reshape([-1,1]) - cos_gamma*cos_beta)/(np.sqrt(1-cos_gamma**2)*np.sqrt(1-cos_beta**2))\n",
        "    h = temp_a*np.sqrt(1-cos_A**2)\n",
        "\n",
        "    Volum[1] = h* np.sqrt(1-cos_gamma**2)\n",
        "          \n",
        "    vol = np.max(Volum, axis = 0)\n",
        "\n",
        "    for i in range(vol.shape[0]):\n",
        "        for j in range(vol.shape[0]):\n",
        "            vol[i,j] = max(vol[i,j], vol[j,i])  \n",
        "\n",
        "    dist = np.sqrt((List_of_basis_vector_s[:, :1] - List_of_basis_vector_s[:, :1].T)**2 + (List_of_basis_vector_s[:, 1:2] - List_of_basis_vector_s[:, 1:2].T)**2)\n",
        "    dist = dist/np.max(dist)\n",
        "\n",
        "    full_dist = np.sqrt(vol**2+dist**2)\n",
        "\n",
        "    return full_dist\n",
        "\n",
        "\n",
        "def find_points(points, line_point):\n",
        "    \"\"\"\n",
        "    points have a shape [N x 2]\n",
        "    line_point has a shape [2 x 1]\n",
        "    \"\"\"\n",
        "    List_of_points_plus = []\n",
        "    List_of_points_minus = []\n",
        "    \n",
        "    List_of_t_plus = []\n",
        "    List_of_t_minus = []\n",
        "    \n",
        "    for i in range(len(points) - 1):\n",
        "        if (line_point[1]*points[i][0] - line_point[0]*points[i][1] < 0) and(line_point[1]*points[i+1][0] - line_point[0]*points[i+1][1] > 0):\n",
        "            List_of_points_plus.append(points[i])\n",
        "            List_of_t_plus.append(i)\n",
        "        if (line_point[1]*points[i][0] - line_point[0]*points[i][1] > 0) and(line_point[1]*points[i+1][0] - line_point[0]*points[i+1][1] < 0):\n",
        "            List_of_points_minus.append(points[i])\n",
        "            List_of_t_minus.append(i)\n",
        "    \n",
        "    return np.array(List_of_points_plus), np.array(List_of_points_minus), np.array(List_of_t_plus), np.array(List_of_t_minus)\n",
        "\n",
        "def find_distance(points, line_point):\n",
        "    \"\"\"\n",
        "    points have a shape [N x 2]\n",
        "    line_point has a shape [2 x 1]\n",
        "    \"\"\"\n",
        "    \n",
        "    sum_distance = 0\n",
        "    \n",
        "    normal = np.array([line_point[1], -line_point[0]])\n",
        "    normal = normal/np.sqrt((normal*normal).sum())\n",
        "    \n",
        "    for p in points:\n",
        "        sum_distance += ((normal*p).sum())\n",
        "    \n",
        "    \n",
        "    return sum_distance\n",
        "\n",
        "def find_segment(X, T):\n",
        "    phase_track = return_phase_track(X, T)\n",
        "    model = PCA(n_components=2)\n",
        "\n",
        "    ress = model.fit_transform(phase_track)\n",
        "    \n",
        "    ress[:, 0] = ress[:, 0]/np.sqrt(((ress[:, 0]**2).mean()))\n",
        "\n",
        "    ress[:, 1] = ress[:, 1]/np.sqrt(((ress[:, 1]**2).mean()))\n",
        "\n",
        "    Phi = np.linspace(-np.pi, np.pi, 200)\n",
        "\n",
        "    All_List = np.array(list(map(lambda phi: find_points(ress, np.array([np.sin(phi), np.cos(phi)])), Phi)))\n",
        "\n",
        "    List_of_std = []\n",
        "    for l, phi in zip(All_List, Phi):\n",
        "        List_of_std.append(find_distance(np.vstack([l[0], l[1]]), np.array([np.sin(phi), np.cos(phi)])))\n",
        "\n",
        "    List_of_std = np.array(List_of_std)\n",
        "    \n",
        "    phi = Phi[np.argmin(List_of_std)]\n",
        "    \n",
        "    \n",
        "    line_point = np.array([np.sin(phi), np.cos(phi)])\n",
        "\n",
        "    List_of_points_plus, List_of_points_minus, List_of_t_plus, List_of_t_minus = find_points(ress, line_point)\n",
        "    \n",
        "    return List_of_points_plus, List_of_points_minus, List_of_t_plus, List_of_t_minus, line_point, ress\n",
        "    \n",
        "    \n",
        "def segmentation(X_all, prediction_vector, T):\n",
        "    List_of_point = []\n",
        "    List_of_All = []\n",
        "    for t in np.unique(prediction_vector):\n",
        "        ind = np.where(prediction_vector == t)[0]\n",
        "\n",
        "        X = X_all[:, ind, :]\n",
        "        List_of_t = np.arange(0, X.shape[1], 1)\n",
        "\n",
        "        List_of_points_plus, List_of_points_minus, List_of_t_plus, List_of_t_minus, line_point, ress = find_segment(X, T)\n",
        "\n",
        "        List_of_All.append([X, List_of_t, List_of_points_plus, List_of_points_minus, List_of_t_plus, List_of_t_minus, line_point, ress])\n",
        "        List_of_point.append((np.where(prediction_vector == t)[0])[List_of_t_minus])\n",
        "\n",
        "    return List_of_All, List_of_point\n",
        "\n",
        "def normalizer(x, t, n = None):\n",
        "    if n == None:\n",
        "        t_new = np.arange(np.min(t), np.max(t), 0.01)\n",
        "    else:\n",
        "        t_new = np.linspace(np.min(t), np.max(t), n, endpoint=True)\n",
        "    \n",
        "    f = interp1d(t, x, kind='cubic')\n",
        "    \n",
        "    return f(t_new)\n",
        "\n",
        "def sort_prediction(prediction_vector):\n",
        "    prediction_vector += 1000\n",
        "    iterator = 0\n",
        "\n",
        "    need = np.where(prediction_vector >= 1000)[0]\n",
        "    while len(need) > 0:\n",
        "        prediction_vector[np.where(prediction_vector == prediction_vector[need[0]])] = iterator\n",
        "        iterator += 1\n",
        "        need = np.where(prediction_vector >= 1000)[0]\n",
        "        \n",
        "    return prediction_vector"
      ],
      "execution_count": null,
      "outputs": []
    },
    {
      "cell_type": "markdown",
      "metadata": {
        "id": "SD5rsdZ72UQp"
      },
      "source": [
        "## Авторегрессия"
      ]
    },
    {
      "cell_type": "markdown",
      "metadata": {
        "id": "XP2iFFlt8teK"
      },
      "source": [
        "Задан временной ряд:\n",
        "$$\n",
        "\\mathbf{y} = [y_0, y_i, \\cdots, y_t],\n",
        "$$\n",
        "где $t$ число известных точек временного ряда.\n",
        "\n",
        "Требуется построить предсказательную модель:\n",
        "$$\n",
        "\\hat{y}_{t+d} = f_{t, d}\\bigr(\\mathbf{y}, \\mathbf{w}\\bigr)\n",
        "$$"
      ]
    },
    {
      "cell_type": "markdown",
      "metadata": {
        "id": "u1Sq9ZO19gDv"
      },
      "source": [
        "Самое простое решение это линейная модель авторегрессии:\n",
        "$$\n",
        "\\hat{y}_{t+1}\\bigr(w\\bigr) = \\sum_{j=0}^{n-1}w_jy_{t-j}\n",
        "$$\n",
        "\n",
        "В чем плюсы? Легко решать! Простая задача линейной регрессии, а имено в качестве признакового описания:\n",
        "$$\n",
        "\\mathbf{X} = \\begin{bmatrix}\n",
        "y_{t-1} & \\cdots & y_{t-n}\\\\\n",
        "\\cdots & \\cdots & \\cdots\\\\\n",
        "y_{n-1} & \\cdots & y_{0}\\\\\n",
        "\\end{bmatrix}\n",
        "$$\n",
        "\n",
        "В качестве целевой переменной:\n",
        "$$\n",
        "\\mathbf{y} = \\begin{bmatrix}\n",
        "y_{t}\\\\\n",
        "\\cdots\\\\\n",
        "y_{n}\\\\\n",
        "\\end{bmatrix}\n",
        "$$\n",
        "\n",
        "Классичиская задача оптимизации:\n",
        "$$\n",
        "||\\mathbf{X}\\mathbf{w} - \\mathbf{y}|| \\to \\min_{\\mathbf{w}}\n",
        "$$"
      ]
    },
    {
      "cell_type": "code",
      "metadata": {
        "id": "Kwsl8vKE2V5H"
      },
      "source": [
        "fig = plt.figure(figsize=(20,4))\n",
        "\n",
        "np.random.seed(0)\n",
        "points = np.arange(400)\n",
        "series = RandomFunction(points, n=100)\n",
        "plt.plot(series, '-o')\n",
        "plt.show()"
      ],
      "execution_count": null,
      "outputs": []
    },
    {
      "cell_type": "code",
      "metadata": {
        "id": "kqjlGjAY_4ZB"
      },
      "source": [
        "n = 100\n",
        "\n",
        "X = np.zeros(shape=(len(series)-n, n))\n",
        "y = np.zeros(shape=(len(series)-n, 1))\n",
        "\n",
        "y = series[n:len(series)]\n",
        "for j in range(len(series)-n):\n",
        "    X[j] = series[j:j+n]\n",
        "\n",
        "X_train = X[:-100]\n",
        "y_train = y[:-100]\n",
        "X_test = X[-100:]\n",
        "y_test = y[-100:]\n",
        "\n",
        "w = np.linalg.inv(X_train.T@X_train)@X_train.T@y_train"
      ],
      "execution_count": null,
      "outputs": []
    },
    {
      "cell_type": "code",
      "metadata": {
        "id": "QR05AFoWB3w8"
      },
      "source": [
        "fig = plt.figure(figsize=(20,4))\n",
        "plt.plot(points, series, '-.')\n",
        "plt.plot(points[n:len(series)-100], X_train@w, '-o')\n",
        "plt.plot(points[-100:], X_test@w, '-o')\n",
        "plt.show()"
      ],
      "execution_count": null,
      "outputs": []
    },
    {
      "cell_type": "markdown",
      "metadata": {
        "id": "fOX43gWQDhCj"
      },
      "source": [
        "#### Эксперимент по изменению $n$"
      ]
    },
    {
      "cell_type": "code",
      "metadata": {
        "id": "Mmsy2TQbDlZM"
      },
      "source": [
        "for n in [30, 50, 100, 150, 200]:\n",
        "    X = np.zeros(shape=(len(series)-n, n))\n",
        "    y = np.zeros(shape=(len(series)-n, 1))\n",
        "\n",
        "    y = series[n:len(series)]\n",
        "    for j in range(len(series)-n):\n",
        "        X[j] = series[j:j+n]\n",
        "\n",
        "    X_train = X[:-100]\n",
        "    y_train = y[:-100]\n",
        "    X_test = X[-100:]\n",
        "    y_test = y[-100:]\n",
        "\n",
        "    w = np.linalg.inv(X_train.T@X_train)@X_train.T@y_train\n",
        "\n",
        "    fig = plt.figure(figsize=(20,4))\n",
        "    plt.plot(points, series, '-.')\n",
        "    plt.plot(points[n:len(series)-100], X_train@w, '-o')\n",
        "    plt.plot(points[-100:], X_test@w, '-o')\n",
        "    plt.title('$n={}$'.format(n))\n",
        "    plt.show()"
      ],
      "execution_count": null,
      "outputs": []
    },
    {
      "cell_type": "markdown",
      "metadata": {
        "id": "otkLP_ZJD9k2"
      },
      "source": [
        "Хм, почему так? Ответ - мультиколлинеарность!"
      ]
    },
    {
      "cell_type": "markdown",
      "metadata": {
        "id": "QLJZ81fT2lSf"
      },
      "source": [
        "## Экспоненциальное среднее"
      ]
    },
    {
      "cell_type": "markdown",
      "metadata": {
        "id": "ZiIO74gFFXwn"
      },
      "source": [
        "Модель:\n",
        "$$\n",
        "\\hat{y}_{t+1} = \\hat{y}_{t} + \\alpha_t\\left(y_t - \\hat{y}_t\\right).\n",
        "$$"
      ]
    },
    {
      "cell_type": "code",
      "metadata": {
        "id": "iVRC4zkZ2kjU"
      },
      "source": [
        "np.random.seed(0)\n",
        "points = np.arange(400)\n",
        "series = RandomFunction(points, n=100)\n",
        "\n",
        "fig = plt.figure(figsize=(20,4))\n",
        "plt.plot(series, '-o')\n",
        "plt.show()"
      ],
      "execution_count": null,
      "outputs": []
    },
    {
      "cell_type": "code",
      "metadata": {
        "id": "UNyynuoOGlm4"
      },
      "source": [
        "series_hat = [series[0]]\n",
        "alpha = 0.3\n",
        "for t in range(len(series)):\n",
        "    series_hat.append(series_hat[t] + alpha*(series[t]- series_hat[t]))\n",
        "\n",
        "fig = plt.figure(figsize=(20,4))\n",
        "plt.plot(series, '-')\n",
        "plt.plot(series_hat, '-o')\n",
        "plt.show()"
      ],
      "execution_count": null,
      "outputs": []
    },
    {
      "cell_type": "code",
      "metadata": {
        "id": "2EJBwE3tG4-U"
      },
      "source": [
        "for alpha in [0.1, 0.3, 0.5, 0.7, 1.0]:\n",
        "    series_hat = [series[0]]\n",
        "    for t in range(len(series)):\n",
        "        series_hat.append(series_hat[t] + alpha*(series[t]- series_hat[t]))\n",
        "    \n",
        "    fig = plt.figure(figsize=(20,4))\n",
        "    plt.plot(series, '-')\n",
        "    plt.plot(series_hat, '-o')\n",
        "    plt.title('$\\gamma={}$'.format(alpha))\n",
        "    plt.show()"
      ],
      "execution_count": null,
      "outputs": []
    },
    {
      "cell_type": "markdown",
      "metadata": {
        "id": "kVbDTDCf29nh"
      },
      "source": [
        "## Кластеризация временных рядов\n",
        "**Grabovoy A.V., Strijov V.V. Quasi-periodic time series clustering for human activity recognition // Lobachevskii Journal of Mathematics, 2020, 41 : 333-339**"
      ]
    },
    {
      "cell_type": "markdown",
      "metadata": {
        "id": "ib8sTQr-5pfQ"
      },
      "source": [
        "Задан временной ряд\n",
        "$$\n",
        "\\textbf{x} \\in \\mathbb{R}^{N},\n",
        "$$\n",
        "где $N$ число точек временного ряда. Он состоит из последовательности сегментов:\n",
        "$$\n",
        "\\textbf{x} = [\\textbf{v}_1, \\textbf{v}_2, \\cdots, \\textbf{v}_M],\n",
        "$$\n",
        "где $\\textbf{v}_i$ некоторый сегмент из множества сегментов $\\mathbf{V},$ которые встречаются в данном ряде.\n",
        "\n",
        "Причем для всех $i$ либо $[\\textbf{v}_{i-1},\\textbf{v}_{i}]$ либо $[\\textbf{v}_{i},\\textbf{v}_{i+1}]$  является цепочкой действий. Пусть множество $\\mathbf{V}$ удовлетворяет следующим свойствам:\n",
        "\n",
        "$$\n",
        "\\left|\\mathbf{V}\\right| = K, \\quad \\textbf{v} \\in \\mathbf{V}~\\left|\\textbf{v}\\right| \\leq T,\n",
        "$$\n",
        "где $\\left|\\mathbf{V}\\right|$ число различных действий в множестве сегментов $\\mathbf{V},$ $\\left|\\textbf{v}\\right|$ длина сегмента, а $K$ и $T$ это число различных действий во временном ряде и длина максимального сегмента соответсвенно."
      ]
    },
    {
      "cell_type": "markdown",
      "metadata": {
        "id": "NNHbDQxR7-L6"
      },
      "source": [
        "Рассматривается отображение\n",
        "$$\n",
        "a : t \\to \\mathbb{Y} = \\{1,\\cdots, K\\}, \n",
        "$$\n",
        "где $t \\in \\{1,\\cdots, N\\}$ некоторый момент времени, на котором задан временной ряд.\n",
        "Требуется, чтобы отображение $a$ удовлетворяло следующим свойствам:\n",
        "\n",
        "$$\n",
        "\\begin{cases}\n",
        "    a\\left(t_1\\right) = a\\left(t_2\\right), &  \\text{если в моменты } t_1, t_2 \\text{ совершается один тип действий}\\\\\n",
        "    a\\left(t_1\\right) \\not= a\\left(t_2\\right), &  \\text{если в моменты } t_1, t_2 \\text{ совершаются разные типы действий }\n",
        "\\end{cases}\n",
        "$$\n",
        "\n"
      ]
    },
    {
      "cell_type": "markdown",
      "metadata": {
        "id": "yKq3zxk86FO9"
      },
      "source": [
        "### Визуализация основной идеи"
      ]
    },
    {
      "cell_type": "code",
      "metadata": {
        "id": "LThlBC9J6KEe"
      },
      "source": [
        "data = pd.read_csv('https://raw.githubusercontent.com/andriygav/TimeSeriesClustering/master/code/SyntheticData/2_patern/1.csv')\n"
      ],
      "execution_count": null,
      "outputs": []
    },
    {
      "cell_type": "code",
      "metadata": {
        "id": "4VplGScP6Orn"
      },
      "source": [
        "X_intro = (data.values[1150:1600]).reshape([1,-1,1])"
      ],
      "execution_count": null,
      "outputs": []
    },
    {
      "cell_type": "code",
      "metadata": {
        "id": "WfXSEQKd6QJO"
      },
      "source": [
        "List_of_point = [np.array([15, 54, 95, 135, 175]), np.array([219, 259, 299, 339, 379, 419])]"
      ],
      "execution_count": null,
      "outputs": []
    },
    {
      "cell_type": "code",
      "metadata": {
        "id": "v__CMSHU6RIH"
      },
      "source": [
        "phase_track_intro = return_phase_track(X_intro[:, 0:100, :], 20)\n",
        "model = PCA(n_components=2)\n",
        "basis_a = model.fit(phase_track_intro).components_\n",
        "res_a = model.transform(phase_track_intro)\n",
        "\n",
        "phase_track_intro = return_phase_track(X_intro[:, 300:400, :], 20)\n",
        "model = PCA(n_components=2)\n",
        "basis_b = model.fit(phase_track_intro).components_\n",
        "res_b = model.transform(phase_track_intro)"
      ],
      "execution_count": null,
      "outputs": []
    },
    {
      "cell_type": "code",
      "metadata": {
        "id": "weQwUy976TUs"
      },
      "source": [
        "alpha_1 = (basis_a[0]*basis_b[0]).sum()\n",
        "alpha_2 = (basis_a[1]*basis_b[0]).sum()\n",
        "\n",
        "beta_1 = (basis_a[0]*basis_b[1]).sum()\n",
        "beta_2 = (basis_a[1]*basis_b[1]).sum()\n",
        "\n",
        "a_1 = np.array([1, 0, 0])\n",
        "a_2 = np.array([0, 1, 0])\n",
        "\n",
        "b_1 = np.array([alpha_1, alpha_2, np.sqrt(1- alpha_1**2- alpha_2**2)])\n",
        "b_1 = b_1/np.sqrt((b_1**2).sum())\n",
        "b_2 = np.array([beta_1, beta_2, (-alpha_1*beta_1-alpha_2*beta_2)/np.sqrt(1- alpha_1**2- alpha_2**2)])\n",
        "b_2 = b_2/np.sqrt((b_2**2).sum())"
      ],
      "execution_count": null,
      "outputs": []
    },
    {
      "cell_type": "code",
      "metadata": {
        "id": "ev7Eeypy6U45"
      },
      "source": [
        "normal_1 = np.array([0,0,1])\n",
        "normal_2 = np.cross(b_1, b_2)\n",
        "\n",
        "point  = np.array([1, 1, 1])"
      ],
      "execution_count": null,
      "outputs": []
    },
    {
      "cell_type": "code",
      "metadata": {
        "id": "8sT0M8yt6Vz2"
      },
      "source": [
        "ress_a = res_a[:,0].reshape([-1,1])*a_1.reshape([1,-1]) + res_a[:,1].reshape([-1,1])*a_2.reshape([1,-1])\n",
        "\n",
        "ress_b = res_b[:,0].reshape([-1,1])*b_1.reshape([1,-1]) + res_b[:,1].reshape([-1,1])*b_2.reshape([1,-1])"
      ],
      "execution_count": null,
      "outputs": []
    },
    {
      "cell_type": "code",
      "metadata": {
        "id": "4jcK4e-Q6Wlu"
      },
      "source": [
        "fig = plt.figure(figsize=(10,10));\n",
        "\n",
        "marker = ['^', 's', 'v', 'D', 'P']\n",
        "color = ['orange', 'green', 'red', 'yelow', 'blue']\n",
        "\n",
        "gs = gridspec.GridSpec(1, 1)\n",
        "\n",
        "ax = fig.add_subplot(gs[0], projection='3d');\n",
        "\n",
        "xx, yy = np.meshgrid(range(-100, 100), range(-100, 100))\n",
        "z_1 = (-normal_1[0] * xx - normal_1[1] * yy + point.dot(normal_1)) * 1./normal_1[2]\n",
        "ax.plot_surface(xx, yy, z_1, alpha = 0.2,  color = color[0])\n",
        "ax.plot(ress_a[:,0] , ress_a[:,1] , ress_a[:,2], \"-\", marker = marker[0],  color=color[0], label = 'Phase trajectory for type 1')\n",
        "z_2 = (-normal_2[0] * xx - normal_2[1] * yy +point.dot(normal_2)) * 1./normal_2[2]\n",
        "ax.plot_surface(xx, yy, z_2, alpha = 0.2,  color = color[1])\n",
        "ax.plot(ress_b[:, 0] , ress_b[:, 1] , ress_b[:, 2], \"-\", marker = marker[1],  color=color[1], label = 'Phase trajectory for type 2')\n",
        "ax.view_init(15, -50)\n",
        "ax.legend(loc = 'best')\n",
        "ax.xaxis.set_ticks(np.arange(-100, 101, 50))\n",
        "ax.yaxis.set_ticks(np.arange(-100, 101, 50))\n",
        "ax.zaxis.set_ticks(np.arange(-40, 41, 20))\n",
        "ax.set_title('(b)', y=-0.25)\n",
        "\n",
        "plt.subplots_adjust(wspace=0.05, hspace=0.2)\n",
        "plt.show()"
      ],
      "execution_count": null,
      "outputs": []
    },
    {
      "cell_type": "markdown",
      "metadata": {
        "id": "gtfpz83X5a7V"
      },
      "source": [
        "### Эксперимент по сегментации"
      ]
    },
    {
      "cell_type": "code",
      "metadata": {
        "id": "kXSBSkIF3pmy"
      },
      "source": [
        "data = pd.read_csv('https://raw.githubusercontent.com/andriygav/TimeSeriesClustering/master/code/RealData/2.csv')"
      ],
      "execution_count": null,
      "outputs": []
    },
    {
      "cell_type": "code",
      "metadata": {
        "id": "ETZz1T7f3zJN"
      },
      "source": [
        "T = 40\n",
        "K = 2\n",
        "\n",
        "X_test = data.values[100:1000, 2:3].reshape([1,-1,1])\n",
        "\n",
        "List_of_x = np.arange(T, X_test[0].shape[0] - 2*T)"
      ],
      "execution_count": null,
      "outputs": []
    },
    {
      "cell_type": "code",
      "metadata": {
        "id": "ubMNtE2j3zl8"
      },
      "source": [
        "plt.figure(figsize=(12, 6))\n",
        "_ = plt.plot(X_test[0], '-o')\n",
        "\n",
        "plt.xlabel('Time $t$, $sec$')\n",
        "plt.ylabel('Acceleration $x$, $m/sec^2$')\n",
        "plt.grid()\n",
        "plt.show()"
      ],
      "execution_count": null,
      "outputs": []
    },
    {
      "cell_type": "code",
      "metadata": {
        "id": "oCQWvfBN34VX"
      },
      "source": [
        "phase_track = return_phase_track(X_test, T)\n",
        "\n",
        "List_of_basis_vector, List_of_basis_vector_s, List_of_basis_vector_c = local_basis(phase_track, T = T)\n",
        "\n",
        "M_pairwise = get_pairwise_matrix(List_of_basis_vector, List_of_basis_vector_s, List_of_basis_vector_c)\n"
      ],
      "execution_count": null,
      "outputs": []
    },
    {
      "cell_type": "code",
      "metadata": {
        "id": "4vZqt3Z84QyA"
      },
      "source": [
        "_ = plt.imshow(M_pairwise)\n",
        "\n",
        "_ = plt.colorbar()\n",
        "\n",
        "plt.xlabel('Time $t$, $sec$')\n",
        "plt.ylabel('Time $t$, $sec$')\n",
        "plt.show()"
      ],
      "execution_count": null,
      "outputs": []
    },
    {
      "cell_type": "code",
      "metadata": {
        "id": "axpPe8E44Tnt"
      },
      "source": [
        "model = AgglomerativeClustering(n_clusters=K, affinity='precomputed', linkage='complete')\n",
        "\n",
        "fitted = model.fit(M_pairwise)\n",
        "prediction_vector = fitted.fit_predict(M_pairwise)\n"
      ],
      "execution_count": null,
      "outputs": []
    },
    {
      "cell_type": "code",
      "metadata": {
        "id": "YJ4KQkoo4VvT"
      },
      "source": [
        "color = ['orange', 'green', 'red', 'yelow', 'blue']\n",
        "plt.figure(figsize=(12, 6))\n",
        "_ = plt.plot(X_test[0], '-')\n",
        "\n",
        "for t in np.unique(prediction_vector):\n",
        "    ind = np.where(prediction_vector == t)\n",
        "    _ = plt.plot(List_of_x[ind]+T, X_test[0][2*T:X_test[0].shape[0]-T][ind], 'o', color = color[t], label = 'Type ' + str(t + 1))\n",
        "\n",
        "plt.grid()\n",
        "plt.legend(loc = 'best')\n",
        "plt.xlabel('Time $t$, $sec$')\n",
        "plt.ylabel('Acceleration $x$, $m/sec^2$')\n",
        "plt.show()"
      ],
      "execution_count": null,
      "outputs": []
    },
    {
      "cell_type": "code",
      "metadata": {
        "id": "nRIEGSXl4gCf"
      },
      "source": [
        "List_of_All, List_of_point = segmentation(X_test[:, 2*T:X_test[0].shape[0]-T, :], prediction_vector, T)"
      ],
      "execution_count": null,
      "outputs": []
    },
    {
      "cell_type": "code",
      "metadata": {
        "id": "N-a1iKjR4n0_"
      },
      "source": [
        "color = ['orange', 'green', 'red', 'yelow', 'blue']\n",
        "\n",
        "plt.figure(figsize=(12, 6))\n",
        "_ = plt.plot(X_test[0], '-')\n",
        "\n",
        "for t in np.unique(prediction_vector):\n",
        "#     _ = plt.plot(List_of_x[0] + T, 0, color = color[t], label = 'Type ' + str(t + 1))\n",
        "    ind = List_of_point[t] + T\n",
        "    for x in (List_of_x + T)[ind]:\n",
        "        _ = plt.axvline(x = x, color = color[t])\n",
        "        \n",
        "    \n",
        "for t in np.unique(prediction_vector):\n",
        "    ind = np.where(prediction_vector == t)\n",
        "    _ = plt.plot(List_of_x[ind]+T, X_test[0][2*T:X_test[0].shape[0]-T][ind], 'o', color = color[t], label = 'Type ' + str(t + 1))\n",
        "\n",
        "\n",
        "plt.grid()\n",
        "plt.legend(loc = 'best')\n",
        "plt.xlabel('Time $t$, $sec$')\n",
        "plt.ylabel('Acceleration $x$, $m/sec^2$')\n",
        "plt.show()\n"
      ],
      "execution_count": null,
      "outputs": []
    },
    {
      "cell_type": "code",
      "metadata": {
        "id": "dbIjDtvK4skS"
      },
      "source": [
        "index = 1\n",
        "\n",
        "_, _, List_of_points_plus, List_of_points_minus, List_of_t_plus, List_of_t_minus, line_point, ress = List_of_All[index]"
      ],
      "execution_count": null,
      "outputs": []
    },
    {
      "cell_type": "code",
      "metadata": {
        "id": "nJE34Tda4zKs"
      },
      "source": [
        "_ = plt.plot(ress[:, 0], ress[:, 1], '-o', color = 'blue')\n",
        "\n",
        "for point in List_of_points_plus:\n",
        "    _ = plt.plot(point[0], point[1], '*', color = 'orange')\n",
        "for point in List_of_points_minus:\n",
        "    _ = plt.plot(point[0], point[1], '*', color = 'red')\n",
        "\n",
        "x_line = np.array([-0.25, 0.25])\n",
        "k = line_point[1]/line_point[0]\n",
        "y_line = k*x_line\n",
        "\n",
        "_ = plt.plot(x_line, y_line, '--', color = 'black')\n",
        "\n",
        "plt.show()"
      ],
      "execution_count": null,
      "outputs": []
    },
    {
      "cell_type": "markdown",
      "metadata": {
        "id": "5jQZTxieGUO0"
      },
      "source": [
        "## LSTM для предсказани точек временного ряда"
      ]
    },
    {
      "cell_type": "code",
      "metadata": {
        "id": "TuBH-NCPGTHZ"
      },
      "source": [
        "class TimeSeriesPrediction(torch.nn.Module):\n",
        "    def __init__(self, emb_dim=2):\n",
        "        super(TimeSeriesPrediction, self).__init__()\n",
        "        self.lstm = torch.nn.LSTM(input_size=1, \n",
        "                                  hidden_size=emb_dim, \n",
        "                                  num_layers=1, \n",
        "                                  batch_first=True)\n",
        "        \n",
        "        self.linear = torch.nn.Linear(emb_dim, 1)\n",
        "\n",
        "    def forward(self, x_batch, hidden=None):\n",
        "        r'''\n",
        "        :param x_batch: tensor of shape batch_size x 1 x 1 (момент времени t)\n",
        "\n",
        "        :return: tensor of shape batch_size x 1 x 1 (момент времени t+1)\n",
        "        '''\n",
        "        if hidden is None:\n",
        "            act, (h, c) = self.lstm(x_batch)\n",
        "        else:\n",
        "            act, (h, c) = self.lstm(x_batch, hidden)\n",
        "\n",
        "        return self.linear(act), (h, c)"
      ],
      "execution_count": null,
      "outputs": []
    },
    {
      "cell_type": "code",
      "metadata": {
        "id": "5afLnk5IIAmp"
      },
      "source": [
        "data = torch.randn(8, 1, 1)"
      ],
      "execution_count": null,
      "outputs": []
    },
    {
      "cell_type": "code",
      "metadata": {
        "id": "GJ0lAJHfH_eA"
      },
      "source": [
        "model = TimeSeriesPrediction()"
      ],
      "execution_count": null,
      "outputs": []
    },
    {
      "cell_type": "code",
      "metadata": {
        "id": "Y7AislbOIJip"
      },
      "source": [
        "res, (h, c) = model(data)"
      ],
      "execution_count": null,
      "outputs": []
    },
    {
      "cell_type": "code",
      "metadata": {
        "id": "9XPngJJQItkq"
      },
      "source": [
        "series = GeneratorOfTimeSeries()"
      ],
      "execution_count": null,
      "outputs": []
    },
    {
      "cell_type": "code",
      "metadata": {
        "id": "Z-HNdht0Jjwu"
      },
      "source": [
        "X_train = torch.tensor(series).float()"
      ],
      "execution_count": null,
      "outputs": []
    },
    {
      "cell_type": "code",
      "metadata": {
        "id": "-tYeE2w-LVLE"
      },
      "source": [
        "loss_function = torch.nn.MSELoss()\n",
        "optimiser = torch.optim.Adam(model.parameters())"
      ],
      "execution_count": null,
      "outputs": []
    },
    {
      "cell_type": "code",
      "metadata": {
        "id": "_D0vF_stJz-D"
      },
      "source": [
        "for i in tqdm(range(len(X_train))):\n",
        "    optimiser.zero_grad()\n",
        "\n",
        "    x_batch_seq = X_train[i:i+64]\n",
        "    y_batch_seq = torch.zeros_like(x_batch_seq)\n",
        "\n",
        "    hidden = None\n",
        "    for j in range(x_batch_seq.shape[1]):\n",
        "        y_batch_seq[:, j:j+1, :], hidden = model(x_batch_seq[:, j:j+1, :], hidden)\n",
        "\n",
        "    \n",
        "    loss = loss_function(y_batch_seq[:, :-1, :], x_batch_seq[:, 1:, :])\n",
        "    loss.backward()\n",
        "    optimiser.step()"
      ],
      "execution_count": null,
      "outputs": []
    }
  ]
}