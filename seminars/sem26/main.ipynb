{
  "nbformat": 4,
  "nbformat_minor": 0,
  "metadata": {
    "kernelspec": {
      "display_name": "Python 3",
      "language": "python",
      "name": "python3"
    },
    "language_info": {
      "codemirror_mode": {
        "name": "ipython",
        "version": 3
      },
      "file_extension": ".py",
      "mimetype": "text/x-python",
      "name": "python",
      "nbconvert_exporter": "python",
      "pygments_lexer": "ipython3",
      "version": "3.7.3"
    },
    "colab": {
      "name": "main.ipynb",
      "provenance": []
    }
  },
  "cells": [
    {
      "cell_type": "markdown",
      "metadata": {
        "id": "jfB6YOi2DZ8s"
      },
      "source": [
        "# Активное обучение"
      ]
    },
    {
      "cell_type": "markdown",
      "metadata": {
        "id": "2b9RnLilDZ80"
      },
      "source": [
        "## Библиотеки"
      ]
    },
    {
      "cell_type": "code",
      "metadata": {
        "id": "lfTN4O55Kysr"
      },
      "source": [
        "!pip install modAL"
      ],
      "execution_count": null,
      "outputs": []
    },
    {
      "cell_type": "code",
      "metadata": {
        "id": "dRlX5YbBDZ81"
      },
      "source": [
        "from abc import abstractmethod\n",
        "\n",
        "import numpy as np\n",
        "import pandas as pd\n",
        "\n",
        "import matplotlib.pyplot as plt\n",
        "from matplotlib import animation\n",
        "\n",
        "from IPython.display import HTML\n",
        "\n",
        "from modAL.models import ActiveLearner\n",
        "from sklearn.ensemble import RandomForestClassifier, RandomForestRegressor\n",
        "from sklearn.gaussian_process import GaussianProcessRegressor\n",
        "\n",
        "from sklearn.svm import SVR"
      ],
      "execution_count": null,
      "outputs": []
    },
    {
      "cell_type": "code",
      "metadata": {
        "id": "_Lc4qRs8dSRo"
      },
      "source": [
        "import warnings\n",
        "warnings.filterwarnings(\"ignore\")"
      ],
      "execution_count": null,
      "outputs": []
    },
    {
      "cell_type": "markdown",
      "metadata": {
        "id": "ag0-ahyWLIzy"
      },
      "source": [
        "## Пример активного обучения"
      ]
    },
    {
      "cell_type": "markdown",
      "metadata": {
        "id": "SBg1DPVUZbVE"
      },
      "source": [
        "### Определим асессора, который будет размечать данные нужные в рамках алгоритма активного обучения"
      ]
    },
    {
      "cell_type": "code",
      "metadata": {
        "id": "ASTWvAvGLDYW"
      },
      "source": [
        "class Assessor:\n",
        "    def __init__(self, function, epsilon=0.1):\n",
        "        self.function = function\n",
        "        self.epsilon = epsilon\n",
        "\n",
        "    def __call__(self, x):\n",
        "        r'''\n",
        "        :param x: Array\n",
        "        '''\n",
        "        return self.function(x, self.epsilon)"
      ],
      "execution_count": null,
      "outputs": []
    },
    {
      "cell_type": "markdown",
      "metadata": {
        "id": "keHHYBuZZjiU"
      },
      "source": [
        "### Данные"
      ]
    },
    {
      "cell_type": "code",
      "metadata": {
        "id": "fGkr1mSQMSA1"
      },
      "source": [
        "np.random.seed(42)\n",
        "\n",
        "l = 500\n",
        "m = 5\n",
        "n_queries = 150\n",
        "\n",
        "X = np.linspace(0, 10, m).reshape(-1, 1)\n",
        "\n",
        "y = (np.sin(X) + 0.5*np.random.randn(m, 1)).reshape(-1)\n",
        "\n",
        "_X = np.linspace(0, 10, l).reshape(-1, 1)"
      ],
      "execution_count": null,
      "outputs": []
    },
    {
      "cell_type": "code",
      "metadata": {
        "id": "6y8TuTWzMC87"
      },
      "source": [
        "assessor = Assessor(lambda x, epsilon: (np.sin(x) + epsilon*np.random.randn(*(x).shape)).reshape(-1))"
      ],
      "execution_count": null,
      "outputs": []
    },
    {
      "cell_type": "markdown",
      "metadata": {
        "id": "2XXmlpnKZlEm"
      },
      "source": [
        "### Рассмотрим наш любимый синус"
      ]
    },
    {
      "cell_type": "code",
      "metadata": {
        "id": "jl3tTSmzPnU9"
      },
      "source": [
        "plt.figure(figsize=(8, 4))\n",
        "\n",
        "plt.plot(np.linspace(0, 10, 100), \n",
        "         np.sin(np.linspace(0, 10, 100).reshape(-1, 1)))\n",
        "\n",
        "plt.scatter(X, y, color='red')\n",
        "plt.title('Initial dataset')\n",
        "plt.show()"
      ],
      "execution_count": null,
      "outputs": []
    },
    {
      "cell_type": "markdown",
      "metadata": {
        "id": "FboTuR9CZwYu"
      },
      "source": [
        "### Определим активное обучение, которое семплирует случайные объекты"
      ]
    },
    {
      "cell_type": "code",
      "metadata": {
        "id": "PXfA-CpRNnz-"
      },
      "source": [
        "def random_sampling(classifier, X_pool):\n",
        "    n_samples = len(X_pool)\n",
        "    query_idx = np.random.choice(range(n_samples))\n",
        "    return query_idx, X_pool[query_idx]\n",
        "\n",
        "learner = ActiveLearner(\n",
        "    estimator=SVR(),\n",
        "    query_strategy=random_sampling,\n",
        "    X_training=X, y_training=y\n",
        ")"
      ],
      "execution_count": null,
      "outputs": []
    },
    {
      "cell_type": "markdown",
      "metadata": {
        "id": "yJmWJ7dAZ5H8"
      },
      "source": [
        "### Посмотрим на начальную инициализацию"
      ]
    },
    {
      "cell_type": "code",
      "metadata": {
        "id": "tVRXBfOGO6Fc"
      },
      "source": [
        "plt.figure(figsize=(8, 4))\n",
        "\n",
        "pred = learner.predict(_X.reshape(-1, 1))\n",
        "plt.plot(_X, pred)\n",
        "\n",
        "plt.scatter(X, y, color='red')\n",
        "plt.title('Initial estimation based on %d points' % len(X))\n",
        "plt.show()"
      ],
      "execution_count": null,
      "outputs": []
    },
    {
      "cell_type": "markdown",
      "metadata": {
        "id": "0FLIuC-GZ8So"
      },
      "source": [
        "### Начнем обучать и собирать историю"
      ]
    },
    {
      "cell_type": "code",
      "metadata": {
        "id": "gz3QiA-pVrHZ"
      },
      "source": [
        "learning_history = []\n",
        "learning_history_point = []\n",
        "\n",
        "pred = learner.predict(_X.reshape(-1, 1))\n",
        "learning_history.append(pred)"
      ],
      "execution_count": null,
      "outputs": []
    },
    {
      "cell_type": "code",
      "metadata": {
        "id": "qxSVVzY9RCiO"
      },
      "source": [
        "for idx in range(n_queries):\n",
        "    query_idx, query_instance = learner.query(_X)\n",
        "    assessor_pred = assessor(query_instance)\n",
        "    learner.teach(query_instance.reshape(-1, 1), assessor_pred.reshape(-1))\n",
        "\n",
        "    pred = learner.predict(_X.reshape(-1, 1))\n",
        "    learning_history.append(pred)\n",
        "    learning_history_point.append((query_instance, assessor_pred))"
      ],
      "execution_count": null,
      "outputs": []
    },
    {
      "cell_type": "code",
      "metadata": {
        "id": "i6r-7PhyRDhj"
      },
      "source": [
        "plt.figure(figsize=(8, 4))\n",
        "\n",
        "pred = learner.predict(_X.reshape(-1, 1))\n",
        "plt.plot(_X, pred)\n",
        "\n",
        "plt.scatter(X, y, color='red')\n",
        "plt.scatter([item[0] for item in learning_history_point], \n",
        "            [item[1] for item in learning_history_point])\n",
        "plt.title('Estimated after %d points' % n_queries)\n",
        "plt.show()"
      ],
      "execution_count": null,
      "outputs": []
    },
    {
      "cell_type": "markdown",
      "metadata": {
        "id": "_nmQtc4NaHcS"
      },
      "source": [
        "### Посмотрим на визуализацию"
      ]
    },
    {
      "cell_type": "code",
      "metadata": {
        "id": "V3TTu5oAWIyp"
      },
      "source": [
        "fps = 1 # frame per sec\n",
        "frn = len(learning_history) # frame number of the animation"
      ],
      "execution_count": null,
      "outputs": []
    },
    {
      "cell_type": "code",
      "metadata": {
        "id": "atzB1pq7ThTf"
      },
      "source": [
        "def update_plot(frame_number, learning_history, learning_history_point, plot):\n",
        "    plot[0] = ax.plot(_X, learning_history[frame_number])\n",
        "\n",
        "    plot[2] = ax.scatter([item[0] for item in learning_history_point[frame_number:frame_number + 1]], \n",
        "                         [item[1] for item in learning_history_point[frame_number:frame_number + 1]])\n",
        "\n",
        "fig = plt.figure(figsize=(8.0, 4.0), frameon=False)\n",
        "\n",
        "ax = fig.add_subplot(111)\n",
        "\n",
        "plot = [None, None, None]\n",
        "plot[0] = ax.plot(_X, learning_history[0])\n",
        "plot[1] = ax.scatter(X, y, color='red')\n",
        "\n",
        "plt.autoscale(tight=True)\n",
        "\n",
        "ani = animation.FuncAnimation(\n",
        "    fig, update_plot, frn, fargs=(learning_history, learning_history_point, plot), interval=1000/fps, blit=False)"
      ],
      "execution_count": null,
      "outputs": []
    },
    {
      "cell_type": "code",
      "metadata": {
        "id": "pKNXBqiFaSwj"
      },
      "source": [
        "HTML(ani.to_jshtml())"
      ],
      "execution_count": null,
      "outputs": []
    },
    {
      "cell_type": "markdown",
      "metadata": {
        "id": "PDtgFSPbas8c"
      },
      "source": [
        "### Пример выбора точки, для которой максимальная дисперсия"
      ]
    },
    {
      "cell_type": "code",
      "metadata": {
        "id": "W9qv1UOjayfZ"
      },
      "source": [
        "def max_std_sampling(classifier, X_pool):\n",
        "    _, std = classifier.predict(X_pool, return_std=True)\n",
        "    return np.argmax(std)\n",
        "\n",
        "learner = ActiveLearner(\n",
        "    estimator=GaussianProcessRegressor(),\n",
        "    query_strategy=max_std_sampling,\n",
        "    X_training=X, y_training=y\n",
        ")"
      ],
      "execution_count": null,
      "outputs": []
    },
    {
      "cell_type": "code",
      "metadata": {
        "id": "WFObum50bJ7h"
      },
      "source": [
        "plt.figure(figsize=(8, 4))\n",
        "\n",
        "pred = learner.predict(_X.reshape(-1, 1))\n",
        "plt.plot(_X, pred)\n",
        "\n",
        "plt.scatter(X, y, color='red')\n",
        "plt.title('Initial estimation based on %d points' % len(X))\n",
        "plt.show()"
      ],
      "execution_count": null,
      "outputs": []
    },
    {
      "cell_type": "code",
      "metadata": {
        "id": "3q6Bje2obO7R"
      },
      "source": [
        "learning_history = []\n",
        "learning_history_point = []\n",
        "\n",
        "pred = learner.predict(_X.reshape(-1, 1))\n",
        "learning_history.append(pred)"
      ],
      "execution_count": null,
      "outputs": []
    },
    {
      "cell_type": "code",
      "metadata": {
        "id": "HyjlZyXJb0yS"
      },
      "source": [
        "for idx in range(n_queries):\n",
        "    query_idx, query_instance = learner.query(_X)\n",
        "    assessor_pred = assessor(query_instance)\n",
        "    learner.teach(query_instance.reshape(-1, 1), assessor_pred.reshape(-1))\n",
        "\n",
        "    pred = learner.predict(_X.reshape(-1, 1))\n",
        "    learning_history.append(pred)\n",
        "    learning_history_point.append((query_instance, assessor_pred))"
      ],
      "execution_count": null,
      "outputs": []
    },
    {
      "cell_type": "code",
      "metadata": {
        "id": "C9GlsVGIb2_m"
      },
      "source": [
        "plt.figure(figsize=(8, 4))\n",
        "\n",
        "pred = learner.predict(_X.reshape(-1, 1))\n",
        "plt.plot(_X, pred)\n",
        "\n",
        "plt.scatter(X, y, color='red')\n",
        "plt.scatter([item[0] for item in learning_history_point], \n",
        "            [item[1] for item in learning_history_point])\n",
        "plt.title('Estimated after %d points' % n_queries)\n",
        "plt.show()"
      ],
      "execution_count": null,
      "outputs": []
    },
    {
      "cell_type": "markdown",
      "metadata": {
        "id": "lWwLWmWIdd8u"
      },
      "source": [
        "### Посмотрим на визуализацию"
      ]
    },
    {
      "cell_type": "code",
      "metadata": {
        "id": "zkYhyYgodd8v"
      },
      "source": [
        "fps = 1 # frame per sec\n",
        "frn = len(learning_history) # frame number of the animation"
      ],
      "execution_count": null,
      "outputs": []
    },
    {
      "cell_type": "code",
      "metadata": {
        "id": "l3SPXevGdd8v"
      },
      "source": [
        "def update_plot(frame_number, learning_history, learning_history_point, plot):\n",
        "    plot[0] = ax.plot(_X, learning_history[frame_number])\n",
        "\n",
        "    plot[2] = ax.scatter([item[0] for item in learning_history_point[frame_number:frame_number + 1]], \n",
        "                         [item[1] for item in learning_history_point[frame_number:frame_number + 1]])\n",
        "\n",
        "fig = plt.figure(figsize=(8.0, 4.0), frameon=False)\n",
        "\n",
        "ax = fig.add_subplot(111)\n",
        "\n",
        "plot = [None, None, None]\n",
        "plot[0] = ax.plot(_X, learning_history[0])\n",
        "plot[1] = ax.scatter(X, y, color='red')\n",
        "\n",
        "plt.autoscale(tight=True)\n",
        "\n",
        "ani = animation.FuncAnimation(\n",
        "    fig, update_plot, frn, fargs=(learning_history, learning_history_point, plot), interval=1000/fps, blit=False)"
      ],
      "execution_count": null,
      "outputs": []
    },
    {
      "cell_type": "code",
      "metadata": {
        "id": "iqon_2J8dd8w"
      },
      "source": [
        "HTML(ani.to_jshtml())"
      ],
      "execution_count": null,
      "outputs": []
    },
    {
      "cell_type": "code",
      "metadata": {
        "id": "uWIyaPOAI_8k"
      },
      "source": [
        ""
      ],
      "execution_count": null,
      "outputs": []
    }
  ]
}