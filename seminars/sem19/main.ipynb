{
  "nbformat": 4,
  "nbformat_minor": 0,
  "metadata": {
    "kernelspec": {
      "display_name": "Python 3",
      "language": "python",
      "name": "python3"
    },
    "language_info": {
      "codemirror_mode": {
        "name": "ipython",
        "version": 3
      },
      "file_extension": ".py",
      "mimetype": "text/x-python",
      "name": "python",
      "nbconvert_exporter": "python",
      "pygments_lexer": "ipython3",
      "version": "3.7.3"
    },
    "colab": {
      "name": "main.ipynb",
      "provenance": []
    }
  },
  "cells": [
    {
      "cell_type": "markdown",
      "metadata": {
        "id": "s633GV2EiuNp"
      },
      "source": [
        "# Тематическое моделирование"
      ]
    },
    {
      "cell_type": "code",
      "metadata": {
        "id": "atm4yeVjiuNz"
      },
      "source": [
        "!pip install --quiet -U bigartm pymorphy2[fast] pyLDAvis"
      ],
      "execution_count": null,
      "outputs": []
    },
    {
      "cell_type": "code",
      "metadata": {
        "id": "L9LsuQqip63E"
      },
      "source": [
        "from google.colab import drive\n",
        "drive.mount('/content/drive')"
      ],
      "execution_count": null,
      "outputs": []
    },
    {
      "cell_type": "markdown",
      "metadata": {
        "id": "x830gMJ5iuN1"
      },
      "source": [
        "## Библиотеки"
      ]
    },
    {
      "cell_type": "code",
      "metadata": {
        "id": "mmyv5Gv-iuN2"
      },
      "source": [
        "import matplotlib.pyplot as plt\n",
        "from mpl_toolkits import mplot3d\n",
        "from matplotlib import gridspec\n",
        "\n",
        "from tqdm.notebook import tqdm\n",
        "import numpy as np\n",
        "import  pandas as pd\n",
        "import seaborn as sns\n",
        "import pymorphy2\n",
        "import torch\n",
        "import scipy\n",
        "from sklearn.utils import shuffle\n",
        "import re\n",
        "\n",
        "import artm\n",
        "\n",
        "from sklearn.feature_extraction.text import CountVectorizer\n",
        "from sklearn.decomposition import LatentDirichletAllocation\n",
        "from sklearn.ensemble import RandomForestClassifier\n",
        "from sklearn.metrics import classification_report\n",
        "from torch.utils.tensorboard import SummaryWriter"
      ],
      "execution_count": 7,
      "outputs": []
    },
    {
      "cell_type": "markdown",
      "metadata": {
        "id": "DM2iYdGDmj-b"
      },
      "source": [
        "## Загружаем данные"
      ]
    },
    {
      "cell_type": "code",
      "metadata": {
        "id": "sOccrzE6mtQ5"
      },
      "source": [
        "data = pd.read_csv('drive/MyDrive/DATASETS/MachineLearning'\n",
        "                   '/topicmodeling/lenta-ru-filtered.csv')"
      ],
      "execution_count": 6,
      "outputs": []
    },
    {
      "cell_type": "code",
      "metadata": {
        "colab": {
          "base_uri": "https://localhost:8080/",
          "height": 419
        },
        "id": "1oFEZQbmqGsg",
        "outputId": "e9e66d50-b2b9-4b4a-9caa-bff08917f27a"
      },
      "source": [
        "data"
      ],
      "execution_count": 7,
      "outputs": [
        {
          "output_type": "execute_result",
          "data": {
            "text/html": [
              "<div>\n",
              "<style scoped>\n",
              "    .dataframe tbody tr th:only-of-type {\n",
              "        vertical-align: middle;\n",
              "    }\n",
              "\n",
              "    .dataframe tbody tr th {\n",
              "        vertical-align: top;\n",
              "    }\n",
              "\n",
              "    .dataframe thead th {\n",
              "        text-align: right;\n",
              "    }\n",
              "</style>\n",
              "<table border=\"1\" class=\"dataframe\">\n",
              "  <thead>\n",
              "    <tr style=\"text-align: right;\">\n",
              "      <th></th>\n",
              "      <th>text</th>\n",
              "      <th>tags</th>\n",
              "      <th>len</th>\n",
              "      <th>date</th>\n",
              "    </tr>\n",
              "  </thead>\n",
              "  <tbody>\n",
              "    <tr>\n",
              "      <th>0</th>\n",
              "      <td>С 1 сентября на всей территории России вводитс...</td>\n",
              "      <td>Все</td>\n",
              "      <td>1654</td>\n",
              "      <td>31-08-1999</td>\n",
              "    </tr>\n",
              "    <tr>\n",
              "      <th>1</th>\n",
              "      <td>По сведениям миссии ООН, передаваемым РИА \"Нов...</td>\n",
              "      <td>Все</td>\n",
              "      <td>1086</td>\n",
              "      <td>31-08-1999</td>\n",
              "    </tr>\n",
              "    <tr>\n",
              "      <th>2</th>\n",
              "      <td>15 представителей национал-большевистской парт...</td>\n",
              "      <td>Все</td>\n",
              "      <td>1219</td>\n",
              "      <td>31-08-1999</td>\n",
              "    </tr>\n",
              "    <tr>\n",
              "      <th>3</th>\n",
              "      <td>Намеченная на сегодняшний день церемония вступ...</td>\n",
              "      <td>Все</td>\n",
              "      <td>3094</td>\n",
              "      <td>31-08-1999</td>\n",
              "    </tr>\n",
              "    <tr>\n",
              "      <th>4</th>\n",
              "      <td>На юге Киргизии, а именно в Баткенском и Чон-А...</td>\n",
              "      <td>Все</td>\n",
              "      <td>1354</td>\n",
              "      <td>31-08-1999</td>\n",
              "    </tr>\n",
              "    <tr>\n",
              "      <th>...</th>\n",
              "      <td>...</td>\n",
              "      <td>...</td>\n",
              "      <td>...</td>\n",
              "      <td>...</td>\n",
              "    </tr>\n",
              "    <tr>\n",
              "      <th>863280</th>\n",
              "      <td>Популярное место среди туристов в Мурманской о...</td>\n",
              "      <td>Россия</td>\n",
              "      <td>1231</td>\n",
              "      <td>11-09-2020</td>\n",
              "    </tr>\n",
              "    <tr>\n",
              "      <th>863281</th>\n",
              "      <td>Рейтинги от международного рейтингового агентс...</td>\n",
              "      <td>NaN</td>\n",
              "      <td>1425</td>\n",
              "      <td>11-09-2020</td>\n",
              "    </tr>\n",
              "    <tr>\n",
              "      <th>863282</th>\n",
              "      <td>Российские ученые нашли в Якутии новый подвид ...</td>\n",
              "      <td>События</td>\n",
              "      <td>1299</td>\n",
              "      <td>11-09-2020</td>\n",
              "    </tr>\n",
              "    <tr>\n",
              "      <th>863283</th>\n",
              "      <td>Для указания коронавируса как причины смерти ч...</td>\n",
              "      <td>Общество</td>\n",
              "      <td>2061</td>\n",
              "      <td>11-09-2020</td>\n",
              "    </tr>\n",
              "    <tr>\n",
              "      <th>863284</th>\n",
              "      <td>Президент США Дональд Трамп стал посредником в...</td>\n",
              "      <td>Политика</td>\n",
              "      <td>1020</td>\n",
              "      <td>11-09-2020</td>\n",
              "    </tr>\n",
              "  </tbody>\n",
              "</table>\n",
              "<p>863285 rows × 4 columns</p>\n",
              "</div>"
            ],
            "text/plain": [
              "                                                     text  ...        date\n",
              "0       С 1 сентября на всей территории России вводитс...  ...  31-08-1999\n",
              "1       По сведениям миссии ООН, передаваемым РИА \"Нов...  ...  31-08-1999\n",
              "2       15 представителей национал-большевистской парт...  ...  31-08-1999\n",
              "3       Намеченная на сегодняшний день церемония вступ...  ...  31-08-1999\n",
              "4       На юге Киргизии, а именно в Баткенском и Чон-А...  ...  31-08-1999\n",
              "...                                                   ...  ...         ...\n",
              "863280  Популярное место среди туристов в Мурманской о...  ...  11-09-2020\n",
              "863281  Рейтинги от международного рейтингового агентс...  ...  11-09-2020\n",
              "863282  Российские ученые нашли в Якутии новый подвид ...  ...  11-09-2020\n",
              "863283  Для указания коронавируса как причины смерти ч...  ...  11-09-2020\n",
              "863284  Президент США Дональд Трамп стал посредником в...  ...  11-09-2020\n",
              "\n",
              "[863285 rows x 4 columns]"
            ]
          },
          "metadata": {
            "tags": []
          },
          "execution_count": 7
        }
      ]
    },
    {
      "cell_type": "code",
      "metadata": {
        "colab": {
          "base_uri": "https://localhost:8080/",
          "height": 297
        },
        "id": "YcUj8RGfrhEj",
        "outputId": "85d9c4ae-beb0-4834-99b3-0c8454ac40fd"
      },
      "source": [
        "data.describe()"
      ],
      "execution_count": 8,
      "outputs": [
        {
          "output_type": "execute_result",
          "data": {
            "text/html": [
              "<div>\n",
              "<style scoped>\n",
              "    .dataframe tbody tr th:only-of-type {\n",
              "        vertical-align: middle;\n",
              "    }\n",
              "\n",
              "    .dataframe tbody tr th {\n",
              "        vertical-align: top;\n",
              "    }\n",
              "\n",
              "    .dataframe thead th {\n",
              "        text-align: right;\n",
              "    }\n",
              "</style>\n",
              "<table border=\"1\" class=\"dataframe\">\n",
              "  <thead>\n",
              "    <tr style=\"text-align: right;\">\n",
              "      <th></th>\n",
              "      <th>len</th>\n",
              "    </tr>\n",
              "  </thead>\n",
              "  <tbody>\n",
              "    <tr>\n",
              "      <th>count</th>\n",
              "      <td>863285.000000</td>\n",
              "    </tr>\n",
              "    <tr>\n",
              "      <th>mean</th>\n",
              "      <td>1341.245505</td>\n",
              "    </tr>\n",
              "    <tr>\n",
              "      <th>std</th>\n",
              "      <td>572.066583</td>\n",
              "    </tr>\n",
              "    <tr>\n",
              "      <th>min</th>\n",
              "      <td>3.000000</td>\n",
              "    </tr>\n",
              "    <tr>\n",
              "      <th>25%</th>\n",
              "      <td>980.000000</td>\n",
              "    </tr>\n",
              "    <tr>\n",
              "      <th>50%</th>\n",
              "      <td>1253.000000</td>\n",
              "    </tr>\n",
              "    <tr>\n",
              "      <th>75%</th>\n",
              "      <td>1596.000000</td>\n",
              "    </tr>\n",
              "    <tr>\n",
              "      <th>max</th>\n",
              "      <td>55387.000000</td>\n",
              "    </tr>\n",
              "  </tbody>\n",
              "</table>\n",
              "</div>"
            ],
            "text/plain": [
              "                 len\n",
              "count  863285.000000\n",
              "mean     1341.245505\n",
              "std       572.066583\n",
              "min         3.000000\n",
              "25%       980.000000\n",
              "50%      1253.000000\n",
              "75%      1596.000000\n",
              "max     55387.000000"
            ]
          },
          "metadata": {
            "tags": []
          },
          "execution_count": 8
        }
      ]
    },
    {
      "cell_type": "markdown",
      "metadata": {
        "id": "iYYlsT6QU7Er"
      },
      "source": [
        "Видно, что новостные заметки занимают порядка 1.2 кб текста, что является порядка 3/4 страницы А4 печатного текста. Данная длина текста приемлема для анализа, так как не является слишком короткими (как например твиты, порядка 0.2 кб).\n",
        "\n",
        "Заметим, что в данных присутсвует поле tags (посути это можно рассматривать как топик). Данное поле будет интерестно в последующем анализе."
      ]
    },
    {
      "cell_type": "code",
      "metadata": {
        "colab": {
          "base_uri": "https://localhost:8080/"
        },
        "id": "OPuaZUY0r4Mx",
        "outputId": "897393fb-e080-4a8a-f23b-d3c67096e1d3"
      },
      "source": [
        "topics = [x.lower() for x in np.unique(\n",
        "    np.array(data['tags'].values, dtype=str)).tolist() if x != 'nan']\n",
        "topics[:10], len(topics)"
      ],
      "execution_count": 12,
      "outputs": [
        {
          "output_type": "execute_result",
          "data": {
            "text/plain": [
              "(['69-я параллель',\n",
              "  'coцсети',\n",
              "  'авто',\n",
              "  'автобизнес',\n",
              "  'аналитика рынка',\n",
              "  'английский футбол',\n",
              "  'белоруссия',\n",
              "  'бизнес',\n",
              "  'бокс и мма',\n",
              "  'вещи'],\n",
              " 94)"
            ]
          },
          "metadata": {
            "tags": []
          },
          "execution_count": 12
        }
      ]
    },
    {
      "cell_type": "markdown",
      "metadata": {
        "id": "9ZPqB1v4sERt"
      },
      "source": [
        "## Предобработка текстов (возможно улучшение)"
      ]
    },
    {
      "cell_type": "markdown",
      "metadata": {
        "id": "e5_DKeeqmcA7"
      },
      "source": [
        "### Токенизаторы"
      ]
    },
    {
      "cell_type": "code",
      "metadata": {
        "id": "GhPDucmsl60V"
      },
      "source": [
        "import nltk\n",
        "from nltk.tokenize import RegexpTokenizer\n",
        "nltk.download('punkt')"
      ],
      "execution_count": null,
      "outputs": []
    },
    {
      "cell_type": "code",
      "metadata": {
        "id": "zTu2ngnul5gE"
      },
      "source": [
        "word_tokenizer = RegexpTokenizer(r'[a-zа-яёЁА-ЯA-Z]+|[^\\w\\s]|\\d+')\n",
        "sent_tokenizer = lambda sent: nltk.sent_tokenize(sent, language=\"russian\")"
      ],
      "execution_count": 4,
      "outputs": []
    },
    {
      "cell_type": "markdown",
      "metadata": {
        "id": "ubuC0F8rsX8m"
      },
      "source": [
        "### Лематизатор для русского"
      ]
    },
    {
      "cell_type": "code",
      "metadata": {
        "id": "ZxY6Ptrsr4nO"
      },
      "source": [
        "nltk.download('stopwords')\n",
        "# pymorphy2 анализатор\n",
        "morph = pymorphy2.MorphAnalyzer()\n",
        "# стоп слова из nltk\n",
        "stops = nltk.corpus.stopwords.words('russian')"
      ],
      "execution_count": null,
      "outputs": []
    },
    {
      "cell_type": "code",
      "metadata": {
        "id": "C2T-DCEGseFB"
      },
      "source": [
        "def proccess_text(text):\n",
        "    text= text.lower()\n",
        "    sents = sent_tokenizer(text)\n",
        "    words = list(\n",
        "        itertools.chain.from_iterable(\n",
        "            word_tokenizer.tokenize_sents(sents)))\n",
        "    return [x for x in [morph.normal_forms(word)[0] for word in words ]\\\n",
        "            if x not in stops]"
      ],
      "execution_count": 6,
      "outputs": []
    },
    {
      "cell_type": "code",
      "metadata": {
        "id": "pCbNBGH1suCC"
      },
      "source": [
        "# data_text = data['text']\n",
        "# for i in tqdm(range(len(data))):\n",
        "#     data_text.loc[i] = ' '.join(proccess_text(data_text.loc[i]))\n",
        "# data.to_csv('drive/MyDrive/DATASETS/MachineLearning'\n",
        "#             '/topicmodeling/lenta-ru-proccess.csv', index=False)\n",
        "\n",
        "# препроцесинг занимает порядка двух часов (из-за лематизации), поэтому \n",
        "# рекомендуется загрузить сразу обработанную версию\n",
        "data = pd.read_csv(\n",
        "    'drive/MyDrive/DATASETS/MachineLearning'\n",
        "    '/topicmodeling/lenta-ru-proccess.csv')"
      ],
      "execution_count": 2,
      "outputs": []
    },
    {
      "cell_type": "code",
      "metadata": {
        "colab": {
          "base_uri": "https://localhost:8080/",
          "height": 419
        },
        "id": "jQ_rXcnKs7Zr",
        "outputId": "b32659c2-565a-443d-affb-268e388861fd"
      },
      "source": [
        "data"
      ],
      "execution_count": 3,
      "outputs": [
        {
          "output_type": "execute_result",
          "data": {
            "text/html": [
              "<div>\n",
              "<style scoped>\n",
              "    .dataframe tbody tr th:only-of-type {\n",
              "        vertical-align: middle;\n",
              "    }\n",
              "\n",
              "    .dataframe tbody tr th {\n",
              "        vertical-align: top;\n",
              "    }\n",
              "\n",
              "    .dataframe thead th {\n",
              "        text-align: right;\n",
              "    }\n",
              "</style>\n",
              "<table border=\"1\" class=\"dataframe\">\n",
              "  <thead>\n",
              "    <tr style=\"text-align: right;\">\n",
              "      <th></th>\n",
              "      <th>text</th>\n",
              "      <th>tags</th>\n",
              "      <th>len</th>\n",
              "      <th>date</th>\n",
              "    </tr>\n",
              "  </thead>\n",
              "  <tbody>\n",
              "    <tr>\n",
              "      <th>0</th>\n",
              "      <td>1 сентябрь весь территория россия вводиться но...</td>\n",
              "      <td>Все</td>\n",
              "      <td>1654</td>\n",
              "      <td>31-08-1999</td>\n",
              "    </tr>\n",
              "    <tr>\n",
              "      <th>1</th>\n",
              "      <td>сведение миссия оон , передаваемый риа \" новос...</td>\n",
              "      <td>Все</td>\n",
              "      <td>1086</td>\n",
              "      <td>31-08-1999</td>\n",
              "    </tr>\n",
              "    <tr>\n",
              "      <th>2</th>\n",
              "      <td>15 представитель национал - большевистский пар...</td>\n",
              "      <td>Все</td>\n",
              "      <td>1219</td>\n",
              "      <td>31-08-1999</td>\n",
              "    </tr>\n",
              "    <tr>\n",
              "      <th>3</th>\n",
              "      <td>наметить сегодняшний день церемония вступление...</td>\n",
              "      <td>Все</td>\n",
              "      <td>3094</td>\n",
              "      <td>31-08-1999</td>\n",
              "    </tr>\n",
              "    <tr>\n",
              "      <th>4</th>\n",
              "      <td>юг киргизия , именно баткенский чон - алайском...</td>\n",
              "      <td>Все</td>\n",
              "      <td>1354</td>\n",
              "      <td>31-08-1999</td>\n",
              "    </tr>\n",
              "    <tr>\n",
              "      <th>...</th>\n",
              "      <td>...</td>\n",
              "      <td>...</td>\n",
              "      <td>...</td>\n",
              "      <td>...</td>\n",
              "    </tr>\n",
              "    <tr>\n",
              "      <th>863280</th>\n",
              "      <td>популярный место среди турист мурманский облас...</td>\n",
              "      <td>Россия</td>\n",
              "      <td>1231</td>\n",
              "      <td>11-09-2020</td>\n",
              "    </tr>\n",
              "    <tr>\n",
              "      <th>863281</th>\n",
              "      <td>рейтинг международный рейтинговый агентство s ...</td>\n",
              "      <td>NaN</td>\n",
              "      <td>1425</td>\n",
              "      <td>11-09-2020</td>\n",
              "    </tr>\n",
              "    <tr>\n",
              "      <th>863282</th>\n",
              "      <td>российский учёный найти якутия новый подвид ар...</td>\n",
              "      <td>События</td>\n",
              "      <td>1299</td>\n",
              "      <td>11-09-2020</td>\n",
              "    </tr>\n",
              "    <tr>\n",
              "      <th>863283</th>\n",
              "      <td>указание коронавирус причина смерть человек не...</td>\n",
              "      <td>Общество</td>\n",
              "      <td>2061</td>\n",
              "      <td>11-09-2020</td>\n",
              "    </tr>\n",
              "    <tr>\n",
              "      <th>863284</th>\n",
              "      <td>президент сша дональд трамп стать посредник но...</td>\n",
              "      <td>Политика</td>\n",
              "      <td>1020</td>\n",
              "      <td>11-09-2020</td>\n",
              "    </tr>\n",
              "  </tbody>\n",
              "</table>\n",
              "<p>863285 rows × 4 columns</p>\n",
              "</div>"
            ],
            "text/plain": [
              "                                                     text  ...        date\n",
              "0       1 сентябрь весь территория россия вводиться но...  ...  31-08-1999\n",
              "1       сведение миссия оон , передаваемый риа \" новос...  ...  31-08-1999\n",
              "2       15 представитель национал - большевистский пар...  ...  31-08-1999\n",
              "3       наметить сегодняшний день церемония вступление...  ...  31-08-1999\n",
              "4       юг киргизия , именно баткенский чон - алайском...  ...  31-08-1999\n",
              "...                                                   ...  ...         ...\n",
              "863280  популярный место среди турист мурманский облас...  ...  11-09-2020\n",
              "863281  рейтинг международный рейтинговый агентство s ...  ...  11-09-2020\n",
              "863282  российский учёный найти якутия новый подвид ар...  ...  11-09-2020\n",
              "863283  указание коронавирус причина смерть человек не...  ...  11-09-2020\n",
              "863284  президент сша дональд трамп стать посредник но...  ...  11-09-2020\n",
              "\n",
              "[863285 rows x 4 columns]"
            ]
          },
          "metadata": {
            "tags": []
          },
          "execution_count": 3
        }
      ]
    },
    {
      "cell_type": "markdown",
      "metadata": {
        "id": "G_T7zb1vt3HN"
      },
      "source": [
        "## LDA"
      ]
    },
    {
      "cell_type": "code",
      "metadata": {
        "id": "NjoYaaggENqj"
      },
      "source": [
        "texts = data['text'].values.tolist()\n",
        "topics = data['tags'].values.tolist()\n",
        "\n",
        "texts, topics = shuffle(texts, topics)\n"
      ],
      "execution_count": 4,
      "outputs": []
    },
    {
      "cell_type": "code",
      "metadata": {
        "id": "cPXzqRY7FEG-"
      },
      "source": [
        "texts_train = texts[:30000]\n",
        "texts_test = texts[-10000:]\n",
        "\n",
        "topics_train = topics[:30000]\n",
        "topics_test = topics[-10000:]"
      ],
      "execution_count": 5,
      "outputs": []
    },
    {
      "cell_type": "code",
      "metadata": {
        "id": "ief62xFkC1qk",
        "outputId": "0e290622-724d-405b-b8cf-cef0ada49d07",
        "colab": {
          "base_uri": "https://localhost:8080/"
        }
      },
      "source": [
        "vectorizer = CountVectorizer(binary=True)\n",
        "vectorizer.fit(texts_train)"
      ],
      "execution_count": 6,
      "outputs": [
        {
          "output_type": "execute_result",
          "data": {
            "text/plain": [
              "CountVectorizer(analyzer='word', binary=True, decode_error='strict',\n",
              "                dtype=<class 'numpy.int64'>, encoding='utf-8', input='content',\n",
              "                lowercase=True, max_df=1.0, max_features=None, min_df=1,\n",
              "                ngram_range=(1, 1), preprocessor=None, stop_words=None,\n",
              "                strip_accents=None, token_pattern='(?u)\\\\b\\\\w\\\\w+\\\\b',\n",
              "                tokenizer=None, vocabulary=None)"
            ]
          },
          "metadata": {
            "tags": []
          },
          "execution_count": 6
        }
      ]
    },
    {
      "cell_type": "code",
      "metadata": {
        "id": "ZBRTMB-jEftB"
      },
      "source": [
        "train_doc_vectors = vectorizer.transform(texts_train)"
      ],
      "execution_count": 8,
      "outputs": []
    },
    {
      "cell_type": "code",
      "metadata": {
        "id": "PKHLQxeaECNk",
        "outputId": "b211a070-a21f-453f-d43c-76953f288187",
        "colab": {
          "base_uri": "https://localhost:8080/"
        }
      },
      "source": [
        "lda = LatentDirichletAllocation(n_components=20, random_state=42)\n",
        "lda.fit(train_doc_vectors)"
      ],
      "execution_count": 9,
      "outputs": [
        {
          "output_type": "execute_result",
          "data": {
            "text/plain": [
              "LatentDirichletAllocation(batch_size=128, doc_topic_prior=None,\n",
              "                          evaluate_every=-1, learning_decay=0.7,\n",
              "                          learning_method='batch', learning_offset=10.0,\n",
              "                          max_doc_update_iter=100, max_iter=10,\n",
              "                          mean_change_tol=0.001, n_components=20, n_jobs=None,\n",
              "                          perp_tol=0.1, random_state=42, topic_word_prior=None,\n",
              "                          total_samples=1000000.0, verbose=0)"
            ]
          },
          "metadata": {
            "tags": []
          },
          "execution_count": 9
        }
      ]
    },
    {
      "cell_type": "code",
      "metadata": {
        "id": "aP8m1PIeEkc8"
      },
      "source": [
        "feature_train = lda.transform(train_doc_vectors)"
      ],
      "execution_count": 10,
      "outputs": []
    },
    {
      "cell_type": "code",
      "metadata": {
        "id": "rrsrSedQEqMf"
      },
      "source": [
        "topics_train = np.array(topics_train)"
      ],
      "execution_count": 13,
      "outputs": []
    },
    {
      "cell_type": "code",
      "metadata": {
        "id": "j-JIqVDzIWme",
        "outputId": "a92e9c8a-c5d5-4d76-d8e7-bdd340a2ffd4",
        "colab": {
          "base_uri": "https://localhost:8080/"
        }
      },
      "source": [
        "classifier = RandomForestClassifier(n_estimators=10)\n",
        "classifier.fit(feature_train, topics_train)"
      ],
      "execution_count": 14,
      "outputs": [
        {
          "output_type": "execute_result",
          "data": {
            "text/plain": [
              "RandomForestClassifier(bootstrap=True, ccp_alpha=0.0, class_weight=None,\n",
              "                       criterion='gini', max_depth=None, max_features='auto',\n",
              "                       max_leaf_nodes=None, max_samples=None,\n",
              "                       min_impurity_decrease=0.0, min_impurity_split=None,\n",
              "                       min_samples_leaf=1, min_samples_split=2,\n",
              "                       min_weight_fraction_leaf=0.0, n_estimators=10,\n",
              "                       n_jobs=None, oob_score=False, random_state=None,\n",
              "                       verbose=0, warm_start=False)"
            ]
          },
          "metadata": {
            "tags": []
          },
          "execution_count": 14
        }
      ]
    },
    {
      "cell_type": "code",
      "metadata": {
        "id": "R4fNYIaAImgS"
      },
      "source": [
        "test_doc_vectors = vectorizer.transform(texts_test)"
      ],
      "execution_count": 15,
      "outputs": []
    },
    {
      "cell_type": "code",
      "metadata": {
        "id": "95SyLdqQIvNW"
      },
      "source": [
        "feature_test = lda.transform(test_doc_vectors)"
      ],
      "execution_count": 16,
      "outputs": []
    },
    {
      "cell_type": "code",
      "metadata": {
        "id": "-2KOFdsWI7OE"
      },
      "source": [
        "pred = classifier.predict(feature_test)"
      ],
      "execution_count": 17,
      "outputs": []
    },
    {
      "cell_type": "code",
      "metadata": {
        "id": "86RLomTPJKXD"
      },
      "source": [
        "topics_test = np.array(topics_test)"
      ],
      "execution_count": 18,
      "outputs": []
    },
    {
      "cell_type": "code",
      "metadata": {
        "id": "BYxuZp3LJEDk",
        "outputId": "1e769e1b-d37b-462a-870c-3ca97ba4056a",
        "colab": {
          "base_uri": "https://localhost:8080/"
        }
      },
      "source": [
        "print(classification_report(topics_test, pred, zero_division=1))"
      ],
      "execution_count": 19,
      "outputs": [
        {
          "output_type": "stream",
          "text": [
            "                      precision    recall  f1-score   support\n",
            "\n",
            "             Coцсети       0.14      0.11      0.12        47\n",
            "                 nan       0.12      0.06      0.08       344\n",
            "                Авто       0.00      0.00      0.00         2\n",
            "   Английский футбол       0.50      0.14      0.22         7\n",
            "          Белоруссия       0.00      0.00      0.00        43\n",
            "              Бизнес       0.11      0.03      0.04       113\n",
            "          Бокс и ММА       0.06      0.02      0.03        42\n",
            "                Вещи       0.00      0.00      0.00         3\n",
            "     Вирусные ролики       0.00      0.00      0.00         5\n",
            "         Внешний вид       0.14      0.10      0.12        20\n",
            "                 Все       0.57      0.90      0.70      5207\n",
            "             Гаджеты       0.00      0.00      0.00        35\n",
            "               Город       0.00      0.00      0.00        25\n",
            "        Госэкономика       0.27      0.14      0.19       211\n",
            "                Дача       0.00      0.00      0.00        18\n",
            "            Движение       1.00      0.00      0.00         9\n",
            "      Деловой климат       0.00      0.00      0.00        33\n",
            "              Деньги       0.00      0.00      0.00        34\n",
            "          Достижения       0.00      0.00      0.00        11\n",
            "                 Еда       0.00      0.00      0.00         7\n",
            "               Жизнь       0.00      0.00      0.00         5\n",
            "          Закавказье       0.00      0.00      0.00        19\n",
            "               Звери       0.14      0.06      0.09        47\n",
            "         Зимние виды       0.12      0.04      0.06        27\n",
            "                Игры       0.00      0.00      0.00        23\n",
            "         Инструменты       0.00      0.00      0.00        13\n",
            "            Интернет       0.09      0.04      0.06       112\n",
            "           Искусство       0.00      0.00      0.00        17\n",
            "             История       1.00      0.00      0.00         9\n",
            "           Казахстан       0.00      0.00      0.00         6\n",
            "            Квартира       0.11      0.01      0.02        78\n",
            "   Киберпреступность       0.00      0.00      0.00         9\n",
            "                Кино       0.27      0.08      0.12       156\n",
            "               Книги       1.00      0.00      0.00        17\n",
            "           Конфликты       0.23      0.05      0.08        64\n",
            "              Космос       0.38      0.05      0.09        56\n",
            "            Криминал       0.00      0.00      0.00        34\n",
            "            Культура       1.00      0.17      0.29         6\n",
            "         Летние виды       0.00      0.00      0.00        33\n",
            "                Люди       0.16      0.08      0.11       100\n",
            "                Мемы       1.00      0.00      0.00        11\n",
            "                 Мир       0.00      0.00      0.00        39\n",
            "      Мировой бизнес       0.00      0.00      0.00         7\n",
            "              Мнения       1.00      0.00      0.00        10\n",
            "            Молдавия       0.00      0.00      0.00         5\n",
            "              Москва       1.00      0.00      0.00        24\n",
            "              Музыка       0.11      0.04      0.06       109\n",
            "               Наука       0.50      0.21      0.30       113\n",
            "            Общество       0.33      0.17      0.23       531\n",
            "              Оружие       0.33      0.07      0.12        40\n",
            "                Офис       0.00      0.00      0.00         5\n",
            "            Политика       0.35      0.18      0.24       588\n",
            "Полиция и спецслужбы       0.00      0.00      0.00        34\n",
            "              Пресса       1.00      0.00      0.00        30\n",
            "   Преступная Россия       1.00      0.00      0.00         5\n",
            "        Преступность       0.17      0.02      0.03        56\n",
            "          Прибалтика       1.00      0.00      0.00        19\n",
            "       Производители       1.00      0.00      0.00         1\n",
            "        Происшествия       0.25      0.10      0.14       263\n",
            "             Регионы       0.20      0.02      0.04        42\n",
            "             Реклама       1.00      0.00      0.00         4\n",
            "              Россия       1.00      0.00      0.00        24\n",
            "               Рынки       0.00      0.00      0.00        37\n",
            "     Следствие и суд       0.34      0.07      0.12       137\n",
            "             События       0.00      0.00      0.00        43\n",
            "                Софт       1.00      0.00      0.00         5\n",
            "    Социальная сфера       1.00      0.00      0.00        14\n",
            "        Средняя Азия       0.00      0.00      0.00        17\n",
            "               Стиль       0.56      0.37      0.44        41\n",
            "          ТВ и радио       0.00      0.00      0.00        77\n",
            "               Театр       1.00      0.00      0.00        20\n",
            "             Техника       1.00      0.00      0.00        11\n",
            "             Украина       0.45      0.24      0.31       310\n",
            "    Финансы компаний       1.00      0.00      0.00         1\n",
            "              Футбол       0.29      0.13      0.18       196\n",
            "              Хоккей       1.00      0.06      0.11        17\n",
            "                Часы       1.00      0.00      0.00         4\n",
            "           Экономика       0.50      0.08      0.14        12\n",
            "             Явления       0.25      0.14      0.18        51\n",
            "\n",
            "            accuracy                           0.52     10000\n",
            "           macro avg       0.36      0.05      0.06     10000\n",
            "        weighted avg       0.43      0.52      0.43     10000\n",
            "\n"
          ],
          "name": "stdout"
        }
      ]
    },
    {
      "cell_type": "markdown",
      "metadata": {
        "id": "YOZt84hzt5fC"
      },
      "source": [
        "## BigARTM"
      ]
    },
    {
      "cell_type": "markdown",
      "metadata": {
        "id": "KtKAAkl2t-gF"
      },
      "source": [
        "### Перевод данных в формат данных для bigartm (+ деление на train/valid)"
      ]
    },
    {
      "cell_type": "code",
      "metadata": {
        "id": "cqp66id_5sP7"
      },
      "source": [
        "filename_valid = ('drive/MyDrive/DATASETS/MachineLearning'\n",
        "                  '/topicmodeling/vw_data/texts_valid.vw.txt')\n",
        "filename_train = ('drive/MyDrive/DATASETS/MachineLearning'\n",
        "                  '/topicmodeling/vw_data/texts_train.vw.txt')"
      ],
      "execution_count": 16,
      "outputs": []
    },
    {
      "cell_type": "code",
      "metadata": {
        "id": "zt5XTYpJtlOw"
      },
      "source": [
        "counter_train = 0\n",
        "counter_valid = 0\n",
        "\n",
        "y_train = []\n",
        "y_valid = []\n",
        "\n",
        "reg = re.compile(r'\\W+')\n",
        "with open(filename_valid, 'w') as fout_valid:\n",
        "    with open(filename_train, 'w') as fout_train:\n",
        "        for i in tqdm(range(len(data))):\n",
        "            text = (reg.sub(' ', data.loc[i]['text']).strip()).split()\n",
        "            label = '_'.join(data.loc[i]['date'].split('-')[1:])\n",
        "\n",
        "\n",
        "            if len(text) > 100:\n",
        "                if (i + 1) % 100 == 0:\n",
        "                    fout_valid.write('doc_{} {} |@month class_{}\\n'.format(\n",
        "                        counter_train, ' '.join(text), label))\n",
        "                    counter_train += 1\n",
        "                    y_valid.append(str(data.loc[i]['tags']).lower().strip())\n",
        "                else:\n",
        "                    fout_train.write('doc_{} {} |@month class_{}\\n'.format(\n",
        "                        counter_valid, ' '.join(text), label))\n",
        "                    counter_valid += 1\n",
        "                    y_train.append(str(data.loc[i]['tags']).lower().strip())                    "
      ],
      "execution_count": null,
      "outputs": []
    },
    {
      "cell_type": "code",
      "metadata": {
        "id": "GSy-CNmu9wwN"
      },
      "source": [
        "with open('drive/MyDrive/DATASETS/MachineLearning'\n",
        "          '/topicmodeling/vw_data/y_valid.vw.txt', 'w') as f:\n",
        "    f.write('\\n'.join(y_valid))\n",
        "\n",
        "with open('drive/MyDrive/DATASETS/MachineLearning'\n",
        "          '/topicmodeling/vw_data/y_train.vw.txt', 'w') as f:\n",
        "    f.write('\\n'.join(y_train))"
      ],
      "execution_count": 18,
      "outputs": []
    },
    {
      "cell_type": "markdown",
      "metadata": {
        "id": "MN3gviQ2wCEa"
      },
      "source": [
        "### Посмотрим на данный формат данных"
      ]
    },
    {
      "cell_type": "code",
      "metadata": {
        "colab": {
          "base_uri": "https://localhost:8080/"
        },
        "id": "eTOnB2-3uJdY",
        "outputId": "74b5cfdc-c2c2-4077-cc9e-50969d6370a5"
      },
      "source": [
        "!head -2 drive/MyDrive/DATASETS/MachineLearning/topicmodeling/vw_data/texts_valid.vw.txt"
      ],
      "execution_count": 17,
      "outputs": [
        {
          "output_type": "stream",
          "text": [
            "doc_0 причина смерть меньший мера 34 малазийский ребёнок возраст 5 месяц 7 год стать неизвестный вирус вызывающий прекращение деятельность сердце мозг утверждать учёный проводить свой исследование страна это сегодня утром сообщить радиостанция ввс первоначально предполагаться причина смерть стать давно известный врач сезонный лихорадка однако поздний выясниться сердце мозг ребёнок поразить неизвестный вирус наблюдение пациент госпиталь субить опубликовать исследователь журнал the lancet доказать большинство умерший ребёнок развиться миокардит воспаление мозг вызвать сезонный лихорадка возбудитель болезнь признанный аденовирус назвать учёный agent y правило аденовирус опасный жизнь вызывать нетяжелый заболевание тип известный простуда однако именно agent y обнаружить исследование ткань сердце мозг погибший ребёнок учёный вынудить признать видимо речь идти новый разновидность вирус возникнуть южный азия утверждение bbc вспышка похожий заболевание произойти 1998 год тайвань |@month class_09_1999\n",
            "doc_1 центральный разведывательный управление сша основать силиконовый долина компания деятельность который посвятить поддержка новый разработка область технология сообщать cnn цру получить конгресс сша 28 5 миллион доллар основание компания in q it сфера компетенция in q it войти инвестирование конкретный разработка информационный обеспечение американский университет участие совместный инициатива решение проблема безопасность интернет организация поиск информация далее разумеется цру планировать использовать разработка компания свой деятельность хотя in q it будущее собираться обслуживать коммерческий клиент предполагаться компания время стать самостоятельный приблизительный годовой бюджет около 100 миллион доллар совет директор in q it войти частность бывший министр оборона уильям перри директор исследовательский центр xerox corporation пасть альто бывший президент at t алекс мэндло in q it аббревиатура который in означать intelligence разведка it информационный технология q включить честь эксперт q сериал джеймс бонд цру демонстрировать наличие чувство юмор |@month class_09_1999\n"
          ],
          "name": "stdout"
        }
      ]
    },
    {
      "cell_type": "code",
      "metadata": {
        "colab": {
          "base_uri": "https://localhost:8080/"
        },
        "id": "ll-iMh_NuZfQ",
        "outputId": "2f0c1771-2ad6-499f-b60d-c2def802a808"
      },
      "source": [
        "!wc -l drive/MyDrive/DATASETS/MachineLearning/topicmodeling/vw_data/texts_valid.vw.txt"
      ],
      "execution_count": 18,
      "outputs": [
        {
          "output_type": "stream",
          "text": [
            "6604 drive/MyDrive/DATASETS/MachineLearning/topicmodeling/vw_data/texts_valid.vw.txt\n"
          ],
          "name": "stdout"
        }
      ]
    },
    {
      "cell_type": "code",
      "metadata": {
        "colab": {
          "base_uri": "https://localhost:8080/"
        },
        "id": "7Qc4LpM4v8ZK",
        "outputId": "1d4f4c5b-37e9-41de-d22a-c1a8c81cb596"
      },
      "source": [
        "!head -2 drive/MyDrive/DATASETS/MachineLearning/topicmodeling/vw_data/texts_train.vw.txt"
      ],
      "execution_count": 19,
      "outputs": [
        {
          "output_type": "stream",
          "text": [
            "doc_0 1 сентябрь весь территория россия вводиться новый форма таможенный декларация физический лицо пояснить государственный таможенный комитет гтк форма декларация который одобрить совет руководитель таможенный служба государство участник содружество являться единый территория весь страна снг исключение армения данные итар тасс новый декларация содержаться подробный перечень товар подлежащее обязательный декларирование впервые число включить ядовитый сильно действующий вещество лекарство радиоактивный материал объект флор фауна также высокочастотный радио электронный устройство средство связь частность система радиолокация кабельный телевидение средство мобильный связь частота выше 9 килогерц кроме декларация необходимый приводить подробный сведение ввозить вывозить транспортный средство вид машинs год выпуск объесть двигатель номер двигатель кузов шасси россия новый форма декларация наряду прежний применяться 1 август лишь московский таможенный пункт шереметьево внуково домодедово чкаловский железнодорожный вокзал вводиться весь территория страна преимущество новый декларация пояснить гтк являться единый территория 11 государство снг подписать соглашение который пока присоединиться лишь армения вестись конструктивный переговоры новый таможенный декларация вступить сила территория украина белоруссия государство снг заявить свой готовность ввести свой территория концатекущий год |@month class_08_1999\n",
            "doc_1 сведение миссия оон передаваемый риа новость голосование вопрос самопределении бывший колония принять участие 95 зарегистрировать избиратель подсчёт голос начаться среда анонимный сначала присутствие свидетель вскрыть весь опечатать коробка затем весь бюллетень перемешать невозможно определить откуда поступить начаться подсчёт принцип голосование весь избиратель участок сообщать риа новость администрация клинтон отмечать чрезвычайный явка успех провести восточный тимор референдум вопрос независимость индонезийский провинция сша призывать весь участник признать результат референдум вне зависимость исход голосование сказать заместитель официальный представитель госдепартамент сша джеймс фоуля указывать случай насилие отметить время референдум представитель госдепартамент подчеркнуть ответственность правительство индонезия обеспечение порядок время подсчёт голос последующий этап решение проблема восточный тимор |@month class_08_1999\n"
          ],
          "name": "stdout"
        }
      ]
    },
    {
      "cell_type": "code",
      "metadata": {
        "colab": {
          "base_uri": "https://localhost:8080/"
        },
        "id": "JtxnSwCsv_ZD",
        "outputId": "6c4c4383-f2af-4cae-fd51-2a4709be3afc"
      },
      "source": [
        "!wc -l drive/MyDrive/DATASETS/MachineLearning/topicmodeling/vw_data/texts_train.vw.txt"
      ],
      "execution_count": 20,
      "outputs": [
        {
          "output_type": "stream",
          "text": [
            "653795 drive/MyDrive/DATASETS/MachineLearning/topicmodeling/vw_data/texts_train.vw.txt\n"
          ],
          "name": "stdout"
        }
      ]
    },
    {
      "cell_type": "markdown",
      "metadata": {
        "id": "qV0dq2Agwjkf"
      },
      "source": [
        "### Создаем батчи"
      ]
    },
    {
      "cell_type": "code",
      "metadata": {
        "id": "C-noB1FHwlAk"
      },
      "source": [
        "bv_train = artm.BatchVectorizer(\n",
        "    data_path=filename_train, data_format='vowpal_wabbit', batch_size=10000, \n",
        "    target_folder='drive/MyDrive/DATASETS/MachineLearning'\n",
        "                  '/topicmodeling/vw_batches/batches_train', )\n",
        "\n",
        "bv_test = artm.BatchVectorizer(\n",
        "    data_path=filename_valid, data_format='vowpal_wabbit', batch_size=10000, \n",
        "    target_folder='drive/MyDrive/DATASETS/MachineLearning'\n",
        "                  '/topicmodeling/vw_batches/batches_valid')\n"
      ],
      "execution_count": 10,
      "outputs": []
    },
    {
      "cell_type": "markdown",
      "metadata": {
        "id": "qLyIu-uvz2hG"
      },
      "source": [
        "### Создаем словарь"
      ]
    },
    {
      "cell_type": "code",
      "metadata": {
        "id": "-mLlmcHVzxEC"
      },
      "source": [
        "dictionary = artm.Dictionary()\n",
        "dictionary.gather(data_path='drive/MyDrive/DATASETS/MachineLearning/topicmodeling/batches_train')"
      ],
      "execution_count": 3,
      "outputs": []
    },
    {
      "cell_type": "markdown",
      "metadata": {
        "id": "zUTmLzd-0AYI"
      },
      "source": [
        "### Создаем модель"
      ]
    },
    {
      "cell_type": "markdown",
      "metadata": {
        "id": "xDKOUPM20Fqk"
      },
      "source": [
        "#### Загрузка из дампа"
      ]
    },
    {
      "cell_type": "code",
      "metadata": {
        "id": "XCmZ_TxQ0Bm3"
      },
      "source": [
        "# # обучать долго - есть дампы\n",
        "# model = artm.load_artm_model('./drive/MyDrive/DATASETS/MachineLearning/topicmodeling/model/without_regular/')\n",
        "\n",
        "# model.scores.add(artm.PerplexityScore(name='perplexity', dictionary=dictionary), overwrite=True)"
      ],
      "execution_count": 4,
      "outputs": []
    },
    {
      "cell_type": "markdown",
      "metadata": {
        "id": "9wdFGwpO0I9P"
      },
      "source": [
        "#### Обучаем новую"
      ]
    },
    {
      "cell_type": "code",
      "metadata": {
        "id": "sF-23Mh20K4S"
      },
      "source": [
        "model = artm.ARTM(num_topics=200,\n",
        "                  dictionary=dictionary, \n",
        "                  class_ids={'@default_class': 1.0, \n",
        "                             '@month': 10.0})\n",
        "\n",
        "model.scores.add(artm.PerplexityScore(name='perplexity', dictionary=dictionary))\n",
        "model.scores.add(artm.TopTokensScore(name='top-tokens', num_tokens=10))\n",
        "model.scores.add(artm.SparsityPhiScore(name='sparsity', class_id='@month'))"
      ],
      "execution_count": null,
      "outputs": []
    },
    {
      "cell_type": "code",
      "metadata": {
        "id": "I6QagxL40Q9i"
      },
      "source": [
        "iterator = tqdm(range(10))\n",
        "for i in iterator:\n",
        "    model.fit_offline(bv_train, num_collection_passes=1)\n",
        "    iterator.set_postfix({'perplexity': model.score_tracker['perplexity'].value[-1],  \n",
        "                          'sparsity': model.score_tracker['sparsity'].value[-1],})"
      ],
      "execution_count": null,
      "outputs": []
    },
    {
      "cell_type": "code",
      "metadata": {
        "id": "eFHtGFSt0Ull"
      },
      "source": [
        "# model.dump_artm_model('drive/MyDrive/DATASETS/MachineLearning/topicmodeling/model/without_regular')"
      ],
      "execution_count": null,
      "outputs": []
    },
    {
      "cell_type": "markdown",
      "metadata": {
        "id": "lPRDUA-b0ZKa"
      },
      "source": [
        "### Анализ метрик"
      ]
    },
    {
      "cell_type": "code",
      "metadata": {
        "colab": {
          "base_uri": "https://localhost:8080/",
          "height": 279
        },
        "id": "1AdKkrn90cvh",
        "outputId": "7a86f407-fabd-47a3-dedc-9a9f00f00327"
      },
      "source": [
        "plt.plot(model.score_tracker['sparsity'].value, label = 'sparsity')\n",
        "\n",
        "plt.legend(loc = 'best')\n",
        "\n",
        "plt.xlabel('iteration')\n",
        "plt.ylabel('score')\n",
        "plt.show()"
      ],
      "execution_count": 24,
      "outputs": [
        {
          "output_type": "display_data",
          "data": {
            "image/png": "[encoded data removed]",
            "text/plain": [
              "<Figure size 432x288 with 1 Axes>"
            ]
          },
          "metadata": {
            "tags": [],
            "needs_background": "light"
          }
        }
      ]
    },
    {
      "cell_type": "code",
      "metadata": {
        "colab": {
          "base_uri": "https://localhost:8080/",
          "height": 290
        },
        "id": "mqcDn6p80e8n",
        "outputId": "7ac7261d-e219-4fd2-f8ff-0574be11b23d"
      },
      "source": [
        "plt.plot(model.score_tracker['perplexity'].value, label = 'perplexity')\n",
        "\n",
        "plt.legend(loc = 'best')\n",
        "\n",
        "plt.xlabel('iteration')\n",
        "plt.ylabel('score')\n",
        "plt.show()"
      ],
      "execution_count": 25,
      "outputs": [
        {
          "output_type": "display_data",
          "data": {
            "image/png": "[encoded data removed]",
            "text/plain": [
              "<Figure size 432x288 with 1 Axes>"
            ]
          },
          "metadata": {
            "tags": [],
            "needs_background": "light"
          }
        }
      ]
    },
    {
      "cell_type": "code",
      "metadata": {
        "colab": {
          "base_uri": "https://localhost:8080/"
        },
        "id": "XLJhGgle0gQ3",
        "outputId": "68f5b14d-2168-4075-b18a-0640425fa859"
      },
      "source": [
        "top_tokens = model.score_tracker['top-tokens'].last_tokens\n",
        "\n",
        "for topic_name in model.topic_names:\n",
        "    print(top_tokens[topic_name])"
      ],
      "execution_count": 26,
      "outputs": [
        {
          "output_type": "stream",
          "text": [
            "['учёный', 'исследование', 'который', 'исследователь', 'человек', 'анализ', 'вывод', 'клетка', 'журнал', 'это']\n",
            "['английский', 'перейти', 'переход', 'лондонский', 'англия', 'который', 'челси', 'манчестер', 'арсенал', 'это']\n",
            "['германия', 'немецкий', 'который', 'берлин', 'фрг', 'меркель', 'канцлер', 'свой', 'ангел', 'австрия']\n",
            "['создать', 'создание', 'зона', 'который', 'конференция', 'структура', 'объединить', 'новый', 'объединение', 'весь']\n",
            "['решение', 'принять', 'должный', 'срок', 'договор', 'условие', 'документ', 'отказ', 'подписать', 'отказаться']\n",
            "['заявление', 'отношение', 'ситуация', 'выразить', 'мид', 'заявить', 'позиция', 'свой', 'подчеркнуть', 'интерес']\n",
            "['министерство', 'ведомство', 'чиновник', 'внутренний', 'департамент', 'государственный', 'анатолий', 'глава', 'оборона', 'юстиция']\n",
            "['октябрь', '17', '23', '26', '18', '13', '21', '27', '14', 'это']\n",
            "['июль', 'культура', 'это', 'который', 'деятель', 'вино', 'сообщать', 'никита', 'также', 'соколов']\n",
            "['индия', 'индийский', 'пакистан', 'послание', 'который', 'пакистанский', 'сообщать', 'это', 'сентябрь', 'дубай']\n",
            "['долг', 'фирма', 'имущество', 'управлять', 'менеджер', 'принадлежащий', 'задолженность', 'претензия', 'собственность', 'оао']\n",
            "['сайт', 'сообщение', 'говориться', 'опубликовать', 'письмо', 'обращение', 'официальный', 'отмечаться', 'материал', 'публикация']\n",
            "['преступление', 'совершить', 'подозревать', 'преступник', 'совершение', 'совершенный', 'личность', 'розыск', 'который', 'совершать']\n",
            "['форма', 'одежда', 'носить', 'вещий', 'костюм', 'женский', 'характер', 'модный', 'дизайнер', 'обувь']\n",
            "['боевик', 'азербайджан', 'армения', 'дагестан', 'силовой', 'уничтожить', 'ингушетия', 'район', 'фсб', 'спецоперация']\n",
            "['минута', 'счёт', 'й', 'матч', '0', 'очки', '1', 'победа', 'встреча', 'ворот']\n",
            "['декабрь', 'ноябрь', 'это', 'ким', 'стать', 'джонсон', 'сообщить', 'сообщать', '15', 'который']\n",
            "['нью', 'йорк', 'австралия', 'австралийский', 'де', 'бельгия', 'йоркский', 'пригород', 'который', 'сообщать']\n",
            "['турист', 'билет', 'отель', 'поездка', 'отправиться', 'посетить', 'номер', 'гостиница', 'направление', 'отдых']\n",
            "['европейский', 'европа', 'союз', 'ес', 'евросоюз', 'отменить', 'ассоциация', 'свободный', 'отмена', 'вступление']\n",
            "['сотрудничество', 'совместный', 'партнёр', 'форум', 'роснефть', 'деловой', 'энергетический', 'электроэнергия', 'энергетика', 'экономический']\n",
            "['год', '2007', '2006', '2005', '2004', 'напомнить', 'сообщать', '2008', 'сигарета', 'агентство']\n",
            "['безопасность', 'сила', 'проведение', 'угроза', 'мера', 'нато', 'обеспечение', 'обеспечить', 'альянс', 'также']\n",
            "['александр', 'белоруссия', 'белорусский', 'лукашенко', 'минск', 'литва', 'президент', 'это', 'который', 'республика']\n",
            "['управление', 'проверка', 'начальник', 'мвд', 'отдел', 'юрий', 'главный', 'заместитель', 'взятка', 'руководитель']\n",
            "['год', '2009', '2010', '2012', '2011', '2008', 'прошлое', 'конец', 'январь', '2000']\n",
            "['грузия', 'грузинский', 'осетия', 'саакашвили', 'абхазия', 'южный', 'тбилиси', 'президент', 'республика', 'михаил']\n",
            "['женщина', 'мужчина', 'летний', 'рука', 'попытаться', 'нога', 'жительница', 'голова', 'это', 'домой']\n",
            "['россия', 'российский', 'рф', 'россиянин', 'тасс', 'это', 'международный', 'интерфакс', 'федерация', 'отметить']\n",
            "['комитет', 'олимпийский', 'сочи', 'спортсмен', 'игра', 'олимпиада', 'международный', 'допинг', 'это', 'отстранить']\n",
            "['пара', 'сексуальный', 'брак', 'принц', 'королевский', 'королева', 'насилие', 'секс', 'король', 'отношение']\n",
            "['год', 'война', 'х', 'советский', 'ссср', '1990', 'история', 'великий', 'память', 'отечественный']\n",
            "['налог', 'налоговый', 'юкос', 'ходорковский', 'компания', 'который', 'уплата', 'тнк', 'михаил', 'bp']\n",
            "['вызвать', 'назвать', 'это', 'свой', 'который', 'критика', 'ошибка', 'заявить', 'повод', 'принести']\n",
            "['квартира', 'жильё', 'недвижимость', 'дом', 'помещение', 'аренда', 'стоимость', 'жилищный', 'ремонт', 'комната']\n",
            "['свой', 'хотеть', 'друг', 'человек', 'знать', 'жизнь', 'рассказать', 'весь', 'признаться', 'просто']\n",
            "['город', 'житель', 'местный', 'человек', 'население', 'район', 'эстония', 'мигрант', 'деревня', 'беженец']\n",
            "['москва', 'московский', 'столица', 'столичный', 'улица', 'метро', 'станция', 'москвич', 'также', 'департамент']\n",
            "['человек', 'погибнуть', 'взрыв', 'погибший', 'теракт', 'жертва', 'результат', 'гибель', 'данные', 'число']\n",
            "['хороший', 'премия', 'книга', 'церемония', 'роман', 'награда', 'получить', 'писатель', 'номинация', 'приз']\n",
            "['ru', 'портал', 'передача', 'шоу', 'который', 'нтв', 'медиа', 'выпуск', 'это', 'также']\n",
            "['партия', 'единый', 'лидер', 'депутат', 'политический', 'госдума', 'демократический', 'политик', 'кпрф', 'член']\n",
            "['матч', 'клуб', 'лига', 'футбольный', 'спартак', 'цска', 'зенит', 'стадион', 'болельщик', 'пол']\n",
            "['сша', 'американский', 'американец', 'который', 'америка', 'соединить', 'сообщать', 'свой', 'reuters', 'street']\n",
            "['место', 'список', 'рейтинг', 'занять', 'третье', 'самый', 'второе', 'первое', 'оказаться', 'занимать']\n",
            "['производство', 'предприятие', 'завод', 'оборудование', 'заказ', 'промышленный', 'промышленность', 'производить', 'произвести', 'производитель']\n",
            "['военный', 'войско', 'армия', 'военнослужащий', 'сила', 'генерал', 'вооружённый', 'солдат', 'подразделение', 'оборона']\n",
            "['сеть', 'социальный', 'facebook', 'страница', 'соцсеть', 'свой', 'вконтакте', 'это', 'написать', 'который']\n",
            "['военный', 'действие', 'операция', 'база', 'удар', 'нанести', 'территория', 'это', 'пентагон', 'уничтожение']\n",
            "['france', 'presse', 'египет', 'agence', 'ливия', 'январь', 'который', 'каддафи', 'сообщать', 'египетский']\n",
            "['машина', 'автомобиль', 'дорога', 'водитель', 'движение', 'автобус', 'транспортный', 'дорожный', 'транспорт', 'авария']\n",
            "['оон', 'польша', 'постоянный', 'польский', 'делегация', 'резолюция', 'миссия', 'гуманитарный', 'международный', 'совбез']\n",
            "['корабль', 'морской', 'флот', 'лодка', 'подводный', 'вмс', 'мор', 'проект', 'вмф', 'море']\n",
            "['мэр', 'городской', 'памятник', 'это', 'исторический', 'который', 'лужков', 'администрация', 'мэрия', 'здание']\n",
            "['полиция', 'полицейский', 'наркотик', 'порядок', 'который', 'сотрудник', 'сообщать', 'бросить', 'вещество', 'стража']\n",
            "['иран', 'ядерный', 'посольство', 'дипломат', 'посол', 'иранский', 'дипломатический', 'тегеран', 'представительство', 'февраль']\n",
            "['пожар', 'мчс', 'авария', 'пожарный', 'ликвидация', 'последствие', 'чрезвычайный', 'экологический', 'склад', 'возгорание']\n",
            "['100', 'торговый', 'торговля', 'знак', 'алкоголь', 'это', 'напиток', 'который', 'пиво', 'алкогольный']\n",
            "['май', 'июнь', '2016', 'го', '2017', 'год', 'это', 'конец', '22', '12']\n",
            "['самолёт', 'аэропорт', 'авиакомпания', 'пассажир', 'рейс', 'борт', 'полёт', 'воздушный', 'пилот', 'лайнер']\n",
            "['суд', 'признать', 'иск', 'подать', 'судебный', 'адвокат', 'приговор', 'судья', 'решение', 'жалоба']\n",
            "['март', 'режим', 'это', 'закрытый', 'скорее', 'обращаться', 'который', 'регулярно', 'опасность', 'закрыть']\n",
            "['газпром', 'газа', 'поставка', 'контракт', 'газ', 'поток', 'кубометр', 'газовый', 'газопровод', 'топливо']\n",
            "['фильм', 'роль', 'картина', 'режиссёр', 'актёр', 'сыграть', 'прокат', 'главный', 'съёмка', 'который']\n",
            "['километр', 'способный', 'испытание', 'скорость', 'ракета', 'установка', 'цель', 'предназначить', 'система', 'тип']\n",
            "['испания', 'молдавия', 'испанский', 'чехия', 'дон', 'болгария', 'кипр', 'румыния', 'ростов', 'чешский']\n",
            "['нефть', 'цена', 'добыча', 'тонна', 'нефтяной', 'баррель', 'месторождение', 'запас', 'топливо', 'опека']\n",
            "['команда', 'сборный', 'тренер', 'чемпионат', 'италия', 'сборная', 'итальянский', 'матч', 'футбол', 'главный']\n",
            "['запустить', 'запуск', 'ракета', 'вывести', 'спутник', 'аппарат', 'носитель', 'успешно', 'космический', 'орбита']\n",
            "['сторона', 'переговоры', 'соглашение', 'санкция', 'против', 'договориться', 'готовый', 'обмен', 'ввести', 'шаг']\n",
            "['площадка', 'парк', 'высота', 'гора', 'стена', 'февраль', 'парка', 'который', 'это', 'дерево']\n",
            "['тысяча', 'метр', 'около', 'составлять', 'квадратный', 'площадь', 'класс', '200', '50', 'квадрат']\n",
            "['the', 'daily', 'mail', 'лос', 'guardian', 'майкл', 'анджелес', 'дэвид', 'джеймс', 'telegraph']\n",
            "['школа', 'язык', 'образование', 'институт', 'университет', 'студент', 'наука', 'учебный', 'вуз', 'академия']\n",
            "['6', 'круг', 'выиграть', 'турнир', 'финал', 'мария', 'россиянка', 'матч', 'кузнецов', 'уильямс']\n",
            "['задержать', 'орган', 'сотрудник', 'правоохранительный', 'задержание', 'незаконный', 'подозревать', 'обыск', 'изъять', 'мвд']\n",
            "['животное', 'животный', 'вид', 'птица', 'который', 'собака', 'медведь', 'рыба', 'это', 'кошка']\n",
            "['произойти', 'результат', 'инцидент', 'получить', 'нападение', 'пострадать', 'пострадавший', 'двое', 'человек', 'неизвестный']\n",
            "['устройство', 'apple', 'смартфон', 'iphone', 'компьютер', 'экран', 'windows', 'мобильный', 'операционный', 'телефон']\n",
            "['клуб', 'бразилия', 'футболист', 'барселона', 'реал', 'чемпион', 'игрок', 'аргентина', 'нападать', 'бразильский']\n",
            "['власть', 'иностранный', 'политический', 'обратиться', 'предоставить', 'просьба', 'статус', 'запрос', 'возвращение', 'родина']\n",
            "['депутат', 'парламент', 'виктор', 'верховный', 'президент', 'рад', 'конституция', 'тимошенко', 'янукович', 'блок']\n",
            "['ру', 'лента', 'поступить', 'это', 'общество', 'корреспондент', 'редакция', 'релиз', 'прима', 'далее']\n",
            "['область', 'петербург', 'санкт', 'губернатор', 'округа', 'областной', 'петербургский', 'администрация', 'автономный', 'ленинградский']\n",
            "['израиль', 'израильский', 'палестинский', 'сектор', 'газа', 'хамас', 'автономия', 'палестинец', 'еврейский', 'который']\n",
            "['украина', 'украинский', 'киев', 'порошенко', 'это', 'пётр', 'зеленский', 'киевский', 'украинец', 'который']\n",
            "['интернет', 'пользователь', 'сервис', 'доступ', 'google', 'сайт', 'приложение', 'com', 'онлайн', 'ресурс']\n",
            "['август', '29', '31', 'это', 'стать', '30', '28', 'сообщать', 'rambler', 'который']\n",
            "['издание', 'газета', 'писать', 'источник', 'ссылка', 'данные', 'коммерсант', 'отмечать', 'ведомость', 'мочь']\n",
            "['миллион', 'доллар', 'около', 'сумма', '300', '500', 'сбор', 'собрать', '200', 'заработать']\n",
            "['рука', 'это', 'человек', 'вирус', 'нужно', 'мочь', 'коронавирус', 'кашель', 'нос', 'телефон']\n",
            "['который', 'метод', 'учёный', 'волна', 'элемент', 'это', 'эксперимент', 'свет', 'использовать', 'частица']\n",
            "['апрель', 'независимость', 'сербия', 'который', 'сообщать', 'дания', 'это', 'сербский', 'косово', 'трибунал']\n",
            "['компания', 'магазин', 'корпорация', 'крупный', 'свой', 'производитель', 'который', 'конкурент', 'представитель', 'заниматься']\n",
            "['мнение', 'считать', 'проблема', 'мочь', 'эксперт', 'внимание', 'важный', 'большой', 'точка', 'пример']\n",
            "['группа', 'the', 'a', 'and', 'i', 'of', 'коллектив', 'in', 'to', 'for']\n",
            "['министр', 'правительство', 'премьер', 'вица', 'медведев', 'глава', 'кабинет', 'премьера', 'заявить', 'дмитрий']\n",
            "['килограмм', 'продукт', 'питание', 'вес', 'это', 'еда', 'также', 'который', 'стол', 'лишний']\n",
            "['летний', 'семья', 'сын', 'жена', 'отец', 'брат', 'родственник', 'дочь', 'жить', 'старший']\n",
            "['комплекс', 'вооружение', 'техника', 'ракета', 'ракетный', 'оборона', 'танк', 'стратегический', 'военный', 'система']\n",
            "['средство', 'фонд', 'бюджет', 'доход', 'расход', 'год', 'выделить', 'финансирование', 'бюджетный', 'пенсионный']\n",
            "['система', 'счёт', 'услуга', 'клиент', 'карта', 'схема', 'перевести', 'оплата', 'перевод', 'предоставлять']\n",
            "['убийство', 'смерть', 'версия', 'убитый', 'тело', 'покушение', 'убить', 'экспертиза', 'следствие', 'убийца']\n",
            "['видео', 'запись', 'ролик', 'который', 'youtube', 'снять', 'опубликовать', 'показать', 'кадр', 'посмотреть']\n",
            "['5', '2', '1', '3', '4', '6', '7', '8', '9', '10']\n",
            "['фотография', 'twitter', 'пользователь', 'опубликовать', 'снимка', 'фото', 'instagram', 'девушка', 'аккаунт', 'который']\n",
            "['автомобиль', 'машина', 'модель', 'формула', 'новый', 'двигатель', 'январь', 'также', 'автомобильный', 'автоваз']\n",
            "['музыкант', 'альбом', 'концерт', 'певица', 'песня', 'музыкальный', 'певец', 'музыка', 'исполнитель', 'песнь']\n",
            "['день', 'русский', 'следующий', 'название', 'честь', 'сегодняшний', 'праздник', 'рождение', 'днём', 'выходной']\n",
            "['музей', 'выставка', 'художник', 'искусство', 'картина', 'изображение', 'предмет', 'подарок', 'современный', 'благотворительный']\n",
            "['журналист', 'телеканал', 'канал', 'эфир', 'ведущий', 'радиостанция', 'прямая', 'телевидение', 'программа', 'сми']\n",
            "['гражданин', 'разрешение', 'документ', 'получение', 'латвия', 'паспорт', 'гражданство', 'выдать', 'въезд', 'получить']\n",
            "['реформа', 'казахстан', 'который', 'это', 'год', 'сообщать', 'президент', 'также', 'январь', 'туркмения']\n",
            "['право', 'закон', 'нарушение', 'правило', 'соответствие', 'законодательство', 'защита', 'требование', 'иметь', 'норма']\n",
            "['ирак', 'аль', 'иракский', 'саудовский', 'каеда', 'аравия', 'казнь', 'хусейн', 'террорист', 'бин']\n",
            "['вопрос', 'встреча', 'лидер', 'ход', 'разговор', 'тема', 'состояться', 'песок', 'беседа', 'саммит']\n",
            "['центр', 'зал', 'учреждение', 'би', 'исследовательский', 'инструмент', 'научно', 'библиотека', 'си', 'культурный']\n",
            "['сирия', 'боевик', 'группировка', 'сирийский', 'исламский', 'террористический', 'террорист', 'иго', 'государство', 'атака']\n",
            "['владелец', 'бизнесмен', 'предприниматель', 'основатель', 'богатый', 'миллиардер', 'forbes', 'состояние', 'бизнес', 'который']\n",
            "['пункт', 'доллар', 'процент', 'индекс', '0', 'биржа', 'торг', 'упасть', 'рынок', 'падение']\n",
            "['звезда', 'учёный', 'планета', 'земля', 'который', 'масса', 'солнечный', 'это', 'атмосфера', 'солнце']\n",
            "['штат', 'press', 'associated', 'буш', 'джон', 'джордж', 'cnn', 'калифорния', 'сообщать', 'свой']\n",
            "['s', 'продать', 'фунт', 'аукцион', 'выставить', 'заплатить', 'стерлинг', 'дорогой', 'торг', 'доллар']\n",
            "['британский', 'великобритания', 'news', 'лондон', 'bbc', 'греция', 'который', 'сообщать', 'швейцария', 'швеция']\n",
            "['работа', 'работать', 'сотрудник', 'рабочий', 'работник', 'зарплата', 'труд', 'человек', 'руководство', 'офис']\n",
            "['спорт', 'медаль', 'золотой', 'спортивный', 'соревнование', 'гонка', 'олимпийский', 'спортсмен', 'завоевать', 'чемпионат']\n",
            "['уровень', 'экономический', 'экономика', 'ставка', 'кризис', 'высокий', 'повышение', 'снижение', 'ввп', 'рост']\n",
            "['оружие', 'открыть', 'стрельба', 'пистолет', 'огонь', 'автомат', 'боеприпас', 'стрелять', 'выстрел', 'огнестрельный']\n",
            "['дата', 'копия', 'игра', 'консоль', '360', '3', 'анонсировать', 'игровой', 'xbox', 'sony']\n",
            "['участие', 'пройти', 'участник', 'принимать', 'мероприятие', 'принять', 'конкурс', 'участвовать', 'проходить', 'организатор']\n",
            "['вода', 'сильный', 'река', 'температура', 'градус', 'океан', 'ветер', 'воздух', 'вод', 'это']\n",
            "['новость', 'служба', 'пресс', 'риа', 'сентябрь', 'сообщить', 'агентство', 'передавать', 'ссылка', 'секретарь']\n",
            "['это', 'сказать', 'добавить', 'весь', 'отметить', 'наш', 'заявить', 'подчеркнуть', 'говорить', 'очень']\n",
            "['алексей', 'олег', 'полномочие', 'обязанность', 'исполнять', 'исполнение', 'навальный', 'должностной', 'временно', 'служебный']\n",
            "['ребёнок', 'возраст', 'родитель', 'детский', 'девочка', 'подросток', 'мальчик', 'несовершеннолетний', 'взрослый', 'который']\n",
            "['игра', 'of', 'студия', 'который', 'разработчик', 'проект', 'world', 'также', 'это', 'релиз']\n",
            "['деньга', 'размер', '2018', 'получать', 'получить', 'выплата', 'это', '2019', 'сумма', 'компенсация']\n",
            "['донбасс', 'народный', 'донецкий', 'республика', 'прекращение', 'конфликт', 'луганский', 'самопровозгласить', 'днр', 'украинский']\n",
            "['сергей', 'андрей', 'николай', 'евгений', 'дмитрий', 'иван', 'павел', 'максим', 'иванов', 'константин']\n",
            "['леонид', 'венесуэла', 'президент', 'гривна', 'окружение', 'колумбия', 'чавес', 'кучма', 'венгрия', 'это']\n",
            "['рубль', 'евро', 'курс', 'стоимость', 'валюта', 'минимальный', 'цена', 'резерв', 'стоить', 'составлять']\n",
            "['нижний', 'екатеринбург', 'это', 'татьяна', 'свердловский', 'казань', 'уполномоченный', 'новосибирск', 'отпуск', 'челябинский']\n",
            "['год', '2014', '2015', '2013', 'игорь', 'это', 'согласие', 'нидерланды', 'частный', 'февраль']\n",
            "['северный', 'южный', 'остров', 'япония', 'корея', 'визит', 'японский', 'кндр', 'пхеньян', 'южнокорейский']\n",
            "['франция', 'французский', 'париж', 'блэр', 'de', 'француз', 'жан', 'который', 'тони', 'парижский']\n",
            "['самолёт', 'истребитель', 'ввс', 'f', '35', 'су', 'c', 'военный', 'поставка', 'контракт']\n",
            "['регион', 'край', 'подмосковье', 'район', 'подмосковный', 'посёлок', 'губернатор', 'краснодарский', 'владивосток', 'красноярский']\n",
            "['китай', 'китайский', 'кнр', 'пекин', 'провинция', 'это', 'год', 'который', 'гонконг', 'сообщать']\n",
            "['победа', 'поражение', 'одержать', 'боец', 'победить', 'абсолютный', 'поединок', 'бой', 'ufc', 'россиянин']\n",
            "['активист', 'административный', 'ответственность', 'устроить', 'привлечь', 'сутки', 'протокол', 'десяток', 'лагерь', 'штраф']\n",
            "['акция', 'процент', 'компания', 'принадлежать', 'актив', 'акционер', 'бумага', 'инвестор', 'владеть', 'доля']\n",
            "['выйти', 'выход', 'серия', 'герой', 'выходить', 'выпустить', 'сериал', 'который', 'эпизод', 'продолжение']\n",
            "['использоваться', 'электронный', 'аппарат', 'использовать', 'использование', 'специальный', 'который', 'почта', 'помощь', 'беспилотник']\n",
            "['случай', 'коронавирус', 'выявить', 'человек', 'распространение', 'зафиксировать', 'число', 'вирус', 'пандемия', 'это']\n",
            "['дело', 'прокуратура', 'следствие', 'уголовный', 'прокурор', 'генпрокуратура', 'отношение', 'бывший', 'адвокат', 'расследование']\n",
            "['временной', 'киргизия', 'юг', 'узбекистан', 'это', 'который', 'республика', 'также', 'бакиев', 'президент']\n",
            "['оператор', 'реклама', 'связь', 'рекламный', 'тариф', 'стандарт', 'лицензия', 'фас', 'размещение', 'сотовый']\n",
            "['турция', 'турецкий', 'это', 'анкара', 'сбить', 'который', '24', 'ливан', 'заявить', 'эрдогать']\n",
            "['театр', 'фестиваль', 'артист', 'спектакль', 'сцена', 'актёр', 'театральный', 'постановка', 'опера', 'большой']\n",
            "['слово', 'заявить', 'рассказать', 'это', 'интервью', 'приводить', 'отметить', 'ничто', 'подготовка', 'мочь']\n",
            "['президент', 'сша', 'трамп', 'обама', 'вашингтон', 'администрация', 'дональд', 'белый', 'конгресс', 'барак']\n",
            "['страна', 'государство', 'международный', 'канада', 'помощь', 'африка', 'весь', 'число', 'население', 'территория']\n",
            "['президент', 'владимир', 'путин', 'крым', 'глава', 'государство', 'указ', 'россия', 'полуостров', 'рф']\n",
            "['чёрный', 'бренд', 'модель', 'красный', 'марка', 'представить', 'цвета', 'цвет', 'часы', 'дизайн']\n",
            "['статья', 'рф', 'уголовный', 'факт', 'следственный', 'возбудить', 'дело', 'комитет', 'ук', 'часть']\n",
            "['мир', 'мировой', 'этап', 'самый', 'весь', 'рекорд', 'стать', 'достижение', 'секунда', 'суметь']\n",
            "['врач', 'больница', 'состояние', 'медицинский', 'здоровье', 'помощь', 'лечение', 'смерть', 'тяжёлый', 'пациент']\n",
            "['освободить', 'захватить', 'освобождение', 'заложник', 'захват', 'похищение', 'который', 'мексика', 'похитить', 'взять']\n",
            "['акция', 'массовый', 'протест', 'человек', 'митинг', 'против', 'беспорядок', 'участник', 'оппозиция', 'площадь']\n",
            "['информация', 'сведение', 'дать', 'times', 'спецслужба', 'документ', 'опровергнуть', 'new', 'доклад', 'сми']\n",
            "['организация', 'деятельность', 'общественный', 'мусульманин', 'член', 'экстремистский', 'религиозный', 'который', 'терроризм', 'борьба']\n",
            "['федеральный', 'региональный', 'участок', 'земля', '2020', 'ресурс', 'это', 'увеличить', 'дальний', 'значение']\n",
            "['рынок', 'продажа', 'сделка', 'бизнес', 'покупка', 'приобрести', 'купить', 'покупатель', 'продавать', 'пакет']\n",
            "['строительство', 'объект', 'проект', 'построить', 'комплекс', 'площадь', 'квадратный', 'строительный', 'территория', 'строить']\n",
            "['банка', 'финансовый', 'банк', 'кредит', 'кредитный', 'сбербанк', 'цб', 'банковский', 'организация', 'вклад']\n",
            "['бой', 'всемирный', 'профессиональный', 'боксёр', 'кличко', 'чемпион', 'виталий', 'титул', 'поединок', 'собака']\n",
            "['церковь', 'храм', 'православный', 'святой', 'который', 'священник', 'папа', 'собор', 'ii', 'это']\n",
            "['выбор', 'комиссия', 'кандидат', 'голосование', 'выборы', 'президентский', 'избирательный', 'голос', 'кампания', 'избиратель']\n",
            "['миллиард', 'доллар', 'составить', 'общий', 'год', 'сложность', 'объесть', 'сумма', 'оцениваться', '1']\n",
            "['ресторан', 'быстрый', 'посетитель', 'заведение', 'кафе', 'который', 'посещать', 'гарри', 'бар', 'это']\n",
            "['обвинение', 'обвинять', 'обвинить', 'арест', 'арестовать', 'предъявить', 'расследование', 'вина', 'грозить', 'бывший']\n",
            "['граница', 'судно', 'порт', 'судный', 'груз', 'берег', 'пограничный', 'находиться', 'капитан', 'экипаж']\n",
            "['бывший', 'пост', 'глава', 'должность', 'отставка', 'назначить', 'президент', 'занимать', 'свой', 'возглавлять']\n",
            "['найти', 'обнаружить', 'век', 'год', 'останки', 'который', 'след', 'кладбище', 'фрагмент', 'находка']\n",
            "['предложить', 'законопроект', 'предложение', 'госдума', 'изменение', 'закон', 'внести', 'инициатива', 'документ', 'поправка']\n",
            "['милиция', 'конфликт', 'милиционер', 'драка', 'сотрудник', 'гувд', 'ударить', 'избить', 'шахта', 'голов']\n",
            "['вертолёт', 'западный', 'восток', 'восточный', 'запад', 'северо', 'юго', 'землетрясение', 'ми', '52']\n",
            "['станция', 'космический', 'корабль', 'полёт', 'мкс', 'космос', 'рогозин', 'прогресс', 'астронавт', 'nasa']\n",
            "['процент', 'большинство', 'результат', 'опрос', 'россиянин', 'голос', 'опросить', 'провести', 'набрать', 'это']\n",
            "['часы', '00', 'час', 'путь', 'поезд', 'около', 'приостановить', 'суббота', 'утром', 'утро']\n",
            "['молодая', 'девушка', 'выясниться', 'телефон', 'угрожать', 'знакомый', 'затем', 'судить', 'заставить', 'дверь']\n",
            "['дом', 'здание', 'поиск', 'находиться', 'пропасть', 'человек', 'спасатель', 'расположить', 'район', 'улица']\n",
            "['запретить', 'запрет', 'товар', 'продукция', 'ограничение', 'ввести', 'продукт', 'таможенный', 'экспорт', 'поставка']\n",
            "['совет', 'директор', 'председатель', 'заместитель', 'руководитель', 'генеральный', 'член', 'заседание', 'михаил', 'исполнительный']\n",
            "['процент', 'год', 'рост', 'показатель', 'вырасти', 'цена', 'сравнение', 'составить', 'квартал', 'увеличиться']\n",
            "['республика', 'чечня', 'чеченский', 'кадыров', 'глава', 'это', 'грозный', 'руслан', 'который', 'татарстан']\n",
            "['клуб', 'сезон', 'игрок', 'нхл', 'матч', 'регулярный', 'команда', 'состав', 'хоккеист', 'лига']\n",
            "['время', 'пока', 'однако', 'настоящее', 'ближний', 'пора', 'который', 'ещё', 'это', 'мочь']\n",
            "['проект', 'программа', 'развитие', 'план', 'рамка', 'планироваться', 'сфера', 'новый', 'реализация', 'поддержка']\n",
            "['свобода', 'заключение', 'приговорить', 'тюрьма', 'наказание', 'осудить', 'лишение', 'срок', 'колония', 'заключённый']\n"
          ],
          "name": "stdout"
        }
      ]
    },
    {
      "cell_type": "markdown",
      "metadata": {
        "id": "61BWlEey1eQ8"
      },
      "source": [
        "### Вспомним, что есть тэги"
      ]
    },
    {
      "cell_type": "code",
      "metadata": {
        "id": "bS2dQpqK0vSp"
      },
      "source": [
        "X_train_pd = model.transform(bv_train)"
      ],
      "execution_count": 11,
      "outputs": []
    },
    {
      "cell_type": "code",
      "metadata": {
        "colab": {
          "base_uri": "https://localhost:8080/",
          "height": 609
        },
        "id": "eZXusJ3U1nRB",
        "outputId": "3d17204a-5d77-44c3-a382-f5f91ade437c"
      },
      "source": [
        "X_train_pd"
      ],
      "execution_count": 12,
      "outputs": [
        {
          "output_type": "execute_result",
          "data": {
            "text/html": [
              "<div>\n",
              "<style scoped>\n",
              "    .dataframe tbody tr th:only-of-type {\n",
              "        vertical-align: middle;\n",
              "    }\n",
              "\n",
              "    .dataframe tbody tr th {\n",
              "        vertical-align: top;\n",
              "    }\n",
              "\n",
              "    .dataframe thead th {\n",
              "        text-align: right;\n",
              "    }\n",
              "</style>\n",
              "<table border=\"1\" class=\"dataframe\">\n",
              "  <thead>\n",
              "    <tr style=\"text-align: right;\">\n",
              "      <th></th>\n",
              "      <th>240000</th>\n",
              "      <th>240001</th>\n",
              "      <th>240002</th>\n",
              "      <th>240003</th>\n",
              "      <th>240004</th>\n",
              "      <th>240005</th>\n",
              "      <th>240006</th>\n",
              "      <th>240007</th>\n",
              "      <th>240008</th>\n",
              "      <th>240009</th>\n",
              "      <th>240010</th>\n",
              "      <th>240011</th>\n",
              "      <th>240012</th>\n",
              "      <th>240013</th>\n",
              "      <th>240014</th>\n",
              "      <th>240015</th>\n",
              "      <th>240016</th>\n",
              "      <th>240017</th>\n",
              "      <th>240018</th>\n",
              "      <th>240019</th>\n",
              "      <th>240020</th>\n",
              "      <th>240021</th>\n",
              "      <th>240022</th>\n",
              "      <th>240023</th>\n",
              "      <th>240024</th>\n",
              "      <th>240025</th>\n",
              "      <th>240026</th>\n",
              "      <th>240027</th>\n",
              "      <th>240028</th>\n",
              "      <th>240029</th>\n",
              "      <th>240030</th>\n",
              "      <th>240031</th>\n",
              "      <th>240032</th>\n",
              "      <th>240033</th>\n",
              "      <th>240034</th>\n",
              "      <th>240035</th>\n",
              "      <th>240036</th>\n",
              "      <th>240037</th>\n",
              "      <th>240038</th>\n",
              "      <th>240039</th>\n",
              "      <th>...</th>\n",
              "      <th>509960</th>\n",
              "      <th>509961</th>\n",
              "      <th>509962</th>\n",
              "      <th>509963</th>\n",
              "      <th>509964</th>\n",
              "      <th>509965</th>\n",
              "      <th>509966</th>\n",
              "      <th>509967</th>\n",
              "      <th>509968</th>\n",
              "      <th>509969</th>\n",
              "      <th>509970</th>\n",
              "      <th>509971</th>\n",
              "      <th>509972</th>\n",
              "      <th>509973</th>\n",
              "      <th>509974</th>\n",
              "      <th>509975</th>\n",
              "      <th>509976</th>\n",
              "      <th>509977</th>\n",
              "      <th>509978</th>\n",
              "      <th>509979</th>\n",
              "      <th>509980</th>\n",
              "      <th>509981</th>\n",
              "      <th>509982</th>\n",
              "      <th>509983</th>\n",
              "      <th>509984</th>\n",
              "      <th>509985</th>\n",
              "      <th>509986</th>\n",
              "      <th>509987</th>\n",
              "      <th>509988</th>\n",
              "      <th>509989</th>\n",
              "      <th>509990</th>\n",
              "      <th>509991</th>\n",
              "      <th>509992</th>\n",
              "      <th>509993</th>\n",
              "      <th>509994</th>\n",
              "      <th>509995</th>\n",
              "      <th>509996</th>\n",
              "      <th>509997</th>\n",
              "      <th>509998</th>\n",
              "      <th>509999</th>\n",
              "    </tr>\n",
              "  </thead>\n",
              "  <tbody>\n",
              "    <tr>\n",
              "      <th>topic_0</th>\n",
              "      <td>7.591373e-07</td>\n",
              "      <td>4.139946e-09</td>\n",
              "      <td>1.050154e-03</td>\n",
              "      <td>4.180786e-07</td>\n",
              "      <td>4.172356e-04</td>\n",
              "      <td>8.844605e-12</td>\n",
              "      <td>2.074991e-10</td>\n",
              "      <td>2.616312e-09</td>\n",
              "      <td>2.698302e-03</td>\n",
              "      <td>1.328421e-07</td>\n",
              "      <td>1.155801e-05</td>\n",
              "      <td>2.243360e-07</td>\n",
              "      <td>1.143587e-06</td>\n",
              "      <td>2.398608e-06</td>\n",
              "      <td>5.536848e-08</td>\n",
              "      <td>6.455931e-07</td>\n",
              "      <td>2.170729e-10</td>\n",
              "      <td>1.036083e-02</td>\n",
              "      <td>3.378920e-06</td>\n",
              "      <td>2.535905e-10</td>\n",
              "      <td>1.796770e-07</td>\n",
              "      <td>6.348900e-09</td>\n",
              "      <td>5.614630e-05</td>\n",
              "      <td>1.314645e-13</td>\n",
              "      <td>6.566562e-12</td>\n",
              "      <td>2.079920e-03</td>\n",
              "      <td>3.609284e-06</td>\n",
              "      <td>2.798780e-09</td>\n",
              "      <td>2.059436e-09</td>\n",
              "      <td>1.736346e-02</td>\n",
              "      <td>1.184854e-02</td>\n",
              "      <td>8.518239e-13</td>\n",
              "      <td>1.719540e-13</td>\n",
              "      <td>2.986309e-09</td>\n",
              "      <td>7.098694e-09</td>\n",
              "      <td>1.399859e-05</td>\n",
              "      <td>2.305126e-09</td>\n",
              "      <td>1.211751e-07</td>\n",
              "      <td>2.454824e-10</td>\n",
              "      <td>1.511967e-07</td>\n",
              "      <td>...</td>\n",
              "      <td>4.644470e-04</td>\n",
              "      <td>1.443934e-07</td>\n",
              "      <td>3.609558e-07</td>\n",
              "      <td>1.054106e-07</td>\n",
              "      <td>8.000304e-07</td>\n",
              "      <td>3.255018e-06</td>\n",
              "      <td>1.421048e-05</td>\n",
              "      <td>9.070399e-11</td>\n",
              "      <td>2.530701e-05</td>\n",
              "      <td>1.464298e-06</td>\n",
              "      <td>1.931113e-06</td>\n",
              "      <td>2.827068e-02</td>\n",
              "      <td>2.931319e-08</td>\n",
              "      <td>1.191693e-03</td>\n",
              "      <td>3.122049e-07</td>\n",
              "      <td>7.025536e-05</td>\n",
              "      <td>5.686167e-03</td>\n",
              "      <td>1.554760e-07</td>\n",
              "      <td>2.689233e-06</td>\n",
              "      <td>2.781892e-08</td>\n",
              "      <td>4.136885e-07</td>\n",
              "      <td>4.884879e-10</td>\n",
              "      <td>8.620657e-06</td>\n",
              "      <td>7.062329e-07</td>\n",
              "      <td>1.336312e-06</td>\n",
              "      <td>1.161858e-05</td>\n",
              "      <td>5.269263e-08</td>\n",
              "      <td>1.763325e-12</td>\n",
              "      <td>1.710462e-06</td>\n",
              "      <td>1.777046e-09</td>\n",
              "      <td>4.760131e-06</td>\n",
              "      <td>1.760061e-07</td>\n",
              "      <td>8.321281e-03</td>\n",
              "      <td>3.384582e-07</td>\n",
              "      <td>4.168352e-04</td>\n",
              "      <td>2.260400e-09</td>\n",
              "      <td>5.606336e-07</td>\n",
              "      <td>1.963711e-10</td>\n",
              "      <td>1.364797e-06</td>\n",
              "      <td>5.022316e-08</td>\n",
              "    </tr>\n",
              "    <tr>\n",
              "      <th>topic_1</th>\n",
              "      <td>9.578021e-03</td>\n",
              "      <td>4.273166e-09</td>\n",
              "      <td>3.719441e-07</td>\n",
              "      <td>7.447409e-03</td>\n",
              "      <td>1.159167e-07</td>\n",
              "      <td>1.230532e-10</td>\n",
              "      <td>1.080704e-02</td>\n",
              "      <td>2.006763e-07</td>\n",
              "      <td>1.424901e-09</td>\n",
              "      <td>4.489787e-08</td>\n",
              "      <td>3.217650e-06</td>\n",
              "      <td>1.030882e-06</td>\n",
              "      <td>1.863525e-06</td>\n",
              "      <td>2.010948e-05</td>\n",
              "      <td>5.123760e-08</td>\n",
              "      <td>1.745641e-09</td>\n",
              "      <td>6.070965e-07</td>\n",
              "      <td>1.314054e-06</td>\n",
              "      <td>1.481185e-07</td>\n",
              "      <td>1.081878e-07</td>\n",
              "      <td>3.979017e-07</td>\n",
              "      <td>7.596901e-07</td>\n",
              "      <td>1.569185e-07</td>\n",
              "      <td>5.148415e-09</td>\n",
              "      <td>1.838865e-08</td>\n",
              "      <td>6.238243e-08</td>\n",
              "      <td>1.038682e-08</td>\n",
              "      <td>1.625106e-07</td>\n",
              "      <td>7.655446e-08</td>\n",
              "      <td>3.777072e-09</td>\n",
              "      <td>2.351068e-08</td>\n",
              "      <td>4.492580e-07</td>\n",
              "      <td>1.282557e-07</td>\n",
              "      <td>7.861390e-07</td>\n",
              "      <td>1.327944e-08</td>\n",
              "      <td>6.131005e-03</td>\n",
              "      <td>1.754502e-07</td>\n",
              "      <td>7.978913e-09</td>\n",
              "      <td>1.150097e-05</td>\n",
              "      <td>9.165901e-06</td>\n",
              "      <td>...</td>\n",
              "      <td>9.494073e-06</td>\n",
              "      <td>9.568702e-09</td>\n",
              "      <td>4.968477e-08</td>\n",
              "      <td>8.687201e-08</td>\n",
              "      <td>2.235848e-08</td>\n",
              "      <td>7.104810e-10</td>\n",
              "      <td>1.724642e-07</td>\n",
              "      <td>1.468792e-08</td>\n",
              "      <td>9.094706e-10</td>\n",
              "      <td>5.386634e-08</td>\n",
              "      <td>8.573069e-09</td>\n",
              "      <td>2.562816e-10</td>\n",
              "      <td>2.557031e-09</td>\n",
              "      <td>8.398356e-07</td>\n",
              "      <td>6.843375e-09</td>\n",
              "      <td>3.375748e-07</td>\n",
              "      <td>3.246344e-03</td>\n",
              "      <td>3.486136e-07</td>\n",
              "      <td>3.042515e-02</td>\n",
              "      <td>1.426592e-09</td>\n",
              "      <td>4.609110e-10</td>\n",
              "      <td>5.062384e-03</td>\n",
              "      <td>1.916285e-09</td>\n",
              "      <td>8.609793e-08</td>\n",
              "      <td>3.675144e-10</td>\n",
              "      <td>3.637156e-10</td>\n",
              "      <td>3.694230e-08</td>\n",
              "      <td>3.396507e-05</td>\n",
              "      <td>2.571306e-07</td>\n",
              "      <td>1.459051e-09</td>\n",
              "      <td>5.759832e-10</td>\n",
              "      <td>4.126341e-09</td>\n",
              "      <td>1.536678e-05</td>\n",
              "      <td>1.028565e-08</td>\n",
              "      <td>2.518479e-07</td>\n",
              "      <td>3.897454e-07</td>\n",
              "      <td>5.137344e-09</td>\n",
              "      <td>6.608709e-07</td>\n",
              "      <td>2.421484e-10</td>\n",
              "      <td>1.888744e-09</td>\n",
              "    </tr>\n",
              "    <tr>\n",
              "      <th>topic_2</th>\n",
              "      <td>5.984965e-10</td>\n",
              "      <td>2.010423e-08</td>\n",
              "      <td>2.136726e-08</td>\n",
              "      <td>3.294248e-12</td>\n",
              "      <td>4.147962e-12</td>\n",
              "      <td>2.663961e-09</td>\n",
              "      <td>1.378662e-08</td>\n",
              "      <td>1.664855e-12</td>\n",
              "      <td>7.078441e-09</td>\n",
              "      <td>8.766480e-06</td>\n",
              "      <td>2.906054e-11</td>\n",
              "      <td>1.584891e-09</td>\n",
              "      <td>2.497488e-08</td>\n",
              "      <td>2.413110e-10</td>\n",
              "      <td>1.293322e-09</td>\n",
              "      <td>3.144207e-10</td>\n",
              "      <td>9.643389e-03</td>\n",
              "      <td>2.166867e-09</td>\n",
              "      <td>9.895577e-11</td>\n",
              "      <td>1.688926e-09</td>\n",
              "      <td>5.164633e-09</td>\n",
              "      <td>5.194603e-11</td>\n",
              "      <td>5.763142e-09</td>\n",
              "      <td>1.113427e-12</td>\n",
              "      <td>2.227705e-15</td>\n",
              "      <td>1.906263e-10</td>\n",
              "      <td>1.147911e-10</td>\n",
              "      <td>3.707840e-09</td>\n",
              "      <td>2.662379e-12</td>\n",
              "      <td>1.078698e-09</td>\n",
              "      <td>3.740424e-02</td>\n",
              "      <td>3.374536e-11</td>\n",
              "      <td>4.499371e-11</td>\n",
              "      <td>1.970584e-09</td>\n",
              "      <td>1.391211e-09</td>\n",
              "      <td>2.565775e-11</td>\n",
              "      <td>2.487212e-10</td>\n",
              "      <td>6.722619e-09</td>\n",
              "      <td>2.154446e-08</td>\n",
              "      <td>1.028771e-07</td>\n",
              "      <td>...</td>\n",
              "      <td>6.666665e-03</td>\n",
              "      <td>5.224556e-12</td>\n",
              "      <td>7.070555e-11</td>\n",
              "      <td>2.600442e-10</td>\n",
              "      <td>9.196482e-09</td>\n",
              "      <td>8.020370e-09</td>\n",
              "      <td>2.046457e-08</td>\n",
              "      <td>1.442724e-11</td>\n",
              "      <td>3.324964e-15</td>\n",
              "      <td>2.288855e-02</td>\n",
              "      <td>7.137854e-03</td>\n",
              "      <td>4.761020e-11</td>\n",
              "      <td>2.718915e-10</td>\n",
              "      <td>1.344774e-11</td>\n",
              "      <td>6.029883e-10</td>\n",
              "      <td>3.769403e-09</td>\n",
              "      <td>4.185815e-11</td>\n",
              "      <td>2.223382e-09</td>\n",
              "      <td>4.941529e-10</td>\n",
              "      <td>1.093949e-13</td>\n",
              "      <td>1.209211e-11</td>\n",
              "      <td>9.164482e-13</td>\n",
              "      <td>8.655462e-10</td>\n",
              "      <td>2.599718e-10</td>\n",
              "      <td>1.002880e-06</td>\n",
              "      <td>7.762838e-03</td>\n",
              "      <td>3.936537e-10</td>\n",
              "      <td>2.615228e-06</td>\n",
              "      <td>9.828223e-09</td>\n",
              "      <td>8.867010e-15</td>\n",
              "      <td>4.230521e-10</td>\n",
              "      <td>5.074682e-12</td>\n",
              "      <td>1.518351e-10</td>\n",
              "      <td>7.232367e-11</td>\n",
              "      <td>7.161930e-10</td>\n",
              "      <td>2.805428e-07</td>\n",
              "      <td>4.113637e-10</td>\n",
              "      <td>2.943385e-12</td>\n",
              "      <td>8.586354e-03</td>\n",
              "      <td>7.500758e-09</td>\n",
              "    </tr>\n",
              "    <tr>\n",
              "      <th>topic_3</th>\n",
              "      <td>2.049694e-09</td>\n",
              "      <td>3.572142e-09</td>\n",
              "      <td>2.122145e-06</td>\n",
              "      <td>6.082659e-13</td>\n",
              "      <td>2.654531e-07</td>\n",
              "      <td>1.360075e-09</td>\n",
              "      <td>5.970147e-10</td>\n",
              "      <td>4.237120e-11</td>\n",
              "      <td>1.346858e-02</td>\n",
              "      <td>6.262915e-05</td>\n",
              "      <td>1.007748e-02</td>\n",
              "      <td>4.226217e-05</td>\n",
              "      <td>3.335494e-06</td>\n",
              "      <td>2.072960e-05</td>\n",
              "      <td>2.373964e-09</td>\n",
              "      <td>2.096300e-02</td>\n",
              "      <td>1.490642e-08</td>\n",
              "      <td>2.653673e-10</td>\n",
              "      <td>8.672852e-03</td>\n",
              "      <td>1.488095e-08</td>\n",
              "      <td>1.419000e-04</td>\n",
              "      <td>4.800147e-08</td>\n",
              "      <td>3.042627e-07</td>\n",
              "      <td>1.535671e-04</td>\n",
              "      <td>1.027317e-03</td>\n",
              "      <td>1.382201e-04</td>\n",
              "      <td>7.108278e-09</td>\n",
              "      <td>1.175351e-02</td>\n",
              "      <td>1.762203e-11</td>\n",
              "      <td>9.427422e-03</td>\n",
              "      <td>4.747484e-09</td>\n",
              "      <td>2.578891e-09</td>\n",
              "      <td>4.505265e-10</td>\n",
              "      <td>2.148104e-03</td>\n",
              "      <td>2.618063e-08</td>\n",
              "      <td>9.265328e-07</td>\n",
              "      <td>1.377624e-10</td>\n",
              "      <td>2.205626e-08</td>\n",
              "      <td>1.332732e-06</td>\n",
              "      <td>9.587929e-03</td>\n",
              "      <td>...</td>\n",
              "      <td>7.304731e-07</td>\n",
              "      <td>1.478634e-05</td>\n",
              "      <td>7.631431e-03</td>\n",
              "      <td>2.636125e-09</td>\n",
              "      <td>2.389768e-02</td>\n",
              "      <td>1.393758e-07</td>\n",
              "      <td>7.100385e-07</td>\n",
              "      <td>1.706378e-02</td>\n",
              "      <td>5.767601e-10</td>\n",
              "      <td>2.136276e-02</td>\n",
              "      <td>2.743341e-07</td>\n",
              "      <td>3.880889e-08</td>\n",
              "      <td>5.560580e-10</td>\n",
              "      <td>3.742446e-07</td>\n",
              "      <td>2.198220e-09</td>\n",
              "      <td>6.213202e-06</td>\n",
              "      <td>2.663728e-02</td>\n",
              "      <td>1.259467e-08</td>\n",
              "      <td>4.057702e-05</td>\n",
              "      <td>1.215315e-11</td>\n",
              "      <td>4.651566e-04</td>\n",
              "      <td>4.079095e-11</td>\n",
              "      <td>1.439357e-08</td>\n",
              "      <td>1.058125e-07</td>\n",
              "      <td>4.434123e-09</td>\n",
              "      <td>2.295156e-08</td>\n",
              "      <td>1.019400e-02</td>\n",
              "      <td>1.551667e-10</td>\n",
              "      <td>1.412640e-02</td>\n",
              "      <td>7.037724e-12</td>\n",
              "      <td>1.105604e-02</td>\n",
              "      <td>2.488762e-02</td>\n",
              "      <td>1.046888e-02</td>\n",
              "      <td>3.450013e-02</td>\n",
              "      <td>1.013502e-02</td>\n",
              "      <td>3.519084e-06</td>\n",
              "      <td>1.344880e-02</td>\n",
              "      <td>1.052965e-03</td>\n",
              "      <td>5.271539e-02</td>\n",
              "      <td>2.742208e-02</td>\n",
              "    </tr>\n",
              "    <tr>\n",
              "      <th>topic_4</th>\n",
              "      <td>2.552778e-02</td>\n",
              "      <td>1.667947e-09</td>\n",
              "      <td>3.871459e-11</td>\n",
              "      <td>8.718867e-03</td>\n",
              "      <td>8.553042e-07</td>\n",
              "      <td>1.037748e-06</td>\n",
              "      <td>1.545904e-02</td>\n",
              "      <td>0.000000e+00</td>\n",
              "      <td>1.670472e-03</td>\n",
              "      <td>4.961953e-07</td>\n",
              "      <td>9.433556e-03</td>\n",
              "      <td>1.705207e-02</td>\n",
              "      <td>3.559015e-04</td>\n",
              "      <td>3.155232e-02</td>\n",
              "      <td>7.146418e-11</td>\n",
              "      <td>2.266623e-08</td>\n",
              "      <td>1.152712e-02</td>\n",
              "      <td>1.275109e-02</td>\n",
              "      <td>2.047332e-02</td>\n",
              "      <td>6.467402e-03</td>\n",
              "      <td>3.240093e-06</td>\n",
              "      <td>4.192686e-03</td>\n",
              "      <td>2.920026e-05</td>\n",
              "      <td>0.000000e+00</td>\n",
              "      <td>6.560955e-14</td>\n",
              "      <td>5.315781e-16</td>\n",
              "      <td>7.426083e-12</td>\n",
              "      <td>1.468913e-07</td>\n",
              "      <td>1.379399e-14</td>\n",
              "      <td>1.626984e-07</td>\n",
              "      <td>6.045890e-10</td>\n",
              "      <td>9.225829e-13</td>\n",
              "      <td>1.485070e-02</td>\n",
              "      <td>4.326431e-04</td>\n",
              "      <td>0.000000e+00</td>\n",
              "      <td>9.443523e-03</td>\n",
              "      <td>6.182942e-03</td>\n",
              "      <td>7.239945e-03</td>\n",
              "      <td>4.755552e-03</td>\n",
              "      <td>1.501988e-05</td>\n",
              "      <td>...</td>\n",
              "      <td>8.886746e-13</td>\n",
              "      <td>6.540271e-03</td>\n",
              "      <td>0.000000e+00</td>\n",
              "      <td>2.393573e-07</td>\n",
              "      <td>5.021914e-09</td>\n",
              "      <td>1.988326e-05</td>\n",
              "      <td>1.887377e-07</td>\n",
              "      <td>2.522580e-02</td>\n",
              "      <td>8.487068e-03</td>\n",
              "      <td>1.442247e-02</td>\n",
              "      <td>2.581052e-04</td>\n",
              "      <td>1.771486e-08</td>\n",
              "      <td>4.702387e-03</td>\n",
              "      <td>8.294467e-06</td>\n",
              "      <td>4.322746e-07</td>\n",
              "      <td>1.062911e-05</td>\n",
              "      <td>5.306579e-03</td>\n",
              "      <td>4.156256e-07</td>\n",
              "      <td>4.797449e-05</td>\n",
              "      <td>8.548055e-03</td>\n",
              "      <td>8.629078e-09</td>\n",
              "      <td>0.000000e+00</td>\n",
              "      <td>1.546615e-12</td>\n",
              "      <td>1.665008e-02</td>\n",
              "      <td>2.114580e-13</td>\n",
              "      <td>1.359344e-03</td>\n",
              "      <td>3.985972e-09</td>\n",
              "      <td>6.469399e-03</td>\n",
              "      <td>1.712945e-03</td>\n",
              "      <td>9.223351e-03</td>\n",
              "      <td>2.670114e-15</td>\n",
              "      <td>1.287762e-05</td>\n",
              "      <td>1.910667e-05</td>\n",
              "      <td>2.906016e-02</td>\n",
              "      <td>7.309450e-05</td>\n",
              "      <td>9.721697e-07</td>\n",
              "      <td>1.307677e-11</td>\n",
              "      <td>1.605199e-13</td>\n",
              "      <td>1.641497e-02</td>\n",
              "      <td>2.136101e-06</td>\n",
              "    </tr>\n",
              "    <tr>\n",
              "      <th>...</th>\n",
              "      <td>...</td>\n",
              "      <td>...</td>\n",
              "      <td>...</td>\n",
              "      <td>...</td>\n",
              "      <td>...</td>\n",
              "      <td>...</td>\n",
              "      <td>...</td>\n",
              "      <td>...</td>\n",
              "      <td>...</td>\n",
              "      <td>...</td>\n",
              "      <td>...</td>\n",
              "      <td>...</td>\n",
              "      <td>...</td>\n",
              "      <td>...</td>\n",
              "      <td>...</td>\n",
              "      <td>...</td>\n",
              "      <td>...</td>\n",
              "      <td>...</td>\n",
              "      <td>...</td>\n",
              "      <td>...</td>\n",
              "      <td>...</td>\n",
              "      <td>...</td>\n",
              "      <td>...</td>\n",
              "      <td>...</td>\n",
              "      <td>...</td>\n",
              "      <td>...</td>\n",
              "      <td>...</td>\n",
              "      <td>...</td>\n",
              "      <td>...</td>\n",
              "      <td>...</td>\n",
              "      <td>...</td>\n",
              "      <td>...</td>\n",
              "      <td>...</td>\n",
              "      <td>...</td>\n",
              "      <td>...</td>\n",
              "      <td>...</td>\n",
              "      <td>...</td>\n",
              "      <td>...</td>\n",
              "      <td>...</td>\n",
              "      <td>...</td>\n",
              "      <td>...</td>\n",
              "      <td>...</td>\n",
              "      <td>...</td>\n",
              "      <td>...</td>\n",
              "      <td>...</td>\n",
              "      <td>...</td>\n",
              "      <td>...</td>\n",
              "      <td>...</td>\n",
              "      <td>...</td>\n",
              "      <td>...</td>\n",
              "      <td>...</td>\n",
              "      <td>...</td>\n",
              "      <td>...</td>\n",
              "      <td>...</td>\n",
              "      <td>...</td>\n",
              "      <td>...</td>\n",
              "      <td>...</td>\n",
              "      <td>...</td>\n",
              "      <td>...</td>\n",
              "      <td>...</td>\n",
              "      <td>...</td>\n",
              "      <td>...</td>\n",
              "      <td>...</td>\n",
              "      <td>...</td>\n",
              "      <td>...</td>\n",
              "      <td>...</td>\n",
              "      <td>...</td>\n",
              "      <td>...</td>\n",
              "      <td>...</td>\n",
              "      <td>...</td>\n",
              "      <td>...</td>\n",
              "      <td>...</td>\n",
              "      <td>...</td>\n",
              "      <td>...</td>\n",
              "      <td>...</td>\n",
              "      <td>...</td>\n",
              "      <td>...</td>\n",
              "      <td>...</td>\n",
              "      <td>...</td>\n",
              "      <td>...</td>\n",
              "      <td>...</td>\n",
              "    </tr>\n",
              "    <tr>\n",
              "      <th>topic_195</th>\n",
              "      <td>2.127919e-11</td>\n",
              "      <td>7.925381e-12</td>\n",
              "      <td>2.933328e-07</td>\n",
              "      <td>1.521277e-04</td>\n",
              "      <td>6.667250e-09</td>\n",
              "      <td>6.483342e-10</td>\n",
              "      <td>3.102425e-13</td>\n",
              "      <td>1.034415e-08</td>\n",
              "      <td>4.296599e-07</td>\n",
              "      <td>4.038126e-03</td>\n",
              "      <td>2.149370e-09</td>\n",
              "      <td>1.050314e-09</td>\n",
              "      <td>1.527016e-09</td>\n",
              "      <td>2.360217e-02</td>\n",
              "      <td>9.203438e-03</td>\n",
              "      <td>5.268095e-07</td>\n",
              "      <td>2.718137e-07</td>\n",
              "      <td>1.222024e-08</td>\n",
              "      <td>9.940474e-11</td>\n",
              "      <td>4.233794e-05</td>\n",
              "      <td>7.855557e-07</td>\n",
              "      <td>3.092882e-08</td>\n",
              "      <td>1.148810e-02</td>\n",
              "      <td>4.055335e-13</td>\n",
              "      <td>1.218380e-12</td>\n",
              "      <td>3.208115e-11</td>\n",
              "      <td>6.857112e-10</td>\n",
              "      <td>2.509310e-08</td>\n",
              "      <td>1.755879e-10</td>\n",
              "      <td>6.763586e-10</td>\n",
              "      <td>1.023997e-08</td>\n",
              "      <td>2.188128e-09</td>\n",
              "      <td>7.192313e-10</td>\n",
              "      <td>1.090727e-02</td>\n",
              "      <td>2.224776e-08</td>\n",
              "      <td>2.975246e-11</td>\n",
              "      <td>1.489886e-05</td>\n",
              "      <td>1.819442e-09</td>\n",
              "      <td>4.366924e-08</td>\n",
              "      <td>3.357209e-11</td>\n",
              "      <td>...</td>\n",
              "      <td>7.276986e-08</td>\n",
              "      <td>2.405617e-10</td>\n",
              "      <td>1.851652e-08</td>\n",
              "      <td>1.581321e-08</td>\n",
              "      <td>2.099590e-03</td>\n",
              "      <td>4.765047e-09</td>\n",
              "      <td>3.602153e-08</td>\n",
              "      <td>2.108399e-10</td>\n",
              "      <td>1.384313e-10</td>\n",
              "      <td>5.294882e-09</td>\n",
              "      <td>1.642742e-02</td>\n",
              "      <td>9.396013e-06</td>\n",
              "      <td>9.947721e-04</td>\n",
              "      <td>7.352352e-08</td>\n",
              "      <td>2.378847e-09</td>\n",
              "      <td>2.938919e-07</td>\n",
              "      <td>1.597798e-08</td>\n",
              "      <td>1.181574e-03</td>\n",
              "      <td>6.371402e-10</td>\n",
              "      <td>1.636006e-08</td>\n",
              "      <td>5.321825e-08</td>\n",
              "      <td>9.732675e-13</td>\n",
              "      <td>1.605552e-02</td>\n",
              "      <td>4.876375e-11</td>\n",
              "      <td>4.039429e-07</td>\n",
              "      <td>2.212616e-07</td>\n",
              "      <td>4.285248e-07</td>\n",
              "      <td>8.177153e-10</td>\n",
              "      <td>2.155535e-10</td>\n",
              "      <td>2.550983e-09</td>\n",
              "      <td>1.070783e-09</td>\n",
              "      <td>7.683708e-09</td>\n",
              "      <td>7.312877e-09</td>\n",
              "      <td>8.311184e-04</td>\n",
              "      <td>2.655292e-05</td>\n",
              "      <td>5.119797e-07</td>\n",
              "      <td>1.708407e-06</td>\n",
              "      <td>1.072459e-09</td>\n",
              "      <td>1.899275e-05</td>\n",
              "      <td>1.275900e-05</td>\n",
              "    </tr>\n",
              "    <tr>\n",
              "      <th>topic_196</th>\n",
              "      <td>2.095711e-16</td>\n",
              "      <td>1.491310e-07</td>\n",
              "      <td>1.502502e-11</td>\n",
              "      <td>1.780375e-14</td>\n",
              "      <td>1.368373e-04</td>\n",
              "      <td>8.741858e-16</td>\n",
              "      <td>1.636506e-05</td>\n",
              "      <td>1.350797e-05</td>\n",
              "      <td>1.943518e-12</td>\n",
              "      <td>4.528012e-09</td>\n",
              "      <td>1.672131e-01</td>\n",
              "      <td>2.567229e-10</td>\n",
              "      <td>3.620725e-10</td>\n",
              "      <td>5.777501e-09</td>\n",
              "      <td>3.239881e-11</td>\n",
              "      <td>5.286139e-10</td>\n",
              "      <td>4.105924e-11</td>\n",
              "      <td>3.920780e-11</td>\n",
              "      <td>5.844530e-03</td>\n",
              "      <td>1.974748e-10</td>\n",
              "      <td>8.723256e-04</td>\n",
              "      <td>5.080784e-11</td>\n",
              "      <td>7.217092e-12</td>\n",
              "      <td>5.365902e-01</td>\n",
              "      <td>5.870669e-08</td>\n",
              "      <td>2.201662e-09</td>\n",
              "      <td>3.892177e-12</td>\n",
              "      <td>1.514957e-10</td>\n",
              "      <td>2.662536e-07</td>\n",
              "      <td>9.199507e-12</td>\n",
              "      <td>2.888421e-12</td>\n",
              "      <td>2.075987e-10</td>\n",
              "      <td>3.798269e-01</td>\n",
              "      <td>1.205009e-07</td>\n",
              "      <td>5.777976e-11</td>\n",
              "      <td>1.696241e-09</td>\n",
              "      <td>2.898078e-10</td>\n",
              "      <td>1.025270e-11</td>\n",
              "      <td>1.387382e-06</td>\n",
              "      <td>9.311784e-09</td>\n",
              "      <td>...</td>\n",
              "      <td>2.380959e-09</td>\n",
              "      <td>1.174894e-10</td>\n",
              "      <td>1.372649e-06</td>\n",
              "      <td>1.560687e-07</td>\n",
              "      <td>4.028050e-09</td>\n",
              "      <td>3.832000e-09</td>\n",
              "      <td>3.859172e-10</td>\n",
              "      <td>3.285142e-11</td>\n",
              "      <td>5.689477e-12</td>\n",
              "      <td>1.212599e-05</td>\n",
              "      <td>3.069420e-11</td>\n",
              "      <td>0.000000e+00</td>\n",
              "      <td>5.676263e-07</td>\n",
              "      <td>2.579750e-04</td>\n",
              "      <td>9.282553e-14</td>\n",
              "      <td>3.452025e-10</td>\n",
              "      <td>2.656627e-13</td>\n",
              "      <td>2.078455e-11</td>\n",
              "      <td>1.647200e-12</td>\n",
              "      <td>3.044267e-11</td>\n",
              "      <td>1.579020e-15</td>\n",
              "      <td>1.139587e-05</td>\n",
              "      <td>4.220415e-11</td>\n",
              "      <td>3.987532e-11</td>\n",
              "      <td>5.711915e-16</td>\n",
              "      <td>1.556488e-13</td>\n",
              "      <td>1.383681e-11</td>\n",
              "      <td>3.408778e-13</td>\n",
              "      <td>2.322569e-11</td>\n",
              "      <td>4.839894e-13</td>\n",
              "      <td>2.474113e-11</td>\n",
              "      <td>1.718935e-07</td>\n",
              "      <td>4.093796e-14</td>\n",
              "      <td>9.593623e-08</td>\n",
              "      <td>4.066496e-09</td>\n",
              "      <td>5.885753e-11</td>\n",
              "      <td>6.297572e-11</td>\n",
              "      <td>9.533700e-03</td>\n",
              "      <td>3.024232e-14</td>\n",
              "      <td>1.298010e-13</td>\n",
              "    </tr>\n",
              "    <tr>\n",
              "      <th>topic_197</th>\n",
              "      <td>9.116296e-06</td>\n",
              "      <td>1.319523e-02</td>\n",
              "      <td>6.543616e-02</td>\n",
              "      <td>6.682482e-13</td>\n",
              "      <td>4.050370e-02</td>\n",
              "      <td>2.054135e-04</td>\n",
              "      <td>1.191590e-08</td>\n",
              "      <td>1.766862e-04</td>\n",
              "      <td>1.005807e-07</td>\n",
              "      <td>1.487357e-08</td>\n",
              "      <td>3.029715e-02</td>\n",
              "      <td>4.570656e-02</td>\n",
              "      <td>8.293969e-02</td>\n",
              "      <td>9.034720e-03</td>\n",
              "      <td>1.135239e-08</td>\n",
              "      <td>4.590039e-12</td>\n",
              "      <td>1.240264e-02</td>\n",
              "      <td>6.974903e-02</td>\n",
              "      <td>1.692313e-04</td>\n",
              "      <td>1.223740e-02</td>\n",
              "      <td>2.896509e-02</td>\n",
              "      <td>5.925457e-04</td>\n",
              "      <td>2.264001e-02</td>\n",
              "      <td>7.657441e-13</td>\n",
              "      <td>9.952635e-03</td>\n",
              "      <td>1.233512e-02</td>\n",
              "      <td>1.298703e-09</td>\n",
              "      <td>2.279724e-02</td>\n",
              "      <td>5.201128e-07</td>\n",
              "      <td>7.366000e-08</td>\n",
              "      <td>3.350863e-03</td>\n",
              "      <td>1.436415e-02</td>\n",
              "      <td>4.440768e-09</td>\n",
              "      <td>2.053315e-02</td>\n",
              "      <td>1.250194e-02</td>\n",
              "      <td>2.965429e-09</td>\n",
              "      <td>3.146781e-02</td>\n",
              "      <td>3.258485e-07</td>\n",
              "      <td>2.033073e-02</td>\n",
              "      <td>5.151837e-07</td>\n",
              "      <td>...</td>\n",
              "      <td>2.622769e-02</td>\n",
              "      <td>1.008341e-02</td>\n",
              "      <td>1.149484e-10</td>\n",
              "      <td>1.439611e-05</td>\n",
              "      <td>2.048724e-04</td>\n",
              "      <td>2.024074e-02</td>\n",
              "      <td>8.870560e-07</td>\n",
              "      <td>4.988541e-02</td>\n",
              "      <td>5.249268e-04</td>\n",
              "      <td>8.100897e-10</td>\n",
              "      <td>7.541784e-04</td>\n",
              "      <td>6.395942e-06</td>\n",
              "      <td>5.244483e-11</td>\n",
              "      <td>1.431071e-06</td>\n",
              "      <td>9.736722e-11</td>\n",
              "      <td>3.312576e-09</td>\n",
              "      <td>2.532355e-02</td>\n",
              "      <td>2.171647e-03</td>\n",
              "      <td>1.819624e-09</td>\n",
              "      <td>3.318850e-10</td>\n",
              "      <td>3.106459e-02</td>\n",
              "      <td>4.393093e-14</td>\n",
              "      <td>8.160520e-13</td>\n",
              "      <td>1.203465e-07</td>\n",
              "      <td>1.916637e-02</td>\n",
              "      <td>1.991244e-13</td>\n",
              "      <td>4.711966e-04</td>\n",
              "      <td>8.659735e-10</td>\n",
              "      <td>1.208236e-02</td>\n",
              "      <td>1.810200e-02</td>\n",
              "      <td>5.972348e-03</td>\n",
              "      <td>9.625794e-03</td>\n",
              "      <td>3.158570e-03</td>\n",
              "      <td>7.944213e-03</td>\n",
              "      <td>7.866415e-03</td>\n",
              "      <td>2.491168e-02</td>\n",
              "      <td>4.555962e-03</td>\n",
              "      <td>1.166548e-04</td>\n",
              "      <td>7.396732e-03</td>\n",
              "      <td>2.792074e-07</td>\n",
              "    </tr>\n",
              "    <tr>\n",
              "      <th>topic_198</th>\n",
              "      <td>2.433282e-08</td>\n",
              "      <td>8.430040e-03</td>\n",
              "      <td>5.400353e-10</td>\n",
              "      <td>0.000000e+00</td>\n",
              "      <td>2.408794e-06</td>\n",
              "      <td>1.703302e-05</td>\n",
              "      <td>8.053629e-09</td>\n",
              "      <td>2.094311e-03</td>\n",
              "      <td>9.450334e-03</td>\n",
              "      <td>5.377207e-08</td>\n",
              "      <td>2.168500e-07</td>\n",
              "      <td>9.933001e-03</td>\n",
              "      <td>1.084843e-12</td>\n",
              "      <td>8.741852e-03</td>\n",
              "      <td>1.314622e-04</td>\n",
              "      <td>5.219411e-03</td>\n",
              "      <td>6.272955e-14</td>\n",
              "      <td>1.789672e-12</td>\n",
              "      <td>3.603815e-02</td>\n",
              "      <td>6.946744e-15</td>\n",
              "      <td>2.346679e-08</td>\n",
              "      <td>1.328367e-08</td>\n",
              "      <td>1.768386e-07</td>\n",
              "      <td>3.267087e-12</td>\n",
              "      <td>4.352267e-11</td>\n",
              "      <td>4.294625e-03</td>\n",
              "      <td>1.253051e-04</td>\n",
              "      <td>8.247258e-03</td>\n",
              "      <td>1.445818e-15</td>\n",
              "      <td>3.490835e-05</td>\n",
              "      <td>9.852659e-03</td>\n",
              "      <td>6.672790e-16</td>\n",
              "      <td>0.000000e+00</td>\n",
              "      <td>4.328718e-02</td>\n",
              "      <td>6.947008e-07</td>\n",
              "      <td>4.396888e-08</td>\n",
              "      <td>7.130433e-04</td>\n",
              "      <td>2.075968e-09</td>\n",
              "      <td>5.497042e-02</td>\n",
              "      <td>0.000000e+00</td>\n",
              "      <td>...</td>\n",
              "      <td>3.640338e-06</td>\n",
              "      <td>3.606706e-02</td>\n",
              "      <td>1.014277e-01</td>\n",
              "      <td>1.555812e-02</td>\n",
              "      <td>9.175037e-04</td>\n",
              "      <td>4.369516e-06</td>\n",
              "      <td>7.624836e-05</td>\n",
              "      <td>7.612047e-02</td>\n",
              "      <td>3.143898e-03</td>\n",
              "      <td>1.340565e-08</td>\n",
              "      <td>1.124944e-02</td>\n",
              "      <td>1.172834e-11</td>\n",
              "      <td>8.173314e-03</td>\n",
              "      <td>3.153365e-02</td>\n",
              "      <td>0.000000e+00</td>\n",
              "      <td>1.193102e-05</td>\n",
              "      <td>5.977813e-02</td>\n",
              "      <td>1.022210e-02</td>\n",
              "      <td>4.463966e-05</td>\n",
              "      <td>2.171417e-02</td>\n",
              "      <td>4.700036e-02</td>\n",
              "      <td>0.000000e+00</td>\n",
              "      <td>9.073511e-12</td>\n",
              "      <td>3.075551e-08</td>\n",
              "      <td>3.810453e-11</td>\n",
              "      <td>1.448067e-02</td>\n",
              "      <td>6.128179e-11</td>\n",
              "      <td>6.892136e-12</td>\n",
              "      <td>1.875447e-02</td>\n",
              "      <td>6.924752e-15</td>\n",
              "      <td>9.606580e-03</td>\n",
              "      <td>2.378776e-04</td>\n",
              "      <td>8.044344e-10</td>\n",
              "      <td>4.678217e-02</td>\n",
              "      <td>7.358648e-02</td>\n",
              "      <td>1.631188e-04</td>\n",
              "      <td>8.448735e-03</td>\n",
              "      <td>5.564319e-06</td>\n",
              "      <td>1.551595e-07</td>\n",
              "      <td>1.628949e-02</td>\n",
              "    </tr>\n",
              "    <tr>\n",
              "      <th>topic_199</th>\n",
              "      <td>6.708618e-13</td>\n",
              "      <td>0.000000e+00</td>\n",
              "      <td>3.008213e-08</td>\n",
              "      <td>5.117574e-10</td>\n",
              "      <td>9.177049e-03</td>\n",
              "      <td>1.739384e-15</td>\n",
              "      <td>7.942167e-03</td>\n",
              "      <td>4.316946e-13</td>\n",
              "      <td>5.732573e-12</td>\n",
              "      <td>5.909448e-09</td>\n",
              "      <td>4.062949e-04</td>\n",
              "      <td>5.932153e-10</td>\n",
              "      <td>8.906631e-10</td>\n",
              "      <td>1.475789e-08</td>\n",
              "      <td>2.676972e-08</td>\n",
              "      <td>1.195442e-13</td>\n",
              "      <td>6.436639e-12</td>\n",
              "      <td>2.835043e-05</td>\n",
              "      <td>4.217364e-13</td>\n",
              "      <td>1.325332e-02</td>\n",
              "      <td>2.651718e-03</td>\n",
              "      <td>1.246053e-11</td>\n",
              "      <td>2.046321e-02</td>\n",
              "      <td>9.971002e-11</td>\n",
              "      <td>1.298141e-12</td>\n",
              "      <td>1.803479e-13</td>\n",
              "      <td>2.192650e-14</td>\n",
              "      <td>9.410383e-12</td>\n",
              "      <td>1.736102e-09</td>\n",
              "      <td>3.561280e-06</td>\n",
              "      <td>4.585308e-09</td>\n",
              "      <td>1.325808e-10</td>\n",
              "      <td>0.000000e+00</td>\n",
              "      <td>4.202731e-15</td>\n",
              "      <td>2.384306e-13</td>\n",
              "      <td>1.525065e-12</td>\n",
              "      <td>1.750691e-14</td>\n",
              "      <td>5.123781e-12</td>\n",
              "      <td>3.592022e-08</td>\n",
              "      <td>9.285748e-13</td>\n",
              "      <td>...</td>\n",
              "      <td>1.905167e-03</td>\n",
              "      <td>4.918158e-09</td>\n",
              "      <td>1.534606e-16</td>\n",
              "      <td>7.653029e-11</td>\n",
              "      <td>7.428909e-13</td>\n",
              "      <td>7.837730e-03</td>\n",
              "      <td>1.496031e-08</td>\n",
              "      <td>1.539412e-08</td>\n",
              "      <td>0.000000e+00</td>\n",
              "      <td>2.647075e-08</td>\n",
              "      <td>1.493567e-07</td>\n",
              "      <td>1.740643e-14</td>\n",
              "      <td>5.023766e-15</td>\n",
              "      <td>9.714629e-09</td>\n",
              "      <td>4.824119e-13</td>\n",
              "      <td>3.360702e-12</td>\n",
              "      <td>2.988461e-13</td>\n",
              "      <td>3.272867e-13</td>\n",
              "      <td>6.671131e-06</td>\n",
              "      <td>2.574124e-13</td>\n",
              "      <td>2.381917e-12</td>\n",
              "      <td>0.000000e+00</td>\n",
              "      <td>6.911764e-03</td>\n",
              "      <td>4.845423e-03</td>\n",
              "      <td>2.632067e-14</td>\n",
              "      <td>8.960688e-03</td>\n",
              "      <td>1.860299e-12</td>\n",
              "      <td>1.367633e-09</td>\n",
              "      <td>1.289363e-14</td>\n",
              "      <td>2.666709e-12</td>\n",
              "      <td>3.908818e-10</td>\n",
              "      <td>9.936452e-10</td>\n",
              "      <td>1.259151e-12</td>\n",
              "      <td>9.433948e-04</td>\n",
              "      <td>2.818269e-11</td>\n",
              "      <td>2.227374e-10</td>\n",
              "      <td>7.054285e-03</td>\n",
              "      <td>1.524690e-14</td>\n",
              "      <td>5.356635e-15</td>\n",
              "      <td>6.340819e-09</td>\n",
              "    </tr>\n",
              "  </tbody>\n",
              "</table>\n",
              "<p>200 rows × 653795 columns</p>\n",
              "</div>"
            ],
            "text/plain": [
              "                 240000        240001  ...        509998        509999\n",
              "topic_0    7.591373e-07  4.139946e-09  ...  1.364797e-06  5.022316e-08\n",
              "topic_1    9.578021e-03  4.273166e-09  ...  2.421484e-10  1.888744e-09\n",
              "topic_2    5.984965e-10  2.010423e-08  ...  8.586354e-03  7.500758e-09\n",
              "topic_3    2.049694e-09  3.572142e-09  ...  5.271539e-02  2.742208e-02\n",
              "topic_4    2.552778e-02  1.667947e-09  ...  1.641497e-02  2.136101e-06\n",
              "...                 ...           ...  ...           ...           ...\n",
              "topic_195  2.127919e-11  7.925381e-12  ...  1.899275e-05  1.275900e-05\n",
              "topic_196  2.095711e-16  1.491310e-07  ...  3.024232e-14  1.298010e-13\n",
              "topic_197  9.116296e-06  1.319523e-02  ...  7.396732e-03  2.792074e-07\n",
              "topic_198  2.433282e-08  8.430040e-03  ...  1.551595e-07  1.628949e-02\n",
              "topic_199  6.708618e-13  0.000000e+00  ...  5.356635e-15  6.340819e-09\n",
              "\n",
              "[200 rows x 653795 columns]"
            ]
          },
          "metadata": {
            "tags": []
          },
          "execution_count": 12
        }
      ]
    },
    {
      "cell_type": "code",
      "metadata": {
        "id": "vv1voLW0-8nf"
      },
      "source": [
        "with open('drive/MyDrive/DATASETS/MachineLearning'\n",
        "          '/topicmodeling/vw_data/y_valid.vw.txt') as f:\n",
        "    y_valid = f.read().split('\\n')\n",
        "\n",
        "with open('drive/MyDrive/DATASETS/MachineLearning'\n",
        "          '/topicmodeling/vw_data/y_train.vw.txt') as f:\n",
        "    y_train = f.read().split('\\n')"
      ],
      "execution_count": 22,
      "outputs": []
    },
    {
      "cell_type": "code",
      "metadata": {
        "id": "QTrYAblm1qDB"
      },
      "source": [
        "X_train = []\n",
        "for i in tqdm(range(len(y_train))):\n",
        "    X_train.append(X_train_pd[i].values)"
      ],
      "execution_count": null,
      "outputs": []
    },
    {
      "cell_type": "code",
      "metadata": {
        "id": "PvxZurt61r7q"
      },
      "source": [
        "X_train = np.array(X_train)\n",
        "y_train = np.array(y_train)"
      ],
      "execution_count": 24,
      "outputs": []
    },
    {
      "cell_type": "code",
      "metadata": {
        "id": "xW-tVlYeBiIk"
      },
      "source": [
        "X_train, y_train = shuffle(X_train, y_train)"
      ],
      "execution_count": 28,
      "outputs": []
    },
    {
      "cell_type": "code",
      "metadata": {
        "id": "QIBbYhhQBnmb"
      },
      "source": [
        "X_train = X_train[:20000]\n",
        "y_train = y_train[:20000]"
      ],
      "execution_count": 30,
      "outputs": []
    },
    {
      "cell_type": "code",
      "metadata": {
        "id": "E2P9PulK1s_0"
      },
      "source": [
        "classifier = RandomForestClassifier(n_estimators=10)"
      ],
      "execution_count": 31,
      "outputs": []
    },
    {
      "cell_type": "code",
      "metadata": {
        "colab": {
          "base_uri": "https://localhost:8080/"
        },
        "id": "Qdrj2jct1uh1",
        "outputId": "f2b25b14-5b8b-4918-ee04-1745b09c3832"
      },
      "source": [
        "classifier.fit(X_train, y_train)"
      ],
      "execution_count": 32,
      "outputs": [
        {
          "output_type": "execute_result",
          "data": {
            "text/plain": [
              "RandomForestClassifier(bootstrap=True, ccp_alpha=0.0, class_weight=None,\n",
              "                       criterion='gini', max_depth=None, max_features='auto',\n",
              "                       max_leaf_nodes=None, max_samples=None,\n",
              "                       min_impurity_decrease=0.0, min_impurity_split=None,\n",
              "                       min_samples_leaf=1, min_samples_split=2,\n",
              "                       min_weight_fraction_leaf=0.0, n_estimators=10,\n",
              "                       n_jobs=None, oob_score=False, random_state=None,\n",
              "                       verbose=0, warm_start=False)"
            ]
          },
          "metadata": {
            "tags": []
          },
          "execution_count": 32
        }
      ]
    },
    {
      "cell_type": "code",
      "metadata": {
        "id": "S0Co-X1H1wUz"
      },
      "source": [
        "X_valid_pd = model.transform(bv_test)"
      ],
      "execution_count": 33,
      "outputs": []
    },
    {
      "cell_type": "code",
      "metadata": {
        "id": "v_YaXM_21xYW"
      },
      "source": [
        "X_valid = []\n",
        "for i in tqdm(range(len(y_valid))):\n",
        "    X_valid.append(X_valid_pd[i].values)"
      ],
      "execution_count": null,
      "outputs": []
    },
    {
      "cell_type": "code",
      "metadata": {
        "id": "eb7TFNoM1yaO"
      },
      "source": [
        "pred = classifier.predict(X_valid)"
      ],
      "execution_count": 35,
      "outputs": []
    },
    {
      "cell_type": "code",
      "metadata": {
        "colab": {
          "base_uri": "https://localhost:8080/"
        },
        "id": "C5LEq0vT1zk-",
        "outputId": "428b36a6-eef5-466f-d83c-01b3cfb20503"
      },
      "source": [
        "print(classification_report(y_valid, pred, zero_division=1))"
      ],
      "execution_count": 36,
      "outputs": [
        {
          "output_type": "stream",
          "text": [
            "                      precision    recall  f1-score   support\n",
            "\n",
            "             coцсети       0.12      0.05      0.07        39\n",
            "                 nan       0.21      0.16      0.18       208\n",
            "                авто       0.00      1.00      0.00         0\n",
            "          автобизнес       0.00      0.00      0.00         2\n",
            "   английский футбол       1.00      0.00      0.00         1\n",
            "          белоруссия       0.00      0.00      0.00        24\n",
            "              бизнес       0.06      0.03      0.04        70\n",
            "          бокс и мма       0.61      0.34      0.44        32\n",
            "                вещи       0.00      0.00      0.00         5\n",
            "     вирусные ролики       1.00      0.00      0.00         2\n",
            "         внешний вид       0.17      0.06      0.09        16\n",
            "                 все       0.60      0.96      0.74      3356\n",
            "             гаджеты       1.00      0.00      0.00        24\n",
            "               город       0.50      0.06      0.10        18\n",
            "        госэкономика       0.28      0.12      0.17       162\n",
            "                дача       1.00      0.00      0.00        13\n",
            "            движение       1.00      0.00      0.00         6\n",
            "      деловой климат       0.00      0.00      0.00        35\n",
            "              деньги       0.00      0.00      0.00        19\n",
            "          достижения       1.00      0.00      0.00         7\n",
            "                 еда       1.00      0.00      0.00         9\n",
            "               жизнь       1.00      0.00      0.00        11\n",
            "          закавказье       1.00      0.00      0.00         9\n",
            "               звери       0.00      0.00      0.00        21\n",
            "         зимние виды       0.00      0.00      0.00        16\n",
            "                игры       1.00      0.12      0.21        17\n",
            "         инструменты       0.50      0.14      0.22         7\n",
            "            интернет       0.16      0.06      0.08        87\n",
            "           искусство       1.00      0.00      0.00        17\n",
            "             история       1.00      0.00      0.00         4\n",
            "           казахстан       1.00      0.00      0.00         2\n",
            "            квартира       0.62      0.18      0.28        83\n",
            "   киберпреступность       1.00      0.00      0.00         1\n",
            "                кино       0.56      0.18      0.27        77\n",
            "               книги       0.00      0.00      0.00         6\n",
            "           конфликты       0.62      0.15      0.24        33\n",
            "              космос       1.00      0.05      0.10        39\n",
            "            криминал       0.50      0.05      0.09        21\n",
            "            культура       1.00      0.00      0.00         5\n",
            "         летние виды       1.00      0.08      0.15        24\n",
            "                люди       0.31      0.07      0.11        75\n",
            "                мемы       1.00      0.00      0.00         5\n",
            "                 мир       0.17      0.03      0.05        31\n",
            "      мировой бизнес       1.00      0.00      0.00        14\n",
            "        мировой опыт       1.00      0.00      0.00         1\n",
            "              мнения       1.00      0.00      0.00        13\n",
            "            молдавия       1.00      0.00      0.00         4\n",
            "              москва       0.00      0.00      0.00        19\n",
            "              музыка       0.23      0.06      0.09        54\n",
            "            наследие       1.00      0.00      0.00         1\n",
            "               наука       0.54      0.23      0.33        86\n",
            "            общество       0.30      0.16      0.21       369\n",
            "              оружие       0.00      0.00      0.00        29\n",
            "                офис       1.00      0.00      0.00        12\n",
            "            политика       0.39      0.25      0.30       418\n",
            "полиция и спецслужбы       1.00      0.00      0.00        14\n",
            "              пресса       1.00      0.00      0.00        19\n",
            "   преступная россия       0.00      0.00      0.00         3\n",
            "        преступность       0.00      0.00      0.00        36\n",
            "          прибалтика       1.00      0.00      0.00        13\n",
            "        происшествия       0.12      0.02      0.03       124\n",
            "             регионы       1.00      0.00      0.00        27\n",
            "             реклама       1.00      0.00      0.00         1\n",
            "              россия       1.00      0.00      0.00        19\n",
            "               рынки       0.00      0.00      0.00        39\n",
            "     следствие и суд       0.37      0.10      0.16       108\n",
            "             события       1.00      0.00      0.00        31\n",
            "                софт       1.00      0.00      0.00         5\n",
            "    социальная сфера       1.00      0.00      0.00         5\n",
            "        средняя азия       1.00      0.00      0.00        13\n",
            "               стиль       0.58      0.27      0.37        26\n",
            "          тв и радио       0.33      0.02      0.04        51\n",
            "               театр       1.00      0.00      0.00        11\n",
            "             техника       1.00      0.00      0.00        10\n",
            "             украина       0.73      0.58      0.64       238\n",
            "    финансы компаний       1.00      0.00      0.00         3\n",
            "              футбол       0.70      0.16      0.26       101\n",
            "              хоккей       1.00      0.00      0.00         5\n",
            "                часы       1.00      0.25      0.40         4\n",
            "           экономика       0.00      0.00      0.00        10\n",
            "             явления       0.33      0.07      0.11        29\n",
            "\n",
            "            accuracy                           0.56      6604\n",
            "           macro avg       0.61      0.07      0.08      6604\n",
            "        weighted avg       0.52      0.56      0.47      6604\n",
            "\n"
          ],
          "name": "stdout"
        }
      ]
    }
  ]
}