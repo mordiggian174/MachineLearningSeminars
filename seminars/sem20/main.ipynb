{
 "cells": [
  {
   "cell_type": "markdown",
   "metadata": {},
   "source": [
    "# Домашнее задание (пояснение)"
   ]
  },
  {
   "cell_type": "code",
   "execution_count": null,
   "metadata": {
    "colab": {
     "base_uri": "https://localhost:8080/"
    },
    "id": "hOQH7Uea0S9D",
    "outputId": "09f44b0e-fadd-47ff-c941-89bfa1ec5a28"
   },
   "outputs": [
    {
     "name": "stdout",
     "output_type": "stream",
     "text": [
      "--2021-03-12 09:49:03--  https://storage.yandexcloud.net/natasha-nerus/data/nerus_lenta.conllu.gz\n",
      "Resolving storage.yandexcloud.net (storage.yandexcloud.net)... 213.180.193.243, 2a02:6b8::1d9\n",
      "Connecting to storage.yandexcloud.net (storage.yandexcloud.net)|213.180.193.243|:443... connected.\n",
      "HTTP request sent, awaiting response... 200 OK\n",
      "Length: 1961465886 (1.8G) [application/octet-stream]\n",
      "Saving to: ‘nerus_lenta.conllu.gz’\n",
      "\n",
      "nerus_lenta.conllu. 100%[===================>]   1.83G  21.0MB/s    in 92s     \n",
      "\n",
      "2021-03-12 09:50:36 (20.4 MB/s) - ‘nerus_lenta.conllu.gz’ saved [1961465886/1961465886]\n",
      "\n"
     ]
    }
   ],
   "source": [
    "!wget https://storage.yandexcloud.net/natasha-nerus/data/nerus_lenta.conllu.gz"
   ]
  },
  {
   "cell_type": "code",
   "execution_count": null,
   "metadata": {
    "colab": {
     "base_uri": "https://localhost:8080/"
    },
    "id": "7wpf5fE_1s79",
    "outputId": "ee1793be-2a1f-4d3d-f241-5923c60eab22"
   },
   "outputs": [
    {
     "name": "stdout",
     "output_type": "stream",
     "text": [
      "Collecting nerus\n",
      "  Downloading https://files.pythonhosted.org/packages/ef/d7/a9f3efd13d714340fcbf3e35d0167d4d17a522438080558e537793121942/nerus-1.7.0-py3-none-any.whl\n",
      "Installing collected packages: nerus\n",
      "Successfully installed nerus-1.7.0\n"
     ]
    }
   ],
   "source": [
    "!pip install nerus"
   ]
  },
  {
   "cell_type": "code",
   "execution_count": null,
   "metadata": {
    "id": "Bqb5TyV34jk1"
   },
   "outputs": [],
   "source": [
    "from nerus import load_nerus\n",
    "from tqdm.notebook import tqdm"
   ]
  },
  {
   "cell_type": "code",
   "execution_count": null,
   "metadata": {
    "id": "zdarlxw41wKE"
   },
   "outputs": [],
   "source": [
    "docs = load_nerus(\"nerus_lenta.conllu.gz\")"
   ]
  },
  {
   "cell_type": "code",
   "execution_count": null,
   "metadata": {
    "id": "waH27WQ14sNh"
   },
   "outputs": [],
   "source": [
    "list_of_sent = []\n",
    "list_of_tags = []\n",
    "for doc in tqdm(docs):\n",
    "  for sent in doc.sents:\n",
    "    list_of_sent_toks = []\n",
    "    list_of_sent_tags = []\n",
    "    for tok in sent.tokens:\n",
    "      list_of_sent_toks.append(tok.text)\n",
    "      list_of_sent_tags.append(tok.pos)\n",
    "    list_of_sent.append(list_of_sent_toks)\n",
    "    list_of_tags.append(list_of_sent_tags)"
   ]
  },
  {
   "cell_type": "code",
   "execution_count": 15,
   "metadata": {
    "colab": {
     "base_uri": "https://localhost:8080/",
     "height": 232
    },
    "id": "_44yjrwl5Xb6",
    "outputId": "7abb84fb-7ad5-4a9d-9d60-f60c04f7d19f"
   },
   "outputs": [
    {
     "ename": "NameError",
     "evalue": "ignored",
     "output_type": "error",
     "traceback": [
      "\u001b[0;31m---------------------------------------------------------------------------\u001b[0m",
      "\u001b[0;31mNameError\u001b[0m                                 Traceback (most recent call last)",
      "\u001b[0;32m<ipython-input-15-482c4edf78db>\u001b[0m in \u001b[0;36m<module>\u001b[0;34m()\u001b[0m\n\u001b[1;32m      5\u001b[0m \u001b[0mword_to_ind\u001b[0m\u001b[0;34m[\u001b[0m\u001b[0;34m'<UNK>'\u001b[0m\u001b[0;34m]\u001b[0m \u001b[0;34m=\u001b[0m \u001b[0;36m1\u001b[0m\u001b[0;34m\u001b[0m\u001b[0;34m\u001b[0m\u001b[0m\n\u001b[1;32m      6\u001b[0m \u001b[0;34m\u001b[0m\u001b[0m\n\u001b[0;32m----> 7\u001b[0;31m \u001b[0;32mfor\u001b[0m \u001b[0msent\u001b[0m \u001b[0;32min\u001b[0m \u001b[0mlist_of_sent\u001b[0m\u001b[0;34m[\u001b[0m\u001b[0;34m:\u001b[0m\u001b[0;34m-\u001b[0m\u001b[0;36m100\u001b[0m\u001b[0;34m]\u001b[0m\u001b[0;34m:\u001b[0m\u001b[0;34m\u001b[0m\u001b[0;34m\u001b[0m\u001b[0m\n\u001b[0m\u001b[1;32m      8\u001b[0m   \u001b[0;32mfor\u001b[0m \u001b[0mword\u001b[0m \u001b[0;32min\u001b[0m \u001b[0msent\u001b[0m\u001b[0;34m:\u001b[0m\u001b[0;34m\u001b[0m\u001b[0;34m\u001b[0m\u001b[0m\n\u001b[1;32m      9\u001b[0m     \u001b[0;32mif\u001b[0m \u001b[0mword\u001b[0m \u001b[0;32mnot\u001b[0m \u001b[0;32min\u001b[0m \u001b[0mword_to_ind\u001b[0m\u001b[0;34m:\u001b[0m\u001b[0;34m\u001b[0m\u001b[0;34m\u001b[0m\u001b[0m\n",
      "\u001b[0;31mNameError\u001b[0m: name 'list_of_sent' is not defined"
     ]
    }
   ],
   "source": [
    "word_to_ind = dict()\n",
    "pos_to_ind = dict()\n",
    "\n",
    "word_to_ind['<PAD>'] = 0\n",
    "word_to_ind['<UNK>'] = 1\n",
    "\n",
    "for sent in list_of_sent[:-100]:\n",
    "  for word in sent:\n",
    "    if word not in word_to_ind:\n",
    "      word_to_ind[word] = len(word_to_ind)\n",
    "\n",
    "pos_to_ind['<PAD>'] = 0\n",
    "for sent in list_of_tags[:-100]:\n",
    "  for tag in sent:\n",
    "    if tag not in pos_to_ind:\n",
    "      pos_to_ind[tag] = len(pos_to_ind)"
   ]
  },
  {
   "cell_type": "code",
   "execution_count": null,
   "metadata": {
    "colab": {
     "base_uri": "https://localhost:8080/"
    },
    "id": "rAJA4sEp5cq8",
    "outputId": "56794d5b-405a-4f9d-f78a-9498cb9bf2fc"
   },
   "outputs": [
    {
     "data": {
      "text/plain": [
       "64842"
      ]
     },
     "execution_count": 70,
     "metadata": {
      "tags": []
     },
     "output_type": "execute_result"
    }
   ],
   "source": [
    "len(word_to_ind)"
   ]
  },
  {
   "cell_type": "code",
   "execution_count": null,
   "metadata": {
    "id": "igtmQ08G6L7P"
   },
   "outputs": [],
   "source": [
    "X_train_data = []\n",
    "X_test_data = []\n",
    "Y_train_data = []\n",
    "Y_test_data = []\n",
    "\n",
    "for sent in list_of_sent[:-100]:\n",
    "  x_data = []\n",
    "  for word in sent:\n",
    "    x_data.append(word_to_ind.get(word, 0))\n",
    "  X_train_data.append(x_data)\n",
    "\n",
    "for sent in list_of_sent[-100:]:\n",
    "  x_data = []\n",
    "  for word in sent:\n",
    "    x_data.append(word_to_ind.get(word, 0))\n",
    "  X_test_data.append(x_data)\n",
    "\n",
    "for sent in list_of_tags[:-100]:\n",
    "  x_data = []\n",
    "  for word in sent:\n",
    "    x_data.append(pos_to_ind.get(word, 0))\n",
    "  Y_train_data.append(x_data)\n",
    "\n",
    "for sent in list_of_tags[-100:]:\n",
    "  x_data = []\n",
    "  for word in sent:\n",
    "    x_data.append(pos_to_ind.get(word, 0))\n",
    "  Y_test_data.append(x_data)"
   ]
  },
  {
   "cell_type": "code",
   "execution_count": null,
   "metadata": {
    "colab": {
     "base_uri": "https://localhost:8080/"
    },
    "id": "AjVvgdP-63bv",
    "outputId": "e88bc982-bdde-4ca5-94c6-239b9415e04c"
   },
   "outputs": [
    {
     "data": {
      "text/plain": [
       "(27606, 100, 27606, 100)"
      ]
     },
     "execution_count": 72,
     "metadata": {
      "tags": []
     },
     "output_type": "execute_result"
    }
   ],
   "source": [
    "len(X_train_data), len(X_test_data), len(Y_train_data), len(Y_test_data)"
   ]
  },
  {
   "cell_type": "code",
   "execution_count": null,
   "metadata": {
    "id": "Bbp29P-r7a-h"
   },
   "outputs": [],
   "source": [
    "import numpy as np"
   ]
  },
  {
   "cell_type": "code",
   "execution_count": null,
   "metadata": {
    "id": "H5maemzx7iP8"
   },
   "outputs": [],
   "source": [
    "x_cur_batch = X_train_data[:8]\n",
    "y_cur_batch = Y_train_data[:8]\n"
   ]
  },
  {
   "cell_type": "code",
   "execution_count": null,
   "metadata": {
    "id": "Sh3n2Mqr7ezq"
   },
   "outputs": [],
   "source": [
    "x_batch = np.zeros(shape=(len(x_cur_batch), max(list(map(len, x_cur_batch)))), )\n",
    "y_batch = np.zeros(shape=(len(y_cur_batch), max(list(map(len, y_cur_batch)))), )"
   ]
  },
  {
   "cell_type": "code",
   "execution_count": null,
   "metadata": {
    "colab": {
     "base_uri": "https://localhost:8080/"
    },
    "id": "q4j5QupL7I5I",
    "outputId": "ece58c3a-6197-43a6-9c1e-616c3c22ed1b"
   },
   "outputs": [
    {
     "data": {
      "text/plain": [
       "((8, 26), (8, 26))"
      ]
     },
     "execution_count": 76,
     "metadata": {
      "tags": []
     },
     "output_type": "execute_result"
    }
   ],
   "source": [
    "x_batch.shape, y_batch.shape"
   ]
  },
  {
   "cell_type": "code",
   "execution_count": null,
   "metadata": {
    "id": "m4V7KrhW7Kit"
   },
   "outputs": [],
   "source": [
    "for i, sent in enumerate(x_cur_batch):\n",
    "  x_batch[i, :len(sent)] = sent\n",
    "\n",
    "for i, sent in enumerate(y_cur_batch):\n",
    "  y_batch[i, :len(sent)] = sent"
   ]
  },
  {
   "cell_type": "code",
   "execution_count": 4,
   "metadata": {
    "id": "xYNelewI8XXw"
   },
   "outputs": [],
   "source": [
    "import torch"
   ]
  },
  {
   "cell_type": "code",
   "execution_count": null,
   "metadata": {
    "id": "l0FuDkk68Z36"
   },
   "outputs": [],
   "source": [
    "x_batch_tr = torch.from_numpy(x_batch).long()\n",
    "y_batch_tr = torch.from_numpy(y_batch).long()"
   ]
  },
  {
   "cell_type": "code",
   "execution_count": null,
   "metadata": {
    "colab": {
     "base_uri": "https://localhost:8080/"
    },
    "id": "0xkDsKg58oGf",
    "outputId": "23266f39-6ea3-4b45-a7f9-a11778671f81"
   },
   "outputs": [
    {
     "data": {
      "text/plain": [
       "tensor([[  2,   3,   4,   5,   6,   7,   8,   9,  10,  11,  12,  13,  14,  15,\n",
       "          16,  17,  18,  19,   9,  20,  21,  22,  23,   0,   0,   0],\n",
       "        [ 24,  25,  26,   9,  27,  28,  29,  30,  31,  32,  33,  10,  34,   9,\n",
       "          35,   9,  36,  37,  38,  39,   9,  40,  41,  10,  42,  23],\n",
       "        [  2,  43,   9,  44,  45,  46,  47,  10,  13,  48,  49,  37,  50,  51,\n",
       "          52,  23,   0,   0,   0,   0,   0,   0,   0,   0,   0,   0],\n",
       "        [ 53,  54,  55,  56,  57,   9,  44,  17,  18,  58,  59,  60,  61,  62,\n",
       "          63,  64,  65,  55,  23,   0,   0,   0,   0,   0,   0,   0],\n",
       "        [ 24,  66,  67,   9,  10,  68,  69,  18,  19,  70,  71,  72,  73,  23,\n",
       "           0,   0,   0,   0,   0,   0,   0,   0,   0,   0,   0,   0],\n",
       "        [ 74,  75,  76,  77,  78,   9,  79,  80,  81,  23,   0,   0,   0,   0,\n",
       "           0,   0,   0,   0,   0,   0,   0,   0,   0,   0,   0,   0],\n",
       "        [ 82,  83,  84,  85,  86,  87,  88,  89,  90,  91,  92,  23,   0,   0,\n",
       "           0,   0,   0,   0,   0,   0,   0,   0,   0,   0,   0,   0],\n",
       "        [ 93,  94,  95,  96,  13,  10,  97,  98,  99,   3, 100, 101, 102, 103,\n",
       "         104, 105, 106, 107, 108,   9, 109, 110,  23,   0,   0,   0]])"
      ]
     },
     "execution_count": 80,
     "metadata": {
      "tags": []
     },
     "output_type": "execute_result"
    }
   ],
   "source": [
    "x_batch_tr"
   ]
  },
  {
   "cell_type": "code",
   "execution_count": null,
   "metadata": {
    "colab": {
     "base_uri": "https://localhost:8080/"
    },
    "id": "MiLWvsU_8tef",
    "outputId": "a5fbb302-14b7-4150-cf69-8ce7fa041c89"
   },
   "outputs": [
    {
     "data": {
      "text/plain": [
       "tensor([[ 1,  2,  3,  1,  4,  4,  5,  6,  2,  7,  1,  4,  5,  8,  3,  1,  2,  1,\n",
       "          6,  5,  4,  4,  6,  0,  0,  0],\n",
       "        [ 2,  1,  4,  6,  8,  9,  3,  1,  5,  1,  1,  2,  3,  6,  3,  6,  3, 10,\n",
       "          3,  1,  6, 10,  8,  2,  4,  6],\n",
       "        [ 1,  5,  6, 11,  3,  1,  1,  2,  4,  6,  1, 10,  1,  1,  1,  6,  0,  0,\n",
       "          0,  0,  0,  0,  0,  0,  0,  0],\n",
       "        [ 2,  1,  1,  5,  3,  6, 11,  1,  2,  3,  1,  2,  1,  5,  8,  2, 12,  1,\n",
       "          6,  0,  0,  0,  0,  0,  0,  0],\n",
       "        [ 2,  1,  4,  6,  2,  3,  1,  2,  1,  5, 12,  1,  1,  6,  0,  0,  0,  0,\n",
       "          0,  0,  0,  0,  0,  0,  0,  0],\n",
       "        [ 9,  2, 12,  1, 12,  6, 11,  1,  8,  6,  0,  0,  0,  0,  0,  0,  0,  0,\n",
       "          0,  0,  0,  0,  0,  0,  0,  0],\n",
       "        [ 3,  3,  1, 13,  5,  1,  1,  3,  1,  3,  1,  6,  0,  0,  0,  0,  0,  0,\n",
       "          0,  0,  0,  0,  0,  0,  0,  0],\n",
       "        [ 2,  9,  5,  1,  4,  2,  4,  4,  4,  2,  1,  1,  5,  1,  1,  2,  1,  1,\n",
       "          1,  6,  5,  4,  6,  0,  0,  0]])"
      ]
     },
     "execution_count": 81,
     "metadata": {
      "tags": []
     },
     "output_type": "execute_result"
    }
   ],
   "source": [
    "y_batch_tr"
   ]
  },
  {
   "cell_type": "code",
   "execution_count": null,
   "metadata": {
    "id": "TFLQGzcP8ujp"
   },
   "outputs": [],
   "source": [
    "class Encoder(torch.nn.Module):\n",
    "    @property\n",
    "    def device(self):\n",
    "        return next(self.parameters()).device\n",
    "        \n",
    "    def __init__(self,\n",
    "                 vocab_dim,\n",
    "                 emb_dim = 10, \n",
    "                 hidden_dim = 10,\n",
    "                 num_layers = 3,\n",
    "                 output_dim = len(pos_to_ind),\n",
    "                 bidirectional = False):\n",
    "        super(Encoder, self).__init__()\n",
    "        \n",
    "        self.num_direction = int(bidirectional + 1)\n",
    "        self.emb_dim = emb_dim\n",
    "        self.hidden_dim = hidden_dim\n",
    "\n",
    "        self.embedding = torch.nn.Embedding(vocab_dim, emb_dim, padding_idx=0)\n",
    "\n",
    "        self.encoder = torch.nn.LSTM(\n",
    "            emb_dim, hidden_dim, num_layers, bidirectional = bidirectional, batch_first=True)\n",
    "        \n",
    "        self.linear = torch.nn.Linear(10, output_dim)\n",
    "    def forward(self, input):\n",
    "        input = self.embedding(input)\n",
    "        # input = torch.transpose(input, 0, 1)\n",
    "        d, _ = self.encoder(input)\n",
    "        # input = torch.transpose(input, 0, 1)\n",
    "        return self.linear(d)"
   ]
  },
  {
   "cell_type": "code",
   "execution_count": null,
   "metadata": {
    "id": "pUvmSIt49Gt_"
   },
   "outputs": [],
   "source": [
    "model = Encoder(vocab_dim = len(word_to_ind))"
   ]
  },
  {
   "cell_type": "code",
   "execution_count": null,
   "metadata": {
    "id": "QC6HNS699pXP"
   },
   "outputs": [],
   "source": [
    "loss_function = torch.nn.CrossEntropyLoss(ignore_index=0)"
   ]
  },
  {
   "cell_type": "code",
   "execution_count": null,
   "metadata": {
    "id": "IkSnWw7e9Wd5"
   },
   "outputs": [],
   "source": [
    "pred = model(x_batch_tr)"
   ]
  },
  {
   "cell_type": "code",
   "execution_count": null,
   "metadata": {
    "colab": {
     "base_uri": "https://localhost:8080/"
    },
    "id": "qiSX_Zav9zBz",
    "outputId": "b561e2cf-3206-4767-b32d-44f1e6ddf237"
   },
   "outputs": [
    {
     "data": {
      "text/plain": [
       "torch.Size([8, 26, 18])"
      ]
     },
     "execution_count": 98,
     "metadata": {
      "tags": []
     },
     "output_type": "execute_result"
    }
   ],
   "source": [
    "pred.shape"
   ]
  },
  {
   "cell_type": "code",
   "execution_count": null,
   "metadata": {
    "colab": {
     "base_uri": "https://localhost:8080/"
    },
    "id": "yGWrnour9X5q",
    "outputId": "c5eaf26d-b44f-4ce6-a08d-d03321b75ff6"
   },
   "outputs": [
    {
     "data": {
      "text/plain": [
       "tensor(3.0964, grad_fn=<NllLoss2DBackward>)"
      ]
     },
     "execution_count": 99,
     "metadata": {
      "tags": []
     },
     "output_type": "execute_result"
    }
   ],
   "source": [
    "loss_function(pred.transpose(1, 2), y_batch_tr)"
   ]
  },
  {
   "cell_type": "markdown",
   "metadata": {
    "id": "fRrYO1HtBYMP"
   },
   "source": [
    "# Task 3"
   ]
  },
  {
   "cell_type": "code",
   "execution_count": null,
   "metadata": {
    "id": "rAVFNP329w9z"
   },
   "outputs": [],
   "source": [
    "dataset = torch.utils.data.TensorDataset(x_batch_tr, x_batch_tr)"
   ]
  },
  {
   "cell_type": "code",
   "execution_count": null,
   "metadata": {
    "colab": {
     "base_uri": "https://localhost:8080/"
    },
    "id": "sp5QTPvoBgAF",
    "outputId": "6e8d6857-e5fd-42a0-c0ee-9b20d82e6061"
   },
   "outputs": [
    {
     "data": {
      "text/plain": [
       "(torch.Size([8, 26]), torch.Size([8, 26]))"
      ]
     },
     "execution_count": 115,
     "metadata": {
      "tags": []
     },
     "output_type": "execute_result"
    }
   ],
   "source": [
    "x_batch_tr.shape, x_batch_tr.shape"
   ]
  },
  {
   "cell_type": "code",
   "execution_count": null,
   "metadata": {
    "id": "UQpu7AYG-Z8c"
   },
   "outputs": [],
   "source": [
    "for x_b, y_b in torch.utils.data.DataLoader(dataset, batch_size=2):\n",
    "  pass"
   ]
  },
  {
   "cell_type": "code",
   "execution_count": null,
   "metadata": {
    "colab": {
     "base_uri": "https://localhost:8080/"
    },
    "id": "wAfc9kzrBCcx",
    "outputId": "fd8b5b41-6799-447f-f87d-e1eaf3f5e0ec"
   },
   "outputs": [
    {
     "data": {
      "text/plain": [
       "torch.Size([2, 26])"
      ]
     },
     "execution_count": 112,
     "metadata": {
      "tags": []
     },
     "output_type": "execute_result"
    }
   ],
   "source": [
    "x_b.shape"
   ]
  },
  {
   "cell_type": "code",
   "execution_count": null,
   "metadata": {
    "colab": {
     "base_uri": "https://localhost:8080/"
    },
    "id": "tsEEfPEfBVeJ",
    "outputId": "d8146c64-00fd-48b2-cfbd-b7d30b61e340"
   },
   "outputs": [
    {
     "data": {
      "text/plain": [
       "torch.Size([2, 26])"
      ]
     },
     "execution_count": 113,
     "metadata": {
      "tags": []
     },
     "output_type": "execute_result"
    }
   ],
   "source": [
    "y_b.shape"
   ]
  },
  {
   "cell_type": "code",
   "execution_count": null,
   "metadata": {
    "id": "-rFu2tJzBWLy"
   },
   "outputs": [],
   "source": [
    "class Encoder(torch.nn.Module):\n",
    "    @property\n",
    "    def device(self):\n",
    "        return next(self.parameters()).device\n",
    "        \n",
    "    def __init__(self,\n",
    "                 vocab_dim,\n",
    "                 emb_dim = 10, \n",
    "                 hidden_dim = 10,\n",
    "                 num_layers = 3,\n",
    "                 output_dim = len(pos_to_ind),\n",
    "                 bidirectional = False):\n",
    "        super(Encoder, self).__init__()\n",
    "        \n",
    "        self.num_direction = int(bidirectional + 1)\n",
    "        self.emb_dim = emb_dim\n",
    "        self.hidden_dim = hidden_dim\n",
    "\n",
    "        self.embedding = torch.nn.Embedding(vocab_dim, emb_dim, padding_idx=0)\n",
    "\n",
    "        self.encoder = torch.nn.LSTM(\n",
    "            emb_dim, hidden_dim, num_layers, bidirectional = bidirectional, batch_first=True)\n",
    "        \n",
    "        self.linear = torch.nn.Linear(hidden_dim+hidden_dim, 1000)\n",
    "    def forward(self, input):\n",
    "        input = self.embedding(input)\n",
    "        _, (h, c) = self.encoder(input)\n",
    "\n",
    "        act = torch.cat([h, c], dim=-1).transpose(0, 1)[:, -1, :]\n",
    "        return self.linear(act)\n",
    "        # act = act.reshape(len(input), -1)\n",
    "        # return self.linear(d)"
   ]
  },
  {
   "cell_type": "markdown",
   "metadata": {
    "id": "io1aExfcRF3g"
   },
   "source": [
    "Немного добавил к семинару"
   ]
  },
  {
   "cell_type": "code",
   "execution_count": 44,
   "metadata": {
    "id": "0mvD5J6sEM_y"
   },
   "outputs": [],
   "source": [
    "class Decoder(torch.nn.Module):\n",
    "    @property\n",
    "    def device(self):\n",
    "        return next(self.parameters()).device\n",
    "    def __init__(self, vocab_dim, \n",
    "                 emb_dim=128, \n",
    "                 hidden_dim=256, \n",
    "                 latent_dim=1000):\n",
    "        super(Decoder, self).__init__()\n",
    "        \n",
    "\n",
    "        self.latent_to_h0 = torch.nn.Linear(latent_dim, hidden_dim)\n",
    "        self.latent_to_c0 = torch.nn.Linear(latent_dim, hidden_dim)\n",
    "        \n",
    "        self.emb = torch.nn.Embedding(vocab_dim, emb_dim)\n",
    "\n",
    "        self.lstm = torch.nn.LSTM(emb_dim, hidden_dim, batch_first=True)\n",
    "\n",
    "        self.logits = torch.nn.Linear(hidden_dim, vocab_dim)\n",
    "        \n",
    "    def forward(self, word_ix, latent_vector=None, h = None, c = None):\n",
    "\n",
    "        if h is None and c is None:\n",
    "            initial_cell = self.latent_to_h0(latent_vector)[None]\n",
    "            initial_hid = self.latent_to_c0(latent_vector)[None]\n",
    "        else:\n",
    "           initial_cell = c\n",
    "           initial_hid = h\n",
    "        \n",
    "        emb = self.emb(word_ix)\n",
    "\n",
    "        lstm_out, (h, c) = self.lstm(emb, (initial_cell, initial_hid))\n",
    "\n",
    "        return self.logits(lstm_out), (h, c)"
   ]
  },
  {
   "cell_type": "code",
   "execution_count": null,
   "metadata": {
    "id": "qKjOv_4sCoK6"
   },
   "outputs": [],
   "source": [
    "model = Encoder(vocab_dim = len(word_to_ind))"
   ]
  },
  {
   "cell_type": "code",
   "execution_count": null,
   "metadata": {
    "colab": {
     "base_uri": "https://localhost:8080/"
    },
    "id": "ueqQ_CR7CrNe",
    "outputId": "42664a0f-6d81-444a-a696-2286af34549e"
   },
   "outputs": [
    {
     "data": {
      "text/plain": [
       "torch.Size([2, 1000])"
      ]
     },
     "execution_count": 146,
     "metadata": {
      "tags": []
     },
     "output_type": "execute_result"
    }
   ],
   "source": [
    "model(x_b).shape"
   ]
  },
  {
   "cell_type": "code",
   "execution_count": 45,
   "metadata": {
    "id": "PWk3Aw1hCuqv"
   },
   "outputs": [],
   "source": [
    "decoder = Decoder(vocab_dim = 100)"
   ]
  },
  {
   "cell_type": "code",
   "execution_count": 46,
   "metadata": {
    "id": "GVKgahOoRynT"
   },
   "outputs": [],
   "source": [
    "latent = torch.randn(2, 1000)"
   ]
  },
  {
   "cell_type": "code",
   "execution_count": 47,
   "metadata": {
    "id": "x_2gukd2SHQt"
   },
   "outputs": [],
   "source": [
    "x = torch.ones(2, 1).long()*word_to_ind.get('<START>', 1) # Да в словарь еще <START> токен нужно добавить"
   ]
  },
  {
   "cell_type": "code",
   "execution_count": 48,
   "metadata": {
    "id": "qPCAcHGTSDuY"
   },
   "outputs": [],
   "source": [
    "max_len = 10\n",
    "pred = torch.zeros((len(x), max_len))\n",
    "h_i = None\n",
    "c_i = None\n",
    "for i in range(max_len):\n",
    "  p_i, (h_i, c_i) = decoder(x, latent_vector=x_b, h = h_i, c = c_i)\n",
    "  pred[:, i] = torch.argmax(p_i[:, 0, :], dim=-1)"
   ]
  },
  {
   "cell_type": "code",
   "execution_count": 49,
   "metadata": {
    "colab": {
     "base_uri": "https://localhost:8080/"
    },
    "id": "OoofApMuTYPD",
    "outputId": "30ff6dcf-6c21-415e-d1a4-da59f2abc99b"
   },
   "outputs": [
    {
     "data": {
      "text/plain": [
       "tensor([[ 9., 90., 57., 57., 94., 94., 94., 94., 94., 94.],\n",
       "        [74., 94., 94., 94., 94., 94., 94., 94., 94., 94.]])"
      ]
     },
     "execution_count": 49,
     "metadata": {
      "tags": []
     },
     "output_type": "execute_result"
    }
   ],
   "source": [
    "pred"
   ]
  },
  {
   "cell_type": "code",
   "execution_count": null,
   "metadata": {
    "id": "Ig2GMJX9T9_a"
   },
   "outputs": [],
   "source": []
  }
 ],
 "metadata": {
  "colab": {
   "collapsed_sections": [],
   "name": "Untitled1.ipynb",
   "provenance": []
  },
  "kernelspec": {
   "display_name": "Python 3",
   "language": "python",
   "name": "python3"
  },
  "language_info": {
   "codemirror_mode": {
    "name": "ipython",
    "version": 3
   },
   "file_extension": ".py",
   "mimetype": "text/x-python",
   "name": "python",
   "nbconvert_exporter": "python",
   "pygments_lexer": "ipython3",
   "version": "3.7.3"
  }
 },
 "nbformat": 4,
 "nbformat_minor": 1
}
